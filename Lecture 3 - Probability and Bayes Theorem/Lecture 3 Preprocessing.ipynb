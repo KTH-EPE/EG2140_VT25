{
 "cells": [
  {
   "cell_type": "markdown",
   "metadata": {
    "cell_id": "b21767a64dc245cea37c1e13fa7c76f8",
    "deepnote_app_coordinates": {
     "h": 6,
     "w": 12,
     "x": 0,
     "y": 1
    },
    "deepnote_cell_height": 81.953125,
    "deepnote_cell_type": "markdown"
   },
   "source": [
    "# Lecture 1: Data preprocessing"
   ]
  },
  {
   "cell_type": "markdown",
   "metadata": {
    "cell_id": "edbfcac993274967a10e08c9903791e1",
    "deepnote_app_coordinates": {
     "h": 8,
     "w": 12,
     "x": 0,
     "y": 8
    },
    "deepnote_cell_height": 153.140625,
    "deepnote_cell_type": "markdown",
    "tags": []
   },
   "source": [
    "## Copyright\n",
    "These notebooks, authored by Hussain Kazmi, are licensed under the AGPL License; you may not use this file except in compliance with the License. Notebooks are distributed on an \"AS IS\" BASIS, WITHOUT WARRANTIES OR CONDITIONS OF ANY KIND, either express or implied. Support from KU Leuven and InnoEnergy is gratefully acknowledged."
   ]
  },
  {
   "cell_type": "code",
   "execution_count": 1,
   "metadata": {
    "cell_id": "2ed7e6826bf443adb88cd4e2ae5a44f0",
    "deepnote_app_coordinates": {
     "h": 21,
     "w": 12,
     "x": 0,
     "y": 17
    },
    "deepnote_cell_type": "code",
    "deepnote_to_be_reexecuted": false,
    "execution_millis": 6202,
    "execution_start": 1690199764216,
    "source_hash": null
   },
   "outputs": [
    {
     "name": "stdout",
     "output_type": "stream",
     "text": [
      "Defaulting to user installation because normal site-packages is not writeable\n",
      "Requirement already satisfied: missingno in /Users/larsno/Library/Python/3.9/lib/python/site-packages (0.5.2)\n",
      "Requirement already satisfied: numpy in /Users/larsno/Library/Python/3.9/lib/python/site-packages (from missingno) (1.26.0)\n",
      "Requirement already satisfied: matplotlib in /Users/larsno/Library/Python/3.9/lib/python/site-packages (from missingno) (3.8.2)\n",
      "Requirement already satisfied: scipy in /Users/larsno/Library/Python/3.9/lib/python/site-packages (from missingno) (1.11.4)\n",
      "Requirement already satisfied: seaborn in /Users/larsno/Library/Python/3.9/lib/python/site-packages (from missingno) (0.13.2)\n",
      "Requirement already satisfied: contourpy>=1.0.1 in /Users/larsno/Library/Python/3.9/lib/python/site-packages (from matplotlib->missingno) (1.2.0)\n",
      "Requirement already satisfied: cycler>=0.10 in /Users/larsno/Library/Python/3.9/lib/python/site-packages (from matplotlib->missingno) (0.12.1)\n",
      "Requirement already satisfied: fonttools>=4.22.0 in /Users/larsno/Library/Python/3.9/lib/python/site-packages (from matplotlib->missingno) (4.46.0)\n",
      "Requirement already satisfied: kiwisolver>=1.3.1 in /Users/larsno/Library/Python/3.9/lib/python/site-packages (from matplotlib->missingno) (1.4.5)\n",
      "Requirement already satisfied: packaging>=20.0 in /Users/larsno/Library/Python/3.9/lib/python/site-packages (from matplotlib->missingno) (23.1)\n",
      "Requirement already satisfied: pillow>=8 in /Users/larsno/Library/Python/3.9/lib/python/site-packages (from matplotlib->missingno) (10.1.0)\n",
      "Requirement already satisfied: pyparsing>=2.3.1 in /Users/larsno/Library/Python/3.9/lib/python/site-packages (from matplotlib->missingno) (3.1.1)\n",
      "Requirement already satisfied: python-dateutil>=2.7 in /Users/larsno/Library/Python/3.9/lib/python/site-packages (from matplotlib->missingno) (2.8.2)\n",
      "Requirement already satisfied: importlib-resources>=3.2.0 in /Users/larsno/Library/Python/3.9/lib/python/site-packages (from matplotlib->missingno) (6.1.1)\n",
      "Requirement already satisfied: pandas>=1.2 in /Users/larsno/Library/Python/3.9/lib/python/site-packages (from seaborn->missingno) (2.1.1)\n",
      "Requirement already satisfied: zipp>=3.1.0 in /Users/larsno/Library/Python/3.9/lib/python/site-packages (from importlib-resources>=3.2.0->matplotlib->missingno) (3.16.2)\n",
      "Requirement already satisfied: pytz>=2020.1 in /Users/larsno/Library/Python/3.9/lib/python/site-packages (from pandas>=1.2->seaborn->missingno) (2023.3.post1)\n",
      "Requirement already satisfied: tzdata>=2022.1 in /Users/larsno/Library/Python/3.9/lib/python/site-packages (from pandas>=1.2->seaborn->missingno) (2023.3)\n",
      "Requirement already satisfied: six>=1.5 in /Library/Developer/CommandLineTools/Library/Frameworks/Python3.framework/Versions/3.9/lib/python3.9/site-packages (from python-dateutil>=2.7->matplotlib->missingno) (1.15.0)\n",
      "\n",
      "\u001b[1m[\u001b[0m\u001b[34;49mnotice\u001b[0m\u001b[1;39;49m]\u001b[0m\u001b[39;49m A new release of pip is available: \u001b[0m\u001b[31;49m24.1\u001b[0m\u001b[39;49m -> \u001b[0m\u001b[32;49m25.0.1\u001b[0m\n",
      "\u001b[1m[\u001b[0m\u001b[34;49mnotice\u001b[0m\u001b[1;39;49m]\u001b[0m\u001b[39;49m To update, run: \u001b[0m\u001b[32;49m/Library/Developer/CommandLineTools/usr/bin/python3 -m pip install --upgrade pip\u001b[0m\n",
      "Note: you may need to restart the kernel to use updated packages.\n"
     ]
    }
   ],
   "source": [
    "# Installing extra dependencies for this lecture\n",
    "%pip install missingno"
   ]
  },
  {
   "cell_type": "markdown",
   "metadata": {
    "cell_id": "5d6051068c2f47beaae267083bc5488d",
    "deepnote_app_coordinates": {
     "h": 4,
     "w": 12,
     "x": 0,
     "y": 39
    },
    "deepnote_cell_height": 69.96875,
    "deepnote_cell_type": "markdown",
    "tags": []
   },
   "source": [
    "## Background"
   ]
  },
  {
   "cell_type": "markdown",
   "metadata": {
    "cell_id": "dc74312bfe234cf894880f5209323eb1",
    "deepnote_app_coordinates": {
     "h": 10,
     "w": 12,
     "x": 0,
     "y": 44
    },
    "deepnote_cell_height": 178.328125,
    "deepnote_cell_type": "markdown"
   },
   "source": [
    "Many data scientists estimate that more than half of their job consists of acquiring the correct data and then getting rid of irregularities in it. This is often referred to as the preprocessing step. Data wrangling, a closely related concept, refers to the process of transforming raw data into a form that is more suitable for downstream analysis such as forecasting and optimization. Taken together, they represent the necessary steps before data analysis.\n",
    "\n",
    "In this session, we begin by considering the different elements in this pipeline, ranging from loading data to visualizing, filtering and resampling it. We also introduce a number of strategies to deal with missing data."
   ]
  },
  {
   "cell_type": "markdown",
   "metadata": {
    "cell_id": "2e9a94f4701e42518cc7b6d396fcab01",
    "deepnote_app_coordinates": {
     "h": 12,
     "w": 12,
     "x": 0,
     "y": 55
    },
    "deepnote_cell_height": 234.3125,
    "deepnote_cell_type": "markdown"
   },
   "source": [
    "## Loading data\n",
    "There are a number of ways in which data can be loaded into your program for processing. This includes loading data directly from .csv files (which are interoperable with Excel), [pickle](https://docs.python.org/2/library/pickle.html) files (which are a Python data format for storing binary data), and [H5py](https://www.h5py.org) files (which are a file format for large datasets), besides many others. It is also obviously possible (in fact quite common) to retrieve data from databases or through web APIs.\n",
    "\n",
    "This section introduces how to load data in a number of different formats, and what these different choices can mean for the execution speed of your program."
   ]
  },
  {
   "cell_type": "markdown",
   "metadata": {
    "cell_id": "909a8b29902540df9270675abb9c9c5d",
    "deepnote_app_coordinates": {
     "h": 11,
     "w": 12,
     "x": 0,
     "y": 68
    },
    "deepnote_cell_height": 189.921875,
    "deepnote_cell_type": "markdown"
   },
   "source": [
    "### Reading from CSV files\n",
    "\n",
    "In this lecture and the remainder of the course, we will rely heavily on [numpy](https://numpy.org) and [pandas](https://pandas.pydata.org). While numpy is a general purpose toolbox for manipulating numerical data in the form of arrays, matrices and tensors in Python, pandas allows users to work with structured datasets (e.g. in case your data has both numerical and categorical values etc.). It also offers users a large variety of built-in utilities to quickly process the data. These are, of course, handy tools that minimize the amount of work you need to do before you get to the interesting part, which is data analysis."
   ]
  },
  {
   "cell_type": "markdown",
   "metadata": {
    "cell_id": "55b4216d63d54f1fa7447a08cfc7045a",
    "deepnote_app_coordinates": {
     "h": 6,
     "w": 12,
     "x": 0,
     "y": 80
    },
    "deepnote_cell_height": 97.140625,
    "deepnote_cell_type": "markdown"
   },
   "source": [
    "We begin by importing the libraries that we will use in this lecture. In case you do not have one or more of these libraries, Python will throw an error. In this case, you will need to install the necessary libraries depending on the operating system. This can often be done using the [pip](https://pip.pypa.io/en/stable/quickstart/) package, although other ways exist as well (for instance, through a package manager)."
   ]
  },
  {
   "cell_type": "code",
   "execution_count": 2,
   "metadata": {
    "ExecuteTime": {
     "end_time": "2020-07-03T19:38:24.179986Z",
     "start_time": "2020-07-03T19:38:22.624459Z"
    },
    "cell_id": "24fee0d4bdb245f487654cea1d8261a0",
    "deepnote_app_coordinates": {
     "h": 8,
     "w": 12,
     "x": 0,
     "y": 87
    },
    "deepnote_cell_type": "code",
    "deepnote_to_be_reexecuted": false,
    "execution_millis": 3436,
    "execution_start": 1690200208339,
    "source_hash": null
   },
   "outputs": [],
   "source": [
    "import pandas as pd\n",
    "import numpy as np\n",
    "import datetime # To measure execution time etc.\n",
    "import pickle # To load files stored in the Pickle format\n",
    "import matplotlib.pyplot as plt # For visualizing data\n",
    "import missingno as msno # For dealing with missing values in the data\n",
    "import io"
   ]
  },
  {
   "cell_type": "markdown",
   "metadata": {
    "cell_id": "f1ebdfc188124343ae153ea4b5a6e0da",
    "deepnote_app_coordinates": {
     "h": 5,
     "w": 12,
     "x": 0,
     "y": 96
    },
    "deepnote_cell_height": 97.140625,
    "deepnote_cell_type": "markdown"
   },
   "source": [
    "Now, we can use the pandas library to import the csv file containing our data. This file exists in the same folder and can therefore be read simply with the read_csv command from the Pandas library. In case, you wish to load a file from a different folder, you will need to specify the appropriate path. "
   ]
  },
  {
   "cell_type": "code",
   "execution_count": 3,
   "metadata": {
    "ExecuteTime": {
     "end_time": "2020-07-03T19:41:20.413205Z",
     "start_time": "2020-07-03T19:41:19.933736Z"
    },
    "cell_id": "43d8712ed17e453fa0a9dc1e74ecb1bf",
    "deepnote_app_coordinates": {
     "h": 4,
     "w": 12,
     "x": 0,
     "y": 102
    },
    "deepnote_cell_type": "code",
    "deepnote_to_be_reexecuted": false,
    "execution_millis": 1116,
    "execution_start": 1690200240782,
    "source_hash": null
   },
   "outputs": [],
   "source": [
    "cons = pd.read_csv('LoadData.csv', header=None)\n",
    "cons = cons.add_prefix('House')"
   ]
  },
  {
   "cell_type": "markdown",
   "metadata": {
    "cell_id": "47a403af09bf482eac2aa87c0572d361",
    "deepnote_app_coordinates": {
     "h": 34,
     "w": 12,
     "x": 0,
     "y": 107
    },
    "deepnote_cell_height": 596.203125,
    "deepnote_cell_type": "markdown"
   },
   "source": [
    "A few important input arguments for the _read_csv_ function include:\n",
    "1. _header_: defining the headers in the input csv data (in this case we set it to None to avoid setting the first row as header names); \n",
    "2. _Sep_ and _delimiter_: these are used to identify how subsequent entries are read in the csv file (comma by default, a csv file literally is an abbreviation of a comma separated value file);\n",
    "3. _decimal_: defines the character to recognize as decimal point (e.g. you will need to use ‘,’ for data originating from some European sources);\n",
    "4. _usecols_: This argument can be used to read only a subset of the columns. Using this parameter can result in much faster parsing time and lower memory usage (depending on the chosen subset).\n",
    "\n",
    "There are also a number of other interesting arguments to the _read_csv_ function, which can be used to deal with specific cases. For more information, see [here](https://pandas.pydata.org/pandas-docs/stable/reference/api/pandas.read_csv.html). These are not too important for now, as the data we are considering is not big at all.\n",
    "\n",
    "You will note that we are also adding a prefix in the _read_csv_ function now. This has fundamentally the effect of adding a _House_ as a prefix to all the column names in the loaded dataset.\n",
    "\n",
    "The data itself can be seen as a matrix which can be interpreted as:\n",
    "1. The columns represent individual buildings: each column is electricity demand data for one (simulated) Belgian household (in total, 200 buildings).\n",
    "2. The rows represent time: each row is a new time step, so row 1 corresponds to electricity demand in all the buildings on the first time step and so on.\n",
    "\n",
    "This data consists of electricity demand data from 200 (simulated) buildings, sampled at a 15 minute interval (i.e. quarter hourly), for a total of 350 days. More details about this dataset can be found [here](http://dx.doi.org/10.1109/TII.2013.2240309). If you want to use the data in your projects, please cite: W. Labeeuw, G. Deconinck, \"Residential Electrical Load Model based on Mixture Model Clustering and Markov Models,\" IEEE Trans. on Industrial Informatics, Vol. 9, No. 3, Aug. 2013, pp. 1561-1569."
   ]
  },
  {
   "cell_type": "markdown",
   "metadata": {
    "cell_id": "5bf71f8d074b49c4af40e1c290bd250c",
    "deepnote_app_coordinates": {
     "h": 5,
     "w": 12,
     "x": 0,
     "y": 142
    },
    "deepnote_cell_height": 74.75,
    "deepnote_cell_type": "markdown"
   },
   "source": [
    "To see all the columns in your dataframe, use .columns. Informative naming of columns can go a long way in minimizing documentation requirements later in the project."
   ]
  },
  {
   "cell_type": "code",
   "execution_count": 4,
   "metadata": {
    "ExecuteTime": {
     "end_time": "2020-07-03T19:38:26.479970Z",
     "start_time": "2020-07-03T19:38:26.476687Z"
    },
    "cell_id": "9583ad3b73cc44bfbc29c626ca5bb133",
    "deepnote_app_coordinates": {
     "h": 9,
     "w": 12,
     "x": 0,
     "y": 148
    },
    "deepnote_cell_type": "code",
    "deepnote_to_be_reexecuted": false,
    "execution_millis": 20,
    "execution_start": 1690200249371,
    "source_hash": null
   },
   "outputs": [
    {
     "name": "stdout",
     "output_type": "stream",
     "text": [
      "Index(['House0', 'House1', 'House2', 'House3', 'House4', 'House5', 'House6',\n",
      "       'House7', 'House8', 'House9',\n",
      "       ...\n",
      "       'House190', 'House191', 'House192', 'House193', 'House194', 'House195',\n",
      "       'House196', 'House197', 'House198', 'House199'],\n",
      "      dtype='object', length=200)\n"
     ]
    }
   ],
   "source": [
    "print(cons.columns)"
   ]
  },
  {
   "cell_type": "markdown",
   "metadata": {
    "cell_id": "d2e82242338d46b38f12d114f8247613",
    "deepnote_app_coordinates": {
     "h": 5,
     "w": 12,
     "x": 0,
     "y": 158
    },
    "deepnote_cell_height": 74.75,
    "deepnote_cell_type": "markdown"
   },
   "source": [
    "This does not show all the columns, as you may have guessed from the ellipsis (...). This can be remedied easily by casting the column names into a list."
   ]
  },
  {
   "cell_type": "code",
   "execution_count": 5,
   "metadata": {
    "ExecuteTime": {
     "end_time": "2020-07-03T19:38:27.647475Z",
     "start_time": "2020-07-03T19:38:27.644283Z"
    },
    "cell_id": "b3ce133c567e434f917b3a1f23ac40d4",
    "deepnote_app_coordinates": {
     "h": 5,
     "w": 12,
     "x": 0,
     "y": 164
    },
    "deepnote_cell_type": "code",
    "deepnote_to_be_reexecuted": false,
    "execution_millis": 114,
    "execution_start": 1690200266633,
    "source_hash": null
   },
   "outputs": [
    {
     "name": "stdout",
     "output_type": "stream",
     "text": [
      "['House0', 'House1', 'House2', 'House3', 'House4', 'House5', 'House6', 'House7', 'House8', 'House9', 'House10', 'House11', 'House12', 'House13', 'House14', 'House15', 'House16', 'House17', 'House18', 'House19', 'House20', 'House21', 'House22', 'House23', 'House24', 'House25', 'House26', 'House27', 'House28', 'House29', 'House30', 'House31', 'House32', 'House33', 'House34', 'House35', 'House36', 'House37', 'House38', 'House39', 'House40', 'House41', 'House42', 'House43', 'House44', 'House45', 'House46', 'House47', 'House48', 'House49', 'House50', 'House51', 'House52', 'House53', 'House54', 'House55', 'House56', 'House57', 'House58', 'House59', 'House60', 'House61', 'House62', 'House63', 'House64', 'House65', 'House66', 'House67', 'House68', 'House69', 'House70', 'House71', 'House72', 'House73', 'House74', 'House75', 'House76', 'House77', 'House78', 'House79', 'House80', 'House81', 'House82', 'House83', 'House84', 'House85', 'House86', 'House87', 'House88', 'House89', 'House90', 'House91', 'House92', 'House93', 'House94', 'House95', 'House96', 'House97', 'House98', 'House99', 'House100', 'House101', 'House102', 'House103', 'House104', 'House105', 'House106', 'House107', 'House108', 'House109', 'House110', 'House111', 'House112', 'House113', 'House114', 'House115', 'House116', 'House117', 'House118', 'House119', 'House120', 'House121', 'House122', 'House123', 'House124', 'House125', 'House126', 'House127', 'House128', 'House129', 'House130', 'House131', 'House132', 'House133', 'House134', 'House135', 'House136', 'House137', 'House138', 'House139', 'House140', 'House141', 'House142', 'House143', 'House144', 'House145', 'House146', 'House147', 'House148', 'House149', 'House150', 'House151', 'House152', 'House153', 'House154', 'House155', 'House156', 'House157', 'House158', 'House159', 'House160', 'House161', 'House162', 'House163', 'House164', 'House165', 'House166', 'House167', 'House168', 'House169', 'House170', 'House171', 'House172', 'House173', 'House174', 'House175', 'House176', 'House177', 'House178', 'House179', 'House180', 'House181', 'House182', 'House183', 'House184', 'House185', 'House186', 'House187', 'House188', 'House189', 'House190', 'House191', 'House192', 'House193', 'House194', 'House195', 'House196', 'House197', 'House198', 'House199']\n"
     ]
    }
   ],
   "source": [
    "print(list(cons.columns))"
   ]
  },
  {
   "cell_type": "markdown",
   "metadata": {
    "cell_id": "e6d6662125a14aadb4f06c4ae0bbe3e9",
    "deepnote_app_coordinates": {
     "h": 4,
     "w": 12,
     "x": 0,
     "y": 170
    },
    "deepnote_cell_height": 74.75,
    "deepnote_cell_type": "markdown"
   },
   "source": [
    "There you have it, successfully loaded data from 200 different houses! Note that you can print out prettier looking lists using the pprint command."
   ]
  },
  {
   "cell_type": "markdown",
   "metadata": {
    "cell_id": "6a1491e372d84b1a9930c1e5559d15c1",
    "deepnote_app_coordinates": {
     "h": 3,
     "w": 12,
     "x": 0,
     "y": 175
    },
    "deepnote_cell_height": 61.953125,
    "deepnote_cell_type": "markdown"
   },
   "source": [
    "### First steps with the data"
   ]
  },
  {
   "cell_type": "markdown",
   "metadata": {
    "cell_id": "c53f03fd6e1844baa6227079fc7c574c",
    "deepnote_app_coordinates": {
     "h": 5,
     "w": 12,
     "x": 0,
     "y": 179
    },
    "deepnote_cell_height": 74.75,
    "deepnote_cell_type": "markdown"
   },
   "source": [
    "The _head_ function in Pandas provides a quick overview of the contents of the dataframe you just loaded. Note that this command displays a subset of data at the beginning of the data frame (i.e. the first 5 rows by default)."
   ]
  },
  {
   "cell_type": "code",
   "execution_count": 6,
   "metadata": {
    "ExecuteTime": {
     "end_time": "2020-07-03T19:38:29.334742Z",
     "start_time": "2020-07-03T19:38:29.305373Z"
    },
    "cell_id": "c4ea4a1b6d9647bb9820cac0524007ff",
    "deepnote_app_coordinates": {
     "h": 16,
     "w": 12,
     "x": 0,
     "y": 185
    },
    "deepnote_cell_type": "code",
    "deepnote_to_be_reexecuted": false,
    "execution_millis": 1010,
    "execution_start": 1690200284113,
    "source_hash": null
   },
   "outputs": [
    {
     "data": {
      "text/html": [
       "<div>\n",
       "<style scoped>\n",
       "    .dataframe tbody tr th:only-of-type {\n",
       "        vertical-align: middle;\n",
       "    }\n",
       "\n",
       "    .dataframe tbody tr th {\n",
       "        vertical-align: top;\n",
       "    }\n",
       "\n",
       "    .dataframe thead th {\n",
       "        text-align: right;\n",
       "    }\n",
       "</style>\n",
       "<table border=\"1\" class=\"dataframe\">\n",
       "  <thead>\n",
       "    <tr style=\"text-align: right;\">\n",
       "      <th></th>\n",
       "      <th>House0</th>\n",
       "      <th>House1</th>\n",
       "      <th>House2</th>\n",
       "      <th>House3</th>\n",
       "      <th>House4</th>\n",
       "      <th>House5</th>\n",
       "      <th>House6</th>\n",
       "      <th>House7</th>\n",
       "      <th>House8</th>\n",
       "      <th>House9</th>\n",
       "      <th>...</th>\n",
       "      <th>House190</th>\n",
       "      <th>House191</th>\n",
       "      <th>House192</th>\n",
       "      <th>House193</th>\n",
       "      <th>House194</th>\n",
       "      <th>House195</th>\n",
       "      <th>House196</th>\n",
       "      <th>House197</th>\n",
       "      <th>House198</th>\n",
       "      <th>House199</th>\n",
       "    </tr>\n",
       "  </thead>\n",
       "  <tbody>\n",
       "    <tr>\n",
       "      <th>0</th>\n",
       "      <td>0.92</td>\n",
       "      <td>0.46</td>\n",
       "      <td>0.00</td>\n",
       "      <td>0.74</td>\n",
       "      <td>0.19</td>\n",
       "      <td>0.0</td>\n",
       "      <td>0.26</td>\n",
       "      <td>0.19</td>\n",
       "      <td>0.10</td>\n",
       "      <td>0.96</td>\n",
       "      <td>...</td>\n",
       "      <td>0.0</td>\n",
       "      <td>0.28</td>\n",
       "      <td>0.19</td>\n",
       "      <td>0.33</td>\n",
       "      <td>0.11</td>\n",
       "      <td>0.0</td>\n",
       "      <td>0.54</td>\n",
       "      <td>0.39</td>\n",
       "      <td>0.46</td>\n",
       "      <td>0.24</td>\n",
       "    </tr>\n",
       "    <tr>\n",
       "      <th>1</th>\n",
       "      <td>2.55</td>\n",
       "      <td>0.19</td>\n",
       "      <td>0.00</td>\n",
       "      <td>0.71</td>\n",
       "      <td>0.19</td>\n",
       "      <td>0.0</td>\n",
       "      <td>0.18</td>\n",
       "      <td>0.27</td>\n",
       "      <td>0.09</td>\n",
       "      <td>0.19</td>\n",
       "      <td>...</td>\n",
       "      <td>0.0</td>\n",
       "      <td>0.34</td>\n",
       "      <td>0.21</td>\n",
       "      <td>0.26</td>\n",
       "      <td>0.05</td>\n",
       "      <td>0.0</td>\n",
       "      <td>0.62</td>\n",
       "      <td>0.35</td>\n",
       "      <td>0.36</td>\n",
       "      <td>0.28</td>\n",
       "    </tr>\n",
       "    <tr>\n",
       "      <th>2</th>\n",
       "      <td>0.27</td>\n",
       "      <td>0.19</td>\n",
       "      <td>0.00</td>\n",
       "      <td>0.75</td>\n",
       "      <td>0.13</td>\n",
       "      <td>0.0</td>\n",
       "      <td>0.14</td>\n",
       "      <td>0.21</td>\n",
       "      <td>0.09</td>\n",
       "      <td>0.25</td>\n",
       "      <td>...</td>\n",
       "      <td>0.0</td>\n",
       "      <td>0.23</td>\n",
       "      <td>0.21</td>\n",
       "      <td>0.10</td>\n",
       "      <td>0.05</td>\n",
       "      <td>0.0</td>\n",
       "      <td>0.50</td>\n",
       "      <td>0.27</td>\n",
       "      <td>0.19</td>\n",
       "      <td>0.29</td>\n",
       "    </tr>\n",
       "    <tr>\n",
       "      <th>3</th>\n",
       "      <td>0.13</td>\n",
       "      <td>0.21</td>\n",
       "      <td>0.16</td>\n",
       "      <td>1.29</td>\n",
       "      <td>0.19</td>\n",
       "      <td>0.0</td>\n",
       "      <td>0.47</td>\n",
       "      <td>0.19</td>\n",
       "      <td>0.18</td>\n",
       "      <td>0.22</td>\n",
       "      <td>...</td>\n",
       "      <td>0.0</td>\n",
       "      <td>0.25</td>\n",
       "      <td>0.19</td>\n",
       "      <td>0.16</td>\n",
       "      <td>0.05</td>\n",
       "      <td>0.0</td>\n",
       "      <td>0.65</td>\n",
       "      <td>0.27</td>\n",
       "      <td>0.15</td>\n",
       "      <td>0.10</td>\n",
       "    </tr>\n",
       "    <tr>\n",
       "      <th>4</th>\n",
       "      <td>0.08</td>\n",
       "      <td>0.23</td>\n",
       "      <td>0.19</td>\n",
       "      <td>1.35</td>\n",
       "      <td>0.24</td>\n",
       "      <td>0.0</td>\n",
       "      <td>0.31</td>\n",
       "      <td>0.13</td>\n",
       "      <td>0.27</td>\n",
       "      <td>0.13</td>\n",
       "      <td>...</td>\n",
       "      <td>0.0</td>\n",
       "      <td>0.17</td>\n",
       "      <td>0.43</td>\n",
       "      <td>0.53</td>\n",
       "      <td>0.05</td>\n",
       "      <td>0.0</td>\n",
       "      <td>0.48</td>\n",
       "      <td>0.26</td>\n",
       "      <td>0.15</td>\n",
       "      <td>0.08</td>\n",
       "    </tr>\n",
       "  </tbody>\n",
       "</table>\n",
       "<p>5 rows × 200 columns</p>\n",
       "</div>"
      ],
      "text/plain": [
       "   House0  House1  House2  House3  House4  House5  House6  House7  House8  \\\n",
       "0    0.92    0.46    0.00    0.74    0.19     0.0    0.26    0.19    0.10   \n",
       "1    2.55    0.19    0.00    0.71    0.19     0.0    0.18    0.27    0.09   \n",
       "2    0.27    0.19    0.00    0.75    0.13     0.0    0.14    0.21    0.09   \n",
       "3    0.13    0.21    0.16    1.29    0.19     0.0    0.47    0.19    0.18   \n",
       "4    0.08    0.23    0.19    1.35    0.24     0.0    0.31    0.13    0.27   \n",
       "\n",
       "   House9  ...  House190  House191  House192  House193  House194  House195  \\\n",
       "0    0.96  ...       0.0      0.28      0.19      0.33      0.11       0.0   \n",
       "1    0.19  ...       0.0      0.34      0.21      0.26      0.05       0.0   \n",
       "2    0.25  ...       0.0      0.23      0.21      0.10      0.05       0.0   \n",
       "3    0.22  ...       0.0      0.25      0.19      0.16      0.05       0.0   \n",
       "4    0.13  ...       0.0      0.17      0.43      0.53      0.05       0.0   \n",
       "\n",
       "   House196  House197  House198  House199  \n",
       "0      0.54      0.39      0.46      0.24  \n",
       "1      0.62      0.35      0.36      0.28  \n",
       "2      0.50      0.27      0.19      0.29  \n",
       "3      0.65      0.27      0.15      0.10  \n",
       "4      0.48      0.26      0.15      0.08  \n",
       "\n",
       "[5 rows x 200 columns]"
      ]
     },
     "execution_count": 6,
     "metadata": {},
     "output_type": "execute_result"
    }
   ],
   "source": [
    "cons.head()"
   ]
  },
  {
   "cell_type": "markdown",
   "metadata": {
    "cell_id": "9634cfd35477474cae3d10acf708e612",
    "deepnote_app_coordinates": {
     "h": 4,
     "w": 12,
     "x": 0,
     "y": 202
    },
    "deepnote_cell_height": 52.359375,
    "deepnote_cell_type": "markdown"
   },
   "source": [
    "You can increase or decrease the number of rows the _head_ function returns by passing an integer as an argument."
   ]
  },
  {
   "cell_type": "code",
   "execution_count": 7,
   "metadata": {
    "ExecuteTime": {
     "end_time": "2020-07-03T19:38:30.338969Z",
     "start_time": "2020-07-03T19:38:30.312775Z"
    },
    "cell_id": "18f19470081d494899bfe6f45c2b370d",
    "deepnote_app_coordinates": {
     "h": 24,
     "w": 12,
     "x": 0,
     "y": 207
    },
    "deepnote_cell_type": "code",
    "deepnote_to_be_reexecuted": false,
    "execution_millis": 1522,
    "execution_start": 1690201420296,
    "source_hash": null
   },
   "outputs": [
    {
     "data": {
      "text/html": [
       "<div>\n",
       "<style scoped>\n",
       "    .dataframe tbody tr th:only-of-type {\n",
       "        vertical-align: middle;\n",
       "    }\n",
       "\n",
       "    .dataframe tbody tr th {\n",
       "        vertical-align: top;\n",
       "    }\n",
       "\n",
       "    .dataframe thead th {\n",
       "        text-align: right;\n",
       "    }\n",
       "</style>\n",
       "<table border=\"1\" class=\"dataframe\">\n",
       "  <thead>\n",
       "    <tr style=\"text-align: right;\">\n",
       "      <th></th>\n",
       "      <th>House0</th>\n",
       "      <th>House1</th>\n",
       "      <th>House2</th>\n",
       "      <th>House3</th>\n",
       "      <th>House4</th>\n",
       "      <th>House5</th>\n",
       "      <th>House6</th>\n",
       "      <th>House7</th>\n",
       "      <th>House8</th>\n",
       "      <th>House9</th>\n",
       "      <th>...</th>\n",
       "      <th>House190</th>\n",
       "      <th>House191</th>\n",
       "      <th>House192</th>\n",
       "      <th>House193</th>\n",
       "      <th>House194</th>\n",
       "      <th>House195</th>\n",
       "      <th>House196</th>\n",
       "      <th>House197</th>\n",
       "      <th>House198</th>\n",
       "      <th>House199</th>\n",
       "    </tr>\n",
       "  </thead>\n",
       "  <tbody>\n",
       "    <tr>\n",
       "      <th>0</th>\n",
       "      <td>0.92</td>\n",
       "      <td>0.46</td>\n",
       "      <td>0.00</td>\n",
       "      <td>0.74</td>\n",
       "      <td>0.19</td>\n",
       "      <td>0.0</td>\n",
       "      <td>0.26</td>\n",
       "      <td>0.19</td>\n",
       "      <td>0.10</td>\n",
       "      <td>0.96</td>\n",
       "      <td>...</td>\n",
       "      <td>0.0</td>\n",
       "      <td>0.28</td>\n",
       "      <td>0.19</td>\n",
       "      <td>0.33</td>\n",
       "      <td>0.11</td>\n",
       "      <td>0.00</td>\n",
       "      <td>0.54</td>\n",
       "      <td>0.39</td>\n",
       "      <td>0.46</td>\n",
       "      <td>0.24</td>\n",
       "    </tr>\n",
       "    <tr>\n",
       "      <th>1</th>\n",
       "      <td>2.55</td>\n",
       "      <td>0.19</td>\n",
       "      <td>0.00</td>\n",
       "      <td>0.71</td>\n",
       "      <td>0.19</td>\n",
       "      <td>0.0</td>\n",
       "      <td>0.18</td>\n",
       "      <td>0.27</td>\n",
       "      <td>0.09</td>\n",
       "      <td>0.19</td>\n",
       "      <td>...</td>\n",
       "      <td>0.0</td>\n",
       "      <td>0.34</td>\n",
       "      <td>0.21</td>\n",
       "      <td>0.26</td>\n",
       "      <td>0.05</td>\n",
       "      <td>0.00</td>\n",
       "      <td>0.62</td>\n",
       "      <td>0.35</td>\n",
       "      <td>0.36</td>\n",
       "      <td>0.28</td>\n",
       "    </tr>\n",
       "    <tr>\n",
       "      <th>2</th>\n",
       "      <td>0.27</td>\n",
       "      <td>0.19</td>\n",
       "      <td>0.00</td>\n",
       "      <td>0.75</td>\n",
       "      <td>0.13</td>\n",
       "      <td>0.0</td>\n",
       "      <td>0.14</td>\n",
       "      <td>0.21</td>\n",
       "      <td>0.09</td>\n",
       "      <td>0.25</td>\n",
       "      <td>...</td>\n",
       "      <td>0.0</td>\n",
       "      <td>0.23</td>\n",
       "      <td>0.21</td>\n",
       "      <td>0.10</td>\n",
       "      <td>0.05</td>\n",
       "      <td>0.00</td>\n",
       "      <td>0.50</td>\n",
       "      <td>0.27</td>\n",
       "      <td>0.19</td>\n",
       "      <td>0.29</td>\n",
       "    </tr>\n",
       "    <tr>\n",
       "      <th>3</th>\n",
       "      <td>0.13</td>\n",
       "      <td>0.21</td>\n",
       "      <td>0.16</td>\n",
       "      <td>1.29</td>\n",
       "      <td>0.19</td>\n",
       "      <td>0.0</td>\n",
       "      <td>0.47</td>\n",
       "      <td>0.19</td>\n",
       "      <td>0.18</td>\n",
       "      <td>0.22</td>\n",
       "      <td>...</td>\n",
       "      <td>0.0</td>\n",
       "      <td>0.25</td>\n",
       "      <td>0.19</td>\n",
       "      <td>0.16</td>\n",
       "      <td>0.05</td>\n",
       "      <td>0.00</td>\n",
       "      <td>0.65</td>\n",
       "      <td>0.27</td>\n",
       "      <td>0.15</td>\n",
       "      <td>0.10</td>\n",
       "    </tr>\n",
       "    <tr>\n",
       "      <th>4</th>\n",
       "      <td>0.08</td>\n",
       "      <td>0.23</td>\n",
       "      <td>0.19</td>\n",
       "      <td>1.35</td>\n",
       "      <td>0.24</td>\n",
       "      <td>0.0</td>\n",
       "      <td>0.31</td>\n",
       "      <td>0.13</td>\n",
       "      <td>0.27</td>\n",
       "      <td>0.13</td>\n",
       "      <td>...</td>\n",
       "      <td>0.0</td>\n",
       "      <td>0.17</td>\n",
       "      <td>0.43</td>\n",
       "      <td>0.53</td>\n",
       "      <td>0.05</td>\n",
       "      <td>0.00</td>\n",
       "      <td>0.48</td>\n",
       "      <td>0.26</td>\n",
       "      <td>0.15</td>\n",
       "      <td>0.08</td>\n",
       "    </tr>\n",
       "    <tr>\n",
       "      <th>5</th>\n",
       "      <td>0.07</td>\n",
       "      <td>0.31</td>\n",
       "      <td>0.05</td>\n",
       "      <td>1.31</td>\n",
       "      <td>0.24</td>\n",
       "      <td>0.0</td>\n",
       "      <td>0.06</td>\n",
       "      <td>0.16</td>\n",
       "      <td>0.20</td>\n",
       "      <td>0.25</td>\n",
       "      <td>...</td>\n",
       "      <td>0.0</td>\n",
       "      <td>0.21</td>\n",
       "      <td>0.29</td>\n",
       "      <td>0.50</td>\n",
       "      <td>0.13</td>\n",
       "      <td>0.00</td>\n",
       "      <td>0.52</td>\n",
       "      <td>0.37</td>\n",
       "      <td>0.15</td>\n",
       "      <td>0.21</td>\n",
       "    </tr>\n",
       "    <tr>\n",
       "      <th>6</th>\n",
       "      <td>0.06</td>\n",
       "      <td>0.27</td>\n",
       "      <td>0.03</td>\n",
       "      <td>1.27</td>\n",
       "      <td>0.16</td>\n",
       "      <td>0.0</td>\n",
       "      <td>0.07</td>\n",
       "      <td>0.11</td>\n",
       "      <td>0.19</td>\n",
       "      <td>0.03</td>\n",
       "      <td>...</td>\n",
       "      <td>0.0</td>\n",
       "      <td>0.22</td>\n",
       "      <td>0.19</td>\n",
       "      <td>0.77</td>\n",
       "      <td>0.08</td>\n",
       "      <td>2.80</td>\n",
       "      <td>0.71</td>\n",
       "      <td>0.36</td>\n",
       "      <td>0.14</td>\n",
       "      <td>0.16</td>\n",
       "    </tr>\n",
       "    <tr>\n",
       "      <th>7</th>\n",
       "      <td>0.09</td>\n",
       "      <td>0.37</td>\n",
       "      <td>0.13</td>\n",
       "      <td>1.26</td>\n",
       "      <td>0.13</td>\n",
       "      <td>0.0</td>\n",
       "      <td>0.10</td>\n",
       "      <td>0.13</td>\n",
       "      <td>0.11</td>\n",
       "      <td>0.05</td>\n",
       "      <td>...</td>\n",
       "      <td>0.0</td>\n",
       "      <td>0.27</td>\n",
       "      <td>0.21</td>\n",
       "      <td>0.35</td>\n",
       "      <td>0.13</td>\n",
       "      <td>3.20</td>\n",
       "      <td>0.52</td>\n",
       "      <td>0.33</td>\n",
       "      <td>0.15</td>\n",
       "      <td>0.23</td>\n",
       "    </tr>\n",
       "    <tr>\n",
       "      <th>8</th>\n",
       "      <td>0.15</td>\n",
       "      <td>0.31</td>\n",
       "      <td>0.13</td>\n",
       "      <td>1.27</td>\n",
       "      <td>0.19</td>\n",
       "      <td>0.0</td>\n",
       "      <td>0.16</td>\n",
       "      <td>0.19</td>\n",
       "      <td>0.09</td>\n",
       "      <td>0.14</td>\n",
       "      <td>...</td>\n",
       "      <td>0.0</td>\n",
       "      <td>0.17</td>\n",
       "      <td>0.21</td>\n",
       "      <td>0.15</td>\n",
       "      <td>0.96</td>\n",
       "      <td>4.63</td>\n",
       "      <td>0.69</td>\n",
       "      <td>0.35</td>\n",
       "      <td>0.15</td>\n",
       "      <td>0.17</td>\n",
       "    </tr>\n",
       "    <tr>\n",
       "      <th>9</th>\n",
       "      <td>0.16</td>\n",
       "      <td>0.29</td>\n",
       "      <td>0.27</td>\n",
       "      <td>1.29</td>\n",
       "      <td>0.16</td>\n",
       "      <td>0.0</td>\n",
       "      <td>0.05</td>\n",
       "      <td>0.24</td>\n",
       "      <td>0.09</td>\n",
       "      <td>0.04</td>\n",
       "      <td>...</td>\n",
       "      <td>0.0</td>\n",
       "      <td>0.19</td>\n",
       "      <td>0.19</td>\n",
       "      <td>0.25</td>\n",
       "      <td>0.13</td>\n",
       "      <td>4.77</td>\n",
       "      <td>0.56</td>\n",
       "      <td>0.32</td>\n",
       "      <td>0.15</td>\n",
       "      <td>0.07</td>\n",
       "    </tr>\n",
       "  </tbody>\n",
       "</table>\n",
       "<p>10 rows × 200 columns</p>\n",
       "</div>"
      ],
      "text/plain": [
       "   House0  House1  House2  House3  House4  House5  House6  House7  House8  \\\n",
       "0    0.92    0.46    0.00    0.74    0.19     0.0    0.26    0.19    0.10   \n",
       "1    2.55    0.19    0.00    0.71    0.19     0.0    0.18    0.27    0.09   \n",
       "2    0.27    0.19    0.00    0.75    0.13     0.0    0.14    0.21    0.09   \n",
       "3    0.13    0.21    0.16    1.29    0.19     0.0    0.47    0.19    0.18   \n",
       "4    0.08    0.23    0.19    1.35    0.24     0.0    0.31    0.13    0.27   \n",
       "5    0.07    0.31    0.05    1.31    0.24     0.0    0.06    0.16    0.20   \n",
       "6    0.06    0.27    0.03    1.27    0.16     0.0    0.07    0.11    0.19   \n",
       "7    0.09    0.37    0.13    1.26    0.13     0.0    0.10    0.13    0.11   \n",
       "8    0.15    0.31    0.13    1.27    0.19     0.0    0.16    0.19    0.09   \n",
       "9    0.16    0.29    0.27    1.29    0.16     0.0    0.05    0.24    0.09   \n",
       "\n",
       "   House9  ...  House190  House191  House192  House193  House194  House195  \\\n",
       "0    0.96  ...       0.0      0.28      0.19      0.33      0.11      0.00   \n",
       "1    0.19  ...       0.0      0.34      0.21      0.26      0.05      0.00   \n",
       "2    0.25  ...       0.0      0.23      0.21      0.10      0.05      0.00   \n",
       "3    0.22  ...       0.0      0.25      0.19      0.16      0.05      0.00   \n",
       "4    0.13  ...       0.0      0.17      0.43      0.53      0.05      0.00   \n",
       "5    0.25  ...       0.0      0.21      0.29      0.50      0.13      0.00   \n",
       "6    0.03  ...       0.0      0.22      0.19      0.77      0.08      2.80   \n",
       "7    0.05  ...       0.0      0.27      0.21      0.35      0.13      3.20   \n",
       "8    0.14  ...       0.0      0.17      0.21      0.15      0.96      4.63   \n",
       "9    0.04  ...       0.0      0.19      0.19      0.25      0.13      4.77   \n",
       "\n",
       "   House196  House197  House198  House199  \n",
       "0      0.54      0.39      0.46      0.24  \n",
       "1      0.62      0.35      0.36      0.28  \n",
       "2      0.50      0.27      0.19      0.29  \n",
       "3      0.65      0.27      0.15      0.10  \n",
       "4      0.48      0.26      0.15      0.08  \n",
       "5      0.52      0.37      0.15      0.21  \n",
       "6      0.71      0.36      0.14      0.16  \n",
       "7      0.52      0.33      0.15      0.23  \n",
       "8      0.69      0.35      0.15      0.17  \n",
       "9      0.56      0.32      0.15      0.07  \n",
       "\n",
       "[10 rows x 200 columns]"
      ]
     },
     "execution_count": 7,
     "metadata": {},
     "output_type": "execute_result"
    }
   ],
   "source": [
    "cons.head(10)"
   ]
  },
  {
   "cell_type": "markdown",
   "metadata": {
    "ExecuteTime": {
     "end_time": "2020-05-17T12:41:30.333435Z",
     "start_time": "2020-05-17T12:41:30.302190Z"
    },
    "cell_id": "567cc10b6fbd4c70a47fc57a62d365bc",
    "deepnote_app_coordinates": {
     "h": 4,
     "w": 12,
     "x": 0,
     "y": 232
    },
    "deepnote_cell_height": 52.359375,
    "deepnote_cell_type": "markdown"
   },
   "source": [
    "Alternatively, you can also explore the last few rows of your dataframe with the _tail_ command:"
   ]
  },
  {
   "cell_type": "code",
   "execution_count": 8,
   "metadata": {
    "ExecuteTime": {
     "end_time": "2020-07-03T19:38:31.122301Z",
     "start_time": "2020-07-03T19:38:31.099923Z"
    },
    "cell_id": "fa737fc024634a5abbcdfd115963f58f",
    "deepnote_app_coordinates": {
     "h": 16,
     "w": 12,
     "x": 0,
     "y": 237
    },
    "deepnote_cell_type": "code",
    "deepnote_to_be_reexecuted": false,
    "execution_millis": 819,
    "execution_start": 1690200332034,
    "source_hash": null
   },
   "outputs": [
    {
     "data": {
      "text/html": [
       "<div>\n",
       "<style scoped>\n",
       "    .dataframe tbody tr th:only-of-type {\n",
       "        vertical-align: middle;\n",
       "    }\n",
       "\n",
       "    .dataframe tbody tr th {\n",
       "        vertical-align: top;\n",
       "    }\n",
       "\n",
       "    .dataframe thead th {\n",
       "        text-align: right;\n",
       "    }\n",
       "</style>\n",
       "<table border=\"1\" class=\"dataframe\">\n",
       "  <thead>\n",
       "    <tr style=\"text-align: right;\">\n",
       "      <th></th>\n",
       "      <th>House0</th>\n",
       "      <th>House1</th>\n",
       "      <th>House2</th>\n",
       "      <th>House3</th>\n",
       "      <th>House4</th>\n",
       "      <th>House5</th>\n",
       "      <th>House6</th>\n",
       "      <th>House7</th>\n",
       "      <th>House8</th>\n",
       "      <th>House9</th>\n",
       "      <th>...</th>\n",
       "      <th>House190</th>\n",
       "      <th>House191</th>\n",
       "      <th>House192</th>\n",
       "      <th>House193</th>\n",
       "      <th>House194</th>\n",
       "      <th>House195</th>\n",
       "      <th>House196</th>\n",
       "      <th>House197</th>\n",
       "      <th>House198</th>\n",
       "      <th>House199</th>\n",
       "    </tr>\n",
       "  </thead>\n",
       "  <tbody>\n",
       "    <tr>\n",
       "      <th>33595</th>\n",
       "      <td>0.78</td>\n",
       "      <td>0.27</td>\n",
       "      <td>0.16</td>\n",
       "      <td>0.37</td>\n",
       "      <td>1.39</td>\n",
       "      <td>0.13</td>\n",
       "      <td>0.10</td>\n",
       "      <td>0.35</td>\n",
       "      <td>0.60</td>\n",
       "      <td>0.12</td>\n",
       "      <td>...</td>\n",
       "      <td>0.0</td>\n",
       "      <td>0.36</td>\n",
       "      <td>0.43</td>\n",
       "      <td>0.67</td>\n",
       "      <td>0.13</td>\n",
       "      <td>0.00</td>\n",
       "      <td>0.52</td>\n",
       "      <td>0.86</td>\n",
       "      <td>1.40</td>\n",
       "      <td>0.31</td>\n",
       "    </tr>\n",
       "    <tr>\n",
       "      <th>33596</th>\n",
       "      <td>0.78</td>\n",
       "      <td>0.25</td>\n",
       "      <td>0.11</td>\n",
       "      <td>0.36</td>\n",
       "      <td>1.33</td>\n",
       "      <td>0.16</td>\n",
       "      <td>0.21</td>\n",
       "      <td>0.32</td>\n",
       "      <td>0.54</td>\n",
       "      <td>0.11</td>\n",
       "      <td>...</td>\n",
       "      <td>0.0</td>\n",
       "      <td>0.32</td>\n",
       "      <td>0.61</td>\n",
       "      <td>0.48</td>\n",
       "      <td>0.13</td>\n",
       "      <td>0.00</td>\n",
       "      <td>0.54</td>\n",
       "      <td>0.63</td>\n",
       "      <td>0.53</td>\n",
       "      <td>0.28</td>\n",
       "    </tr>\n",
       "    <tr>\n",
       "      <th>33597</th>\n",
       "      <td>0.47</td>\n",
       "      <td>0.27</td>\n",
       "      <td>0.08</td>\n",
       "      <td>0.36</td>\n",
       "      <td>0.96</td>\n",
       "      <td>0.08</td>\n",
       "      <td>0.17</td>\n",
       "      <td>0.35</td>\n",
       "      <td>0.48</td>\n",
       "      <td>0.09</td>\n",
       "      <td>...</td>\n",
       "      <td>0.0</td>\n",
       "      <td>0.31</td>\n",
       "      <td>0.77</td>\n",
       "      <td>0.48</td>\n",
       "      <td>0.05</td>\n",
       "      <td>0.77</td>\n",
       "      <td>0.67</td>\n",
       "      <td>0.61</td>\n",
       "      <td>0.49</td>\n",
       "      <td>0.22</td>\n",
       "    </tr>\n",
       "    <tr>\n",
       "      <th>33598</th>\n",
       "      <td>0.29</td>\n",
       "      <td>0.25</td>\n",
       "      <td>0.00</td>\n",
       "      <td>0.36</td>\n",
       "      <td>0.35</td>\n",
       "      <td>0.08</td>\n",
       "      <td>0.18</td>\n",
       "      <td>0.35</td>\n",
       "      <td>0.43</td>\n",
       "      <td>0.17</td>\n",
       "      <td>...</td>\n",
       "      <td>0.0</td>\n",
       "      <td>0.28</td>\n",
       "      <td>0.53</td>\n",
       "      <td>1.91</td>\n",
       "      <td>0.05</td>\n",
       "      <td>3.11</td>\n",
       "      <td>0.48</td>\n",
       "      <td>0.50</td>\n",
       "      <td>0.45</td>\n",
       "      <td>0.25</td>\n",
       "    </tr>\n",
       "    <tr>\n",
       "      <th>33599</th>\n",
       "      <td>0.13</td>\n",
       "      <td>0.27</td>\n",
       "      <td>0.16</td>\n",
       "      <td>0.39</td>\n",
       "      <td>0.32</td>\n",
       "      <td>0.16</td>\n",
       "      <td>0.31</td>\n",
       "      <td>0.32</td>\n",
       "      <td>0.32</td>\n",
       "      <td>0.12</td>\n",
       "      <td>...</td>\n",
       "      <td>0.0</td>\n",
       "      <td>0.63</td>\n",
       "      <td>0.40</td>\n",
       "      <td>2.35</td>\n",
       "      <td>0.32</td>\n",
       "      <td>3.15</td>\n",
       "      <td>0.65</td>\n",
       "      <td>0.54</td>\n",
       "      <td>0.31</td>\n",
       "      <td>0.31</td>\n",
       "    </tr>\n",
       "  </tbody>\n",
       "</table>\n",
       "<p>5 rows × 200 columns</p>\n",
       "</div>"
      ],
      "text/plain": [
       "       House0  House1  House2  House3  House4  House5  House6  House7  House8  \\\n",
       "33595    0.78    0.27    0.16    0.37    1.39    0.13    0.10    0.35    0.60   \n",
       "33596    0.78    0.25    0.11    0.36    1.33    0.16    0.21    0.32    0.54   \n",
       "33597    0.47    0.27    0.08    0.36    0.96    0.08    0.17    0.35    0.48   \n",
       "33598    0.29    0.25    0.00    0.36    0.35    0.08    0.18    0.35    0.43   \n",
       "33599    0.13    0.27    0.16    0.39    0.32    0.16    0.31    0.32    0.32   \n",
       "\n",
       "       House9  ...  House190  House191  House192  House193  House194  \\\n",
       "33595    0.12  ...       0.0      0.36      0.43      0.67      0.13   \n",
       "33596    0.11  ...       0.0      0.32      0.61      0.48      0.13   \n",
       "33597    0.09  ...       0.0      0.31      0.77      0.48      0.05   \n",
       "33598    0.17  ...       0.0      0.28      0.53      1.91      0.05   \n",
       "33599    0.12  ...       0.0      0.63      0.40      2.35      0.32   \n",
       "\n",
       "       House195  House196  House197  House198  House199  \n",
       "33595      0.00      0.52      0.86      1.40      0.31  \n",
       "33596      0.00      0.54      0.63      0.53      0.28  \n",
       "33597      0.77      0.67      0.61      0.49      0.22  \n",
       "33598      3.11      0.48      0.50      0.45      0.25  \n",
       "33599      3.15      0.65      0.54      0.31      0.31  \n",
       "\n",
       "[5 rows x 200 columns]"
      ]
     },
     "execution_count": 8,
     "metadata": {},
     "output_type": "execute_result"
    }
   ],
   "source": [
    "cons.tail()"
   ]
  },
  {
   "cell_type": "markdown",
   "metadata": {
    "ExecuteTime": {
     "end_time": "2020-05-17T15:58:44.498983Z",
     "start_time": "2020-05-17T15:58:44.494618Z"
    },
    "cell_id": "e97c8e87f5cd456cb4bd8ee193c5e322",
    "deepnote_app_coordinates": {
     "h": 5,
     "w": 12,
     "x": 0,
     "y": 254
    },
    "deepnote_cell_height": 74.75,
    "deepnote_cell_type": "markdown"
   },
   "source": [
    "If you want to look at an individual row in the dataframe, you can use the _iloc_ keyword along either dimension (where the first index is for rows and the second is for columns):"
   ]
  },
  {
   "cell_type": "code",
   "execution_count": null,
   "metadata": {
    "ExecuteTime": {
     "end_time": "2020-07-03T19:38:31.640878Z",
     "start_time": "2020-07-03T19:38:31.633219Z"
    },
    "cell_id": "14b072784b8149769ebe6fd1ed573dd2",
    "deepnote_app_coordinates": {
     "h": 26,
     "w": 12,
     "x": 0,
     "y": 260
    },
    "deepnote_cell_type": "code",
    "deepnote_to_be_reexecuted": false,
    "execution_millis": 12,
    "execution_start": 1690200762779,
    "source_hash": null
   },
   "outputs": [],
   "source": [
    "print('Electricity demand for the first 3 houses on the first time instant:')\n",
    "print(cons.iloc[0,0:3])\n",
    "print()\n",
    "\n",
    "print('Electricity demand for the first house on the first 3 time instants:')\n",
    "print(cons.iloc[0:3,0])\n",
    "print()\n",
    "\n",
    "print('Electricity demand for the first 3 houses on the first 3 time instants:')\n",
    "print(cons.iloc[0:3,0:3])\n",
    "print()\n"
   ]
  },
  {
   "cell_type": "markdown",
   "metadata": {
    "cell_id": "d66de9707c0f45de80d7bd0dc2695e25",
    "deepnote_app_coordinates": {
     "h": 5,
     "w": 12,
     "x": 0,
     "y": 287
    },
    "deepnote_cell_height": 74.75,
    "deepnote_cell_type": "markdown"
   },
   "source": [
    "You can also drill into any column by using either _dataframe.columnName_ or _dataframe['columnName']_. An example with both is given below, note that the output is the same for both."
   ]
  },
  {
   "cell_type": "code",
   "execution_count": null,
   "metadata": {
    "ExecuteTime": {
     "end_time": "2020-07-03T19:38:32.073929Z",
     "start_time": "2020-07-03T19:38:32.069303Z"
    },
    "cell_id": "2ee46a75413b41f8ad64504548f7b404",
    "deepnote_app_coordinates": {
     "h": 14,
     "w": 12,
     "x": 0,
     "y": 293
    },
    "deepnote_cell_type": "code",
    "deepnote_to_be_reexecuted": false,
    "execution_millis": 9,
    "execution_start": 1690185543236,
    "source_hash": null
   },
   "outputs": [],
   "source": [
    "print(cons.House1.head())\n",
    "print(cons['House1'].head())"
   ]
  },
  {
   "cell_type": "markdown",
   "metadata": {
    "cell_id": "2a66da56ba724e13b3945c9f1a67e4c6",
    "deepnote_app_coordinates": {
     "h": 6,
     "w": 12,
     "x": 0,
     "y": 308
    },
    "deepnote_cell_height": 97.140625,
    "deepnote_cell_type": "markdown"
   },
   "source": [
    "In addition to looking at individual rows of the dataframe, you can also check out the dimensions of the dataframe you are analyzing using the _shape_ attribute. Note that you do not require the parenthesis you used with _head_ here. This can be useful when you're loading data from a known source, or want to check the dimensions of the data you are working with."
   ]
  },
  {
   "cell_type": "code",
   "execution_count": null,
   "metadata": {
    "ExecuteTime": {
     "end_time": "2020-07-03T19:38:32.492597Z",
     "start_time": "2020-07-03T19:38:32.488969Z"
    },
    "cell_id": "143b994927654406b76238da87d2d2ad",
    "deepnote_app_coordinates": {
     "h": 17,
     "w": 12,
     "x": 0,
     "y": 315
    },
    "deepnote_cell_type": "code",
    "deepnote_to_be_reexecuted": false,
    "execution_millis": 637,
    "execution_start": 1690185543237,
    "source_hash": null
   },
   "outputs": [],
   "source": [
    "cons.shape\n",
    "cons.head()"
   ]
  },
  {
   "cell_type": "markdown",
   "metadata": {
    "ExecuteTime": {
     "end_time": "2020-05-17T16:04:08.293689Z",
     "start_time": "2020-05-17T16:04:08.285375Z"
    },
    "cell_id": "20b1ed8b3f204fbc83553d3ca088e091",
    "deepnote_app_coordinates": {
     "h": 5,
     "w": 12,
     "x": 0,
     "y": 333
    },
    "deepnote_cell_height": 74.75,
    "deepnote_cell_type": "markdown"
   },
   "source": [
    "Likewise, you can also check the type of the data you are working with using the _type_ function. The _type_ function also works with subsets of the dataframe (using _.iloc_ as before)."
   ]
  },
  {
   "cell_type": "code",
   "execution_count": null,
   "metadata": {
    "ExecuteTime": {
     "end_time": "2020-07-03T19:38:33.226993Z",
     "start_time": "2020-07-03T19:38:33.222861Z"
    },
    "cell_id": "be6973f2c51e4bf8bf08bbd892dfffec",
    "deepnote_app_coordinates": {
     "h": 8,
     "w": 12,
     "x": 0,
     "y": 339
    },
    "deepnote_cell_type": "code",
    "deepnote_to_be_reexecuted": false,
    "execution_millis": 27,
    "execution_start": 1690185543618,
    "source_hash": null
   },
   "outputs": [],
   "source": [
    "print(type(cons))\n",
    "print(type(cons.iloc[:,0]))\n",
    "print(type(cons.iloc[0,0]))"
   ]
  },
  {
   "cell_type": "markdown",
   "metadata": {
    "cell_id": "d2b043fadc094d8fa9c1d59035ef0530",
    "deepnote_app_coordinates": {
     "h": 6,
     "w": 12,
     "x": 0,
     "y": 348
    },
    "deepnote_cell_height": 97.140625,
    "deepnote_cell_type": "markdown"
   },
   "source": [
    "Notice that the type of a single row or column of a dataframe is different from that of the entire dataframe (or a 2-D slice of the dataframe). Likewise, if you index into a single element, _type_ will return the data type of that single element which can be, for instance, an integer (int) or| a real number (float) etc."
   ]
  },
  {
   "cell_type": "markdown",
   "metadata": {
    "cell_id": "f520c5bc30c6476f96d1f45ff87f388c",
    "deepnote_app_coordinates": {
     "h": 6,
     "w": 12,
     "x": 0,
     "y": 355
    },
    "deepnote_cell_height": 97.140625,
    "deepnote_cell_type": "markdown"
   },
   "source": [
    "Perhaps more interesting than looking at individual rows or columns of a dataframe is , you can summarize the contents of the dataframe with the _describe_ command. This command allows you to quickly calculate important summary statistics (e.g. mean, standard deviation, maximum and minimum) for each column of your data."
   ]
  },
  {
   "cell_type": "code",
   "execution_count": null,
   "metadata": {
    "ExecuteTime": {
     "end_time": "2020-07-03T19:38:34.486265Z",
     "start_time": "2020-07-03T19:38:34.024798Z"
    },
    "cell_id": "184ac34458994e3b8a2894c562665f09",
    "deepnote_app_coordinates": {
     "h": 21,
     "w": 12,
     "x": 0,
     "y": 362
    },
    "deepnote_cell_type": "code",
    "deepnote_to_be_reexecuted": false,
    "execution_millis": 3004,
    "execution_start": 1690185543619,
    "source_hash": null
   },
   "outputs": [],
   "source": [
    "cons.describe()"
   ]
  },
  {
   "cell_type": "markdown",
   "metadata": {
    "cell_id": "adc7885b0821407d83d205b846c41902",
    "deepnote_app_coordinates": {
     "h": 3,
     "w": 12,
     "x": 0,
     "y": 384
    },
    "deepnote_cell_height": 61.953125,
    "deepnote_cell_type": "markdown"
   },
   "source": [
    "### Analyzing different file formats "
   ]
  },
  {
   "cell_type": "markdown",
   "metadata": {
    "cell_id": "55f027cabb3845078fe1c38387c58551",
    "deepnote_app_coordinates": {
     "h": 10,
     "w": 12,
     "x": 0,
     "y": 388
    },
    "deepnote_cell_height": 195.3125,
    "deepnote_cell_type": "markdown"
   },
   "source": [
    "In this section, we analyze the performance of different input file formats (csv and python-specifc pickle format) along two different dimensions:\n",
    "\n",
    "1. The time it takes to load the file into memory\n",
    "2. The memory the loaded file consumes once it has been loaded\n",
    "\n",
    "In this cell, we use the _datetime_ library to estimate how much time it takes to read the csv file. Likewise, you can use the _info_ function to see the memory usage of the dataframe (note this is different than the _describe_ function we discussed earlier). "
   ]
  },
  {
   "cell_type": "code",
   "execution_count": null,
   "metadata": {
    "ExecuteTime": {
     "end_time": "2020-07-03T19:38:35.394730Z",
     "start_time": "2020-07-03T19:38:34.975972Z"
    },
    "cell_id": "92958120a0b0483fa4c5b53911ca687f",
    "deepnote_app_coordinates": {
     "h": 13,
     "w": 12,
     "x": 0,
     "y": 399
    },
    "deepnote_cell_type": "code",
    "deepnote_to_be_reexecuted": false,
    "execution_millis": 277,
    "execution_start": 1690185545711,
    "source_hash": null
   },
   "outputs": [],
   "source": [
    "start = datetime.datetime.now()\n",
    "cons = pd.read_csv('LoadData.csv', header=None)\n",
    "end = datetime.datetime.now()\n",
    "\n",
    "print('Load time (with csv file): ' + str(end - start))\n",
    "print(cons.info())"
   ]
  },
  {
   "cell_type": "markdown",
   "metadata": {
    "cell_id": "9ddd14524ddd4faeb1b77ff1534372f1",
    "deepnote_app_coordinates": {
     "h": 8,
     "w": 12,
     "x": 0,
     "y": 413
    },
    "deepnote_cell_height": 141.9375,
    "deepnote_cell_type": "markdown"
   },
   "source": [
    "With large files, the time it takes to read the input data can be a serious concern (especially if the read operation has to be repeated multiple times). Furthermore, the memory a dataframe consumes can be greater than the available RAM, which would lead your program to crash. Even though this is not a concern with the files we are working in this lecture, in cases where you already know if you will only be working with a subset of the data, you can make that choice before loading your data with the usecols argument."
   ]
  },
  {
   "cell_type": "code",
   "execution_count": null,
   "metadata": {
    "ExecuteTime": {
     "end_time": "2020-07-03T19:38:35.706597Z",
     "start_time": "2020-07-03T19:38:35.585606Z"
    },
    "cell_id": "1cf924fb07f548d880ad700909c59881",
    "deepnote_app_coordinates": {
     "h": 15,
     "w": 12,
     "x": 0,
     "y": 422
    },
    "deepnote_cell_type": "code",
    "deepnote_to_be_reexecuted": false,
    "execution_millis": 276,
    "execution_start": 1690185545712,
    "source_hash": null
   },
   "outputs": [],
   "source": [
    "start = datetime.datetime.now()\n",
    "cons = pd.read_csv('LoadData.csv', header=None, usecols=[0])\n",
    "end = datetime.datetime.now()\n",
    "\n",
    "print('Load time (with csv file): ' + str(end - start))\n",
    "print(cons.info())"
   ]
  },
  {
   "cell_type": "markdown",
   "metadata": {
    "cell_id": "05804bccea8742afa3a54e76e0140107",
    "deepnote_app_coordinates": {
     "h": 5,
     "w": 12,
     "x": 0,
     "y": 438
    },
    "deepnote_cell_height": 97.140625,
    "deepnote_cell_type": "markdown"
   },
   "source": [
    "Setting _usecols_ to the 0th column forces the _read_csv_ function to read only the first column of the csv file. This corresponds to the electricity demand for the first building. The practical effect of this is a much reduced memory footprint and also the time it took to load the file."
   ]
  },
  {
   "cell_type": "markdown",
   "metadata": {
    "cell_id": "3bb08ad362724539abfa06f31464126a",
    "deepnote_app_coordinates": {
     "h": 10,
     "w": 12,
     "x": 0,
     "y": 444
    },
    "deepnote_cell_height": 141.9375,
    "deepnote_cell_type": "markdown"
   },
   "source": [
    "Meanwhile, loading the same data but stored in a Pickle file (instead of a csv) can also provide a speedup in terms of the time required to read it. The pickle module is used widely by the Python community to serialize and de-serialize different Python object structures (such as arrays, dataframes and even machine learning models etc.). “Pickling” is the process whereby this object is converted into a byte stream, and “unpickling” is the inverse operation. Keep in mind that the pickle module is not secure and it is possible to construct malicious pickle data which will execute arbitrary code during unpickling."
   ]
  },
  {
   "cell_type": "code",
   "execution_count": null,
   "metadata": {
    "ExecuteTime": {
     "end_time": "2020-07-03T19:38:36.985883Z",
     "start_time": "2020-07-03T19:38:36.895725Z"
    },
    "cell_id": "b85bfb5bb9c743fabe6cae9be2a195a9",
    "deepnote_app_coordinates": {
     "h": 15,
     "w": 12,
     "x": 0,
     "y": 455
    },
    "deepnote_cell_type": "code",
    "deepnote_to_be_reexecuted": false,
    "execution_millis": 298,
    "execution_start": 1690185545714,
    "source_hash": null
   },
   "outputs": [],
   "source": [
    "start = datetime.datetime.now()\n",
    "cons = pickle.load(open(\"LoadData_subset.p\", \"rb\"))\n",
    "end = datetime.datetime.now()\n",
    "\n",
    "print('Load time (with pickle file): ' + str(end - start))\n",
    "print(cons.info())"
   ]
  },
  {
   "cell_type": "markdown",
   "metadata": {
    "cell_id": "82dd38aadfaa4fa2b4e571a0a3134c3b",
    "deepnote_app_coordinates": {
     "h": 7,
     "w": 12,
     "x": 0,
     "y": 471
    },
    "deepnote_cell_height": 119.53125,
    "deepnote_cell_type": "markdown"
   },
   "source": [
    "You can also load just the subset of data you are interested in, if you have already saved it into the appropriate pickle file beforehand. This file should be exactly the file that was loaded with the _read_csv_ function with the _usecols_ argument set to 0. However, it introduces an extra step of first reading the csv file, then creating a pickle with the subset of interest, and subsequently only loading and working with this data."
   ]
  },
  {
   "cell_type": "code",
   "execution_count": null,
   "metadata": {
    "ExecuteTime": {
     "end_time": "2020-07-03T19:38:37.613098Z",
     "start_time": "2020-07-03T19:38:37.599208Z"
    },
    "cell_id": "031902351d9c45188d9e94071ed9702f",
    "deepnote_app_coordinates": {
     "h": 15,
     "w": 12,
     "x": 0,
     "y": 479
    },
    "deepnote_cell_type": "code",
    "deepnote_to_be_reexecuted": false,
    "execution_millis": 295,
    "execution_start": 1690185545715,
    "source_hash": null
   },
   "outputs": [],
   "source": [
    "start = datetime.datetime.now()\n",
    "cons = pickle.load(open(\"LoadData_subset.p\", \"rb\"))\n",
    "end = datetime.datetime.now()\n",
    "\n",
    "print('Load time with pickled subset): ' + str(end - start))\n",
    "print(cons.info())"
   ]
  },
  {
   "cell_type": "markdown",
   "metadata": {
    "cell_id": "adb50cb85a8e45b0a942c2e94c52ac29",
    "deepnote_app_coordinates": {
     "h": 9,
     "w": 12,
     "x": 0,
     "y": 495
    },
    "deepnote_cell_height": 190.515625,
    "deepnote_cell_type": "markdown"
   },
   "source": [
    "### Exercises\n",
    "1. What is the difference between csv and pickle files?\n",
    "2. Can you directly load a subset of data from Pickle files?\n",
    "3. Why is there a speed-up when loading Pickle files as compared to CSVs?\n",
    "4. Are there any serious disadvantages of using Pickle files as opposed to CSVs?\n"
   ]
  },
  {
   "cell_type": "markdown",
   "metadata": {
    "ExecuteTime": {
     "end_time": "2020-05-18T12:42:57.149298Z",
     "start_time": "2020-05-18T12:42:57.128114Z"
    },
    "cell_id": "095c10153fbc46dc8e1efd010dba2a27",
    "deepnote_app_coordinates": {
     "h": 3,
     "w": 12,
     "x": 0,
     "y": 505
    },
    "deepnote_cell_height": 61.953125,
    "deepnote_cell_type": "markdown"
   },
   "source": [
    "### Intermezzo: speeding up Pandas "
   ]
  },
  {
   "cell_type": "markdown",
   "metadata": {
    "ExecuteTime": {
     "end_time": "2020-05-18T12:44:08.987051Z",
     "start_time": "2020-05-18T12:44:08.984752Z"
    },
    "cell_id": "52d1a31492f24305b7dec095a9a1f252",
    "deepnote_app_coordinates": {
     "h": 17,
     "w": 12,
     "x": 0,
     "y": 509
    },
    "deepnote_cell_height": 281.5,
    "deepnote_cell_type": "markdown"
   },
   "source": [
    "#### Using a parallel library such as [Modin](https://github.com/modin-project/modin)\n",
    "\n",
    "There are several parallel implementations which aim to speed-up Pandas by utilizing multiple CPU (or GPU) cores. Modin is one such implementation, which provides an extremely light-weight parallel DataFrame that works on top of regular Pandas dataframes. You can use it to transparently distribute the data and computation in a parallel way, while still using the pandas API as before. However, as with many such libraries, the entire functionality of Pandas is not available with Modin. For more information on which functions are supported and which are not, check out the documentation (and your use case requirements).\n",
    "\n",
    "When to use such solutions: Whether you need to use Modin or not depends entirely on your use case and the hardware resources you have available: for instance if you are working with large datasets on a powerful workstation, Modin (or a similar library) can be a useful choice. If you are working on your laptop with a reasonably sized dataset (e.g. in MB's or smaller), then the utility of Modin (or a similar architecture) is questionable."
   ]
  },
  {
   "cell_type": "markdown",
   "metadata": {
    "cell_id": "754b628b773e4d748bc2caaa0e434402",
    "deepnote_app_coordinates": {
     "h": 9,
     "w": 12,
     "x": 0,
     "y": 527
    },
    "deepnote_cell_height": 155.53125,
    "deepnote_cell_type": "markdown"
   },
   "source": [
    "#### Downsizing  data types\n",
    "In many cases, when working with large datasets, it can also be useful to downsize your dataset (this is possible to do even after you have loaded it). For instance, recall from earlier that the data type of a single element was numpy.float64 (you can check this using print(type(cons.iloc[0,0]))). Numpy supports a large number of data types suhc as float16, float32 and float64 for dealing with real numbers with increasing precision."
   ]
  },
  {
   "cell_type": "code",
   "execution_count": null,
   "metadata": {
    "ExecuteTime": {
     "end_time": "2020-07-03T19:40:56.956506Z",
     "start_time": "2020-07-03T19:40:56.668566Z"
    },
    "cell_id": "dc407166967340dd86f6b8d8d686aa44",
    "deepnote_app_coordinates": {
     "h": 11,
     "w": 12,
     "x": 0,
     "y": 537
    },
    "deepnote_cell_type": "code",
    "deepnote_to_be_reexecuted": false,
    "execution_millis": 314,
    "execution_start": 1690185545716,
    "source_hash": null
   },
   "outputs": [],
   "source": [
    "cons_downsized = cons.astype('float16')\n",
    "cons_downsized.info()"
   ]
  },
  {
   "cell_type": "markdown",
   "metadata": {
    "cell_id": "a44d4293a8694e6d9ea44ea591648b34",
    "deepnote_app_coordinates": {
     "h": 7,
     "w": 12,
     "x": 0,
     "y": 549
    },
    "deepnote_cell_height": 119.53125,
    "deepnote_cell_type": "markdown"
   },
   "source": [
    "What is happening here fundamentally is that the computer is using a coarser representation to store the same numbers. This will result in some loss of fidelity naturally (quantization error). However, in some cases, this trade off between accuracy and file size can be justified, especially when working with very large datasets that do not fit into memory (e.g. greater than tens or hundreds of GB's)."
   ]
  },
  {
   "cell_type": "markdown",
   "metadata": {
    "cell_id": "a73328880d924e50b0901ac4890dd7fc",
    "deepnote_app_coordinates": {
     "h": 5,
     "w": 12,
     "x": 0,
     "y": 557
    },
    "deepnote_cell_height": 74.75,
    "deepnote_cell_type": "markdown"
   },
   "source": [
    "Note that this type cast makes sense once you have already loaded a dataframe into memory. For the case where you have not yet loaded the data into memory yet, you can simply set the _dtype_ to the desired value as an argument in the _read_csv_ function."
   ]
  },
  {
   "cell_type": "markdown",
   "metadata": {
    "cell_id": "1c558fbbde7d425c9c2518b16d08f9b8",
    "deepnote_app_coordinates": {
     "h": 4,
     "w": 12,
     "x": 0,
     "y": 563
    },
    "deepnote_cell_height": 69.96875,
    "deepnote_cell_type": "markdown"
   },
   "source": [
    "## Visualizing and working with data"
   ]
  },
  {
   "cell_type": "markdown",
   "metadata": {
    "cell_id": "930957baf3774cc8a58611fecfb32edf",
    "deepnote_app_coordinates": {
     "h": 8,
     "w": 12,
     "x": 0,
     "y": 568
    },
    "deepnote_cell_height": 119.53125,
    "deepnote_cell_type": "markdown"
   },
   "source": [
    "Now that we know how our dataframe is organized, we can begin with the more exciting task of visualizing consumption patterns in different households. This is straightforward using Matplotlib (recall we imported matplotlib at the start of the notebook as plt). The syntax used by Matplotlib is fairly similar to that used in Matlab, and it provides a lot of different capabilities for plotting out of the box. Here, we explore some of the core functionality enabled by matplotlib."
   ]
  },
  {
   "cell_type": "code",
   "execution_count": null,
   "metadata": {
    "ExecuteTime": {
     "end_time": "2020-07-03T19:41:58.038222Z",
     "start_time": "2020-07-03T19:41:57.532737Z"
    },
    "cell_id": "38842c8c9f96477981da36afcf4d2ca5",
    "deepnote_app_coordinates": {
     "h": 4,
     "w": 12,
     "x": 0,
     "y": 577
    },
    "deepnote_cell_type": "code",
    "deepnote_to_be_reexecuted": false,
    "execution_millis": 329,
    "execution_start": 1690185545716,
    "source_hash": null
   },
   "outputs": [],
   "source": [
    "cons = pd.read_csv('LoadData.csv', header=None, prefix='House')"
   ]
  },
  {
   "cell_type": "code",
   "execution_count": null,
   "metadata": {
    "ExecuteTime": {
     "end_time": "2020-07-03T19:41:58.866481Z",
     "start_time": "2020-07-03T19:41:58.690789Z"
    },
    "cell_id": "795bdcf22a304a13a32930b0194d1be7",
    "deepnote_app_coordinates": {
     "h": 24,
     "w": 12,
     "x": 0,
     "y": 582
    },
    "deepnote_cell_type": "code",
    "deepnote_to_be_reexecuted": false,
    "execution_millis": 365,
    "execution_start": 1690185545717,
    "source_hash": null
   },
   "outputs": [],
   "source": [
    "plt.plot(cons.House1)\n",
    "plt.xlabel('Time')\n",
    "plt.ylabel('Power consumption [kW]')\n",
    "plt.grid(True)\n",
    "plt.show()"
   ]
  },
  {
   "cell_type": "markdown",
   "metadata": {
    "cell_id": "65b9d7672d5e4ddcac1ef6c32259ac40",
    "deepnote_app_coordinates": {
     "h": 5,
     "w": 12,
     "x": 0,
     "y": 607
    },
    "deepnote_cell_height": 74.75,
    "deepnote_cell_type": "markdown"
   },
   "source": [
    "The figure size is a bit small, and it is quite difficult to see clearly what is going on. However, it is possible to increase the figure size to make things clearer. Likewise, updating the size of fonts is quite straightforward as well."
   ]
  },
  {
   "cell_type": "code",
   "execution_count": null,
   "metadata": {
    "ExecuteTime": {
     "end_time": "2020-07-03T19:42:01.799131Z",
     "start_time": "2020-07-03T19:42:01.795949Z"
    },
    "cell_id": "78326540ed814bb19f58bf863ef762be",
    "deepnote_app_coordinates": {
     "h": 4,
     "w": 12,
     "x": 0,
     "y": 613
    },
    "deepnote_cell_type": "code",
    "deepnote_to_be_reexecuted": false,
    "execution_millis": 163,
    "execution_start": 1690185545920,
    "source_hash": null
   },
   "outputs": [],
   "source": [
    "plt.rcParams['figure.figsize'] = [16, 10]\n",
    "plt.rcParams.update({'font.size': 15})"
   ]
  },
  {
   "cell_type": "markdown",
   "metadata": {
    "cell_id": "2fe968be0e1541d6a134d23edc2c83f7",
    "deepnote_app_coordinates": {
     "h": 6,
     "w": 12,
     "x": 0,
     "y": 618
    },
    "deepnote_cell_height": 97.140625,
    "deepnote_cell_type": "markdown"
   },
   "source": [
    "This does not take effect retroactively. So, if you want these changes to be reflected in your plots, you will have to manually rerun the code generating the graphics. You can also play with different attributes in the plot functionality to improve readability. You can also use the linewidth argument in the _plot_ function to visualize dense information better."
   ]
  },
  {
   "cell_type": "code",
   "execution_count": null,
   "metadata": {
    "ExecuteTime": {
     "end_time": "2020-07-03T19:42:03.290716Z",
     "start_time": "2020-07-03T19:42:03.017365Z"
    },
    "cell_id": "7429a61a3cc94f58880ad7d52922ba32",
    "deepnote_app_coordinates": {
     "h": 28,
     "w": 12,
     "x": 0,
     "y": 625
    },
    "deepnote_cell_type": "code",
    "deepnote_to_be_reexecuted": false,
    "execution_millis": 484,
    "execution_start": 1690185545921,
    "source_hash": null
   },
   "outputs": [],
   "source": [
    "plt.plot(cons.House1, linewidth=.5)\n",
    "plt.xlabel('Time')\n",
    "plt.ylabel('Power consumption [kW]')\n",
    "plt.grid(True)\n",
    "plt.show()"
   ]
  },
  {
   "cell_type": "markdown",
   "metadata": {
    "cell_id": "57623a08992c4e59b9cfdf5b5172e376",
    "deepnote_app_coordinates": {
     "h": 5,
     "w": 12,
     "x": 0,
     "y": 654
    },
    "deepnote_cell_height": 74.75,
    "deepnote_cell_type": "markdown"
   },
   "source": [
    "While it is easier to understand the energy demand better now, it is possible to select only a subset of data for even clearer visualization. Here, picking a week of data to visualize, we get:"
   ]
  },
  {
   "cell_type": "code",
   "execution_count": null,
   "metadata": {
    "ExecuteTime": {
     "end_time": "2020-07-03T19:42:04.631773Z",
     "start_time": "2020-07-03T19:42:04.431730Z"
    },
    "cell_id": "74f3f6c0794049f48abb08c3454e4bcf",
    "deepnote_app_coordinates": {
     "h": 30,
     "w": 12,
     "x": 0,
     "y": 660
    },
    "deepnote_cell_type": "code",
    "deepnote_to_be_reexecuted": false,
    "execution_millis": 603,
    "execution_start": 1690185546138,
    "source_hash": null
   },
   "outputs": [],
   "source": [
    "start_index = 0\n",
    "end_index = 96*7 # 96 quarters for 7 days\n",
    "plt.plot(cons.House1[start_index:end_index], linewidth=2)\n",
    "plt.xlabel('Time')\n",
    "plt.ylabel('Power consumption [kW]')\n",
    "plt.grid(True)\n",
    "plt.show()"
   ]
  },
  {
   "cell_type": "markdown",
   "metadata": {
    "cell_id": "39edd6dc708c49a99ee3406f9f23b370",
    "deepnote_app_coordinates": {
     "h": 11,
     "w": 12,
     "x": 0,
     "y": 691
    },
    "deepnote_cell_height": 226.703125,
    "deepnote_cell_type": "markdown"
   },
   "source": [
    "It seems that there is some periodic component to the signal, but there is too much information for it to be clearly visible. We can use many different strategies to understand the signal better:\n",
    "1. Reshaping the data\n",
    "2. Summarizing the data\n",
    "3. Filtering the data\n",
    "4. Aggregating data to a lower resolution\n",
    "5. Use interactive visualizations (which allow zooming / panning into or out of certain parts of the time series)."
   ]
  },
  {
   "cell_type": "markdown",
   "metadata": {
    "cell_id": "22a227d2ddfd4b12b3f8ca877aaba7bd",
    "deepnote_app_coordinates": {
     "h": 3,
     "w": 12,
     "x": 0,
     "y": 703
    },
    "deepnote_cell_height": 61.953125,
    "deepnote_cell_type": "markdown"
   },
   "source": [
    "### Reshaping and summarizing the time series"
   ]
  },
  {
   "cell_type": "markdown",
   "metadata": {
    "cell_id": "569904b77f18424aaf7ccea45bb11f9e",
    "deepnote_app_coordinates": {
     "h": 8,
     "w": 12,
     "x": 0,
     "y": 707
    },
    "deepnote_cell_height": 119.53125,
    "deepnote_cell_type": "markdown"
   },
   "source": [
    "It is possible to reshape a time series to better understand underlying dynamics. The time series is sampled at quarterly intervals, so there are 96 samples / day. By reordering the 1D time series to a 2D matrix (where we have  on the x-axis and  on the y-axis), it is easier to understand broad patterns in the data. The easiest way to do this in Python is using the _reshape_ function from numpy. To do this, we first retrieve the energy demand of a single house as a numpy array, and then reshape it."
   ]
  },
  {
   "cell_type": "code",
   "execution_count": null,
   "metadata": {
    "ExecuteTime": {
     "end_time": "2020-07-03T19:42:06.778265Z",
     "start_time": "2020-07-03T19:42:06.774363Z"
    },
    "cell_id": "d49408b2a6b048088e399927af03eed7",
    "deepnote_app_coordinates": {
     "h": 6,
     "w": 12,
     "x": 0,
     "y": 716
    },
    "deepnote_cell_type": "code",
    "deepnote_to_be_reexecuted": false,
    "execution_millis": 241,
    "execution_start": 1690185546415,
    "owner_user_id": "bdc616b9-b418-44ff-aa60-8cdfeb356159",
    "source_hash": null
   },
   "outputs": [],
   "source": [
    "demand1D = np.array(cons.House1)\n",
    "number_quarters = 96\n",
    "number_days = int(demand1D.shape[0]/number_quarters)\n",
    "demand2D = demand1D.reshape(number_days, number_quarters)"
   ]
  },
  {
   "cell_type": "code",
   "execution_count": null,
   "metadata": {
    "ExecuteTime": {
     "end_time": "2020-07-03T19:42:07.597562Z",
     "start_time": "2020-07-03T19:42:07.347724Z"
    },
    "cell_id": "80b7bccdcdff40c0a4f1b3d1a72ae14b",
    "deepnote_app_coordinates": {
     "h": 31,
     "w": 12,
     "x": 0,
     "y": 723
    },
    "deepnote_cell_type": "code",
    "deepnote_to_be_reexecuted": false,
    "execution_millis": 513,
    "execution_start": 1690185546446,
    "source_hash": null
   },
   "outputs": [],
   "source": [
    "plt.imshow(demand2D, cmap='hot')\n",
    "plt.xlabel('Time of day')\n",
    "plt.ylabel('Day of year')\n",
    "plt.colorbar()\n",
    "plt.show()"
   ]
  },
  {
   "cell_type": "markdown",
   "metadata": {
    "cell_id": "35a85bf3572d41ef85e27406398a0741",
    "deepnote_app_coordinates": {
     "h": 4,
     "w": 12,
     "x": 0,
     "y": 755
    },
    "deepnote_cell_height": 52.359375,
    "deepnote_cell_type": "markdown"
   },
   "source": [
    "That looks much better! A diurnal trend is now clearly visible (high demand during the day and low demand during the night hours). "
   ]
  },
  {
   "cell_type": "markdown",
   "metadata": {
    "cell_id": "0b1069eae1534393be14f0fa1ce6b45a",
    "deepnote_app_coordinates": {
     "h": 3,
     "w": 12,
     "x": 0,
     "y": 760
    },
    "deepnote_cell_height": 61.953125,
    "deepnote_cell_type": "markdown"
   },
   "source": [
    "### Summarizing the data"
   ]
  },
  {
   "cell_type": "markdown",
   "metadata": {
    "cell_id": "923aa54df9fd4d32b3efc621a70cf8c6",
    "deepnote_app_coordinates": {
     "h": 5,
     "w": 12,
     "x": 0,
     "y": 764
    },
    "deepnote_cell_height": 74.75,
    "deepnote_cell_type": "markdown"
   },
   "source": [
    "As a next step, it is instructive to summarize it along both axis (the x-axis is the time of day, the y-axis is the day of year). This is easily done by using the _axis_ argument in the _mean_ function in numpy."
   ]
  },
  {
   "cell_type": "code",
   "execution_count": null,
   "metadata": {
    "ExecuteTime": {
     "end_time": "2020-07-03T19:42:09.853941Z",
     "start_time": "2020-07-03T19:42:09.637317Z"
    },
    "cell_id": "63607ee072a9480d8622036eb4971a6c",
    "deepnote_app_coordinates": {
     "h": 28,
     "w": 12,
     "x": 0,
     "y": 770
    },
    "deepnote_cell_type": "code",
    "deepnote_to_be_reexecuted": false,
    "execution_millis": 365,
    "execution_start": 1690185546741,
    "source_hash": null
   },
   "outputs": [],
   "source": [
    "plt.plot(np.mean(demand2D, axis=0), '*--')\n",
    "plt.xlabel('Time of day')\n",
    "plt.ylabel('Average power demand [kW]')\n",
    "plt.grid(True)\n",
    "plt.show()"
   ]
  },
  {
   "cell_type": "markdown",
   "metadata": {
    "cell_id": "2935a542178a4000b5ae8ef39d8cd9a3",
    "deepnote_app_coordinates": {
     "h": 14,
     "w": 12,
     "x": 0,
     "y": 799
    },
    "deepnote_cell_height": 223.109375,
    "deepnote_cell_type": "markdown"
   },
   "source": [
    "It is obvious now that the demand during the middle of the night (between 3am to 6am) is at its lowest. Moreover, this trough is about a factor of 3.5 times lower than the peak during the evening. Also note the very fast ramp in the evening where the demand grows by almost a factor of two in a matter of an hour. These high ramping rates can cause problems for the system operator, especially in the case where they align with decreasing solar PV production. Aggregation of demand over many different consumers tends to smooth out these rapid fluctuations in energy demand. \n",
    "\n",
    "Note that this plot only shows the mean demand throughout the day, it does not show how the values are distributed around this mean, i.e. if the variability in demand is high or low at a certain point of the day or not. You can visualize this by plotting out all the days of the year as independent time series with the mean value overlaid."
   ]
  },
  {
   "cell_type": "code",
   "execution_count": null,
   "metadata": {
    "ExecuteTime": {
     "end_time": "2020-07-03T19:42:11.555996Z",
     "start_time": "2020-07-03T19:42:10.835373Z"
    },
    "cell_id": "d3deb0853725496996e2627f272114b0",
    "deepnote_app_coordinates": {
     "h": 29,
     "w": 12,
     "x": 0,
     "y": 814
    },
    "deepnote_cell_type": "code",
    "deepnote_to_be_reexecuted": false,
    "execution_millis": 2949,
    "execution_start": 1690185546986,
    "source_hash": null
   },
   "outputs": [],
   "source": [
    "plt.plot(demand2D.T, alpha=.1, color='black')\n",
    "plt.plot(np.mean(demand2D, axis=0), '*--', color='red')\n",
    "plt.xlabel('Time of day')\n",
    "plt.ylabel('Average power demand [kW]')\n",
    "plt.grid(True)\n",
    "plt.show()"
   ]
  },
  {
   "cell_type": "markdown",
   "metadata": {
    "cell_id": "03e05c5e0ceb410782f2afd2bee6ea5b",
    "deepnote_app_coordinates": {
     "h": 12,
     "w": 12,
     "x": 0,
     "y": 844
    },
    "deepnote_cell_height": 217.71875,
    "deepnote_cell_type": "markdown"
   },
   "source": [
    "This plot shows two things:\n",
    "1. The variability during different times of the day is quite different. The mean demand is lowest during the night, when the variability is also very low. Likewise, during the evening both the mean and variance are highest in the time series.\n",
    "2. The differences in mean are actually very small compared to the actual demand values (i.e. calculating the mean is smoothing out the time series). \n",
    "\n",
    "We can verify these conclusions by calculating a box plot of the 2D demand signal. You can use the _boxplot_ function from matplotlib to create such a visualization (keep in mind that it can take a while to draw a boxplot)."
   ]
  },
  {
   "cell_type": "code",
   "execution_count": null,
   "metadata": {
    "ExecuteTime": {
     "end_time": "2020-07-03T19:42:13.630683Z",
     "start_time": "2020-07-03T19:42:11.958938Z"
    },
    "cell_id": "1cfa465d319641ff84580603f8d2b198",
    "deepnote_app_coordinates": {
     "h": 27,
     "w": 12,
     "x": 0,
     "y": 857
    },
    "deepnote_cell_type": "code",
    "deepnote_to_be_reexecuted": false,
    "execution_millis": 1694,
    "execution_start": 1690185548237,
    "source_hash": null
   },
   "outputs": [],
   "source": [
    "plt.boxplot(demand2D)\n",
    "plt.grid(True)\n",
    "plt.show()"
   ]
  },
  {
   "cell_type": "markdown",
   "metadata": {
    "cell_id": "ef11d73b49d4452280f9ef3365152c48",
    "deepnote_app_coordinates": {
     "h": 13,
     "w": 12,
     "x": 0,
     "y": 885
    },
    "deepnote_cell_height": 223.703125,
    "deepnote_cell_type": "markdown"
   },
   "source": [
    "The boxplot verifies our earlier findings. Keep in mind that a boxplot is a technique that allows one to visualize groups of numerical data through their quartiles. Boxplots are non-parametric, in the sense that they display the variability in the data without making any assumptions of the underlying statistical distribution. A boxplot usually has a few components:\n",
    "\n",
    "1. The median, shown here as the red horizontal line in the middle of the box\n",
    "2. The box, which shows the 25th to 75th quartile of the data by default\n",
    "3. The 'whiskers' (i.e. the vertical lines extending from the boxes) which shows the 5th to 95th percentile by default\n",
    "4. The individual points, which extend beyond these percentiles, might be considered as outliers under specific conditions."
   ]
  },
  {
   "cell_type": "markdown",
   "metadata": {
    "cell_id": "d9663f0b50a4457f820f9aa0072b8686",
    "deepnote_app_coordinates": {
     "h": 4,
     "w": 12,
     "x": 0,
     "y": 899
    },
    "deepnote_cell_height": 74.75,
    "deepnote_cell_type": "markdown"
   },
   "source": [
    "Finally, let us check to see if there is a clear seasonal trend (on a daily level) to the electricity demand in the household under consideration."
   ]
  },
  {
   "cell_type": "code",
   "execution_count": null,
   "metadata": {
    "ExecuteTime": {
     "end_time": "2020-07-03T19:42:14.129258Z",
     "start_time": "2020-07-03T19:42:13.946973Z"
    },
    "cell_id": "059afe1752e74de8977d5b49e0e381d2",
    "deepnote_app_coordinates": {
     "h": 28,
     "w": 12,
     "x": 0,
     "y": 904
    },
    "deepnote_cell_type": "code",
    "deepnote_to_be_reexecuted": false,
    "execution_millis": 635,
    "execution_start": 1690185548916,
    "source_hash": null
   },
   "outputs": [],
   "source": [
    "plt.plot(np.mean(demand2D, 1))\n",
    "plt.xlabel('Day of year')\n",
    "plt.ylabel('Average demand [kW]')\n",
    "plt.grid(True)\n",
    "plt.show()"
   ]
  },
  {
   "cell_type": "markdown",
   "metadata": {
    "cell_id": "72816ede1de64843af746e94774f68dc",
    "deepnote_app_coordinates": {
     "h": 6,
     "w": 12,
     "x": 0,
     "y": 933
    },
    "deepnote_cell_height": 97.140625,
    "deepnote_cell_type": "markdown"
   },
   "source": [
    "It is quite obvious from the data that something strange happened between the second and fourth month (roughly day 70 to 120) when demand plummeted. In real situations, this can be either due to problems with data collection or underlying changes in demand patterns (e.g. householders leaving on holidays etc.)."
   ]
  },
  {
   "cell_type": "markdown",
   "metadata": {
    "ExecuteTime": {
     "end_time": "2020-05-26T14:28:02.093365Z",
     "start_time": "2020-05-26T14:28:02.089847Z"
    },
    "cell_id": "4553c57d5c164a978dd48e3ebcf22088",
    "deepnote_app_coordinates": {
     "h": 10,
     "w": 12,
     "x": 0,
     "y": 940
    },
    "deepnote_cell_height": 141.9375,
    "deepnote_cell_type": "markdown"
   },
   "source": [
    "One more visualization tool that can prove to be very useful is the histogram. Matplotlib provides native functionality for this as well. A histogram does away with the temporal dimension, and allows you to focus on the overall distribution of values in your dataset. In this case, the histogram shows that even though a lot of demand values are placed lower than 1 kW, there is a very long tail of demand. In cases where the peak demand (or max values) matter, this can be a challenge. Note that in this case we use the _bins_ argument to make sure we get fine grained information from the histogram. By default, this takes the value of 10."
   ]
  },
  {
   "cell_type": "code",
   "execution_count": null,
   "metadata": {
    "ExecuteTime": {
     "end_time": "2020-07-03T19:42:16.652897Z",
     "start_time": "2020-07-03T19:42:16.311348Z"
    },
    "cell_id": "ec380f0e25d845f6bb724af07075c518",
    "deepnote_app_coordinates": {
     "h": 28,
     "w": 12,
     "x": 0,
     "y": 951
    },
    "deepnote_cell_type": "code",
    "deepnote_to_be_reexecuted": false,
    "execution_millis": 82,
    "execution_start": 1690185549470,
    "source_hash": null
   },
   "outputs": [],
   "source": [
    "plt.hist(demand1D, bins=50)\n",
    "plt.xlabel('Electricity [kW]')\n",
    "plt.ylabel('Frequency')\n",
    "plt.grid(True)\n",
    "plt.show()"
   ]
  },
  {
   "cell_type": "markdown",
   "metadata": {
    "cell_id": "0b1e823f8a1f40e79d0e8ab8b25baf59",
    "deepnote_app_coordinates": {
     "h": 5,
     "w": 12,
     "x": 0,
     "y": 980
    },
    "deepnote_cell_height": 74.75,
    "deepnote_cell_type": "markdown"
   },
   "source": [
    "In the next lecture, we will take at some data-driven techniques to analyzing and better understanding the periodicity in the data. For now, we will explore the two other forms of better visualizing information we discussed earlier."
   ]
  },
  {
   "cell_type": "markdown",
   "metadata": {
    "cell_id": "3f05c54fefbf4bb09083fafa3e849bdd",
    "deepnote_app_coordinates": {
     "h": 3,
     "w": 12,
     "x": 0,
     "y": 986
    },
    "deepnote_cell_height": 61.953125,
    "deepnote_cell_type": "markdown"
   },
   "source": [
    "### Filtering"
   ]
  },
  {
   "cell_type": "markdown",
   "metadata": {
    "cell_id": "71f6efbf2957498dad55c4d6fdb7894d",
    "deepnote_app_coordinates": {
     "h": 9,
     "w": 12,
     "x": 0,
     "y": 990
    },
    "deepnote_cell_height": 141.9375,
    "deepnote_cell_type": "markdown"
   },
   "source": [
    "The averages we calculated above are much easier to interpret than the raw time series, as they allow us to quickly identify trends and possible seasonalities. However, it is possible to make the signal and suppress the noise by implementing different types of filters. Here, we will implement a very simple moving average filter. This has the effect of suppressing high frequency variations in the time series. You can use the _rolling_ function from pandas to achieve this. As argument to _rolling_ , you can provide the strength of the filter, a stronger filter will lead to a smoother time series."
   ]
  },
  {
   "cell_type": "code",
   "execution_count": null,
   "metadata": {
    "ExecuteTime": {
     "end_time": "2020-07-03T19:42:47.533795Z",
     "start_time": "2020-07-03T19:42:47.340938Z"
    },
    "cell_id": "990416735c3a443db97812774bb3de6c",
    "deepnote_app_coordinates": {
     "h": 30,
     "w": 12,
     "x": 0,
     "y": 1000
    },
    "deepnote_cell_type": "code",
    "deepnote_to_be_reexecuted": false,
    "execution_millis": 484,
    "execution_start": 1690185549471,
    "source_hash": null
   },
   "outputs": [],
   "source": [
    "plt.plot(np.mean(demand2D, 1), linewidth=0.5)\n",
    "plt.plot(pd.Series(np.mean(demand2D, 1)).rolling(\n",
    "    15, center=True).mean(), linewidth=3)\n",
    "plt.xlabel('Day of year')\n",
    "plt.ylabel('Average demand [kW]')\n",
    "plt.grid(True)\n",
    "plt.show()"
   ]
  },
  {
   "cell_type": "markdown",
   "metadata": {
    "cell_id": "e0288af70e0241328a4ad3cf3b71fb1b",
    "deepnote_app_coordinates": {
     "h": 8,
     "w": 12,
     "x": 0,
     "y": 1031
    },
    "deepnote_cell_height": 133.53125,
    "deepnote_cell_type": "markdown"
   },
   "source": [
    "From the moving average, it appears that there is some difference between the winter and summer energy demand (by almost 30% or even more). This can be explained both by electric heating, as well as higher appliance load during winter (for instance need for lighting during the darker winter months). \n",
    "\n",
    "We can apply a similar filter to the time-of-day energy demand:"
   ]
  },
  {
   "cell_type": "code",
   "execution_count": null,
   "metadata": {
    "ExecuteTime": {
     "end_time": "2020-07-03T19:42:48.449965Z",
     "start_time": "2020-07-03T19:42:48.270052Z"
    },
    "cell_id": "3f3d0d3f6e864140b08b5c0200e75331",
    "deepnote_app_coordinates": {
     "h": 30,
     "w": 12,
     "x": 0,
     "y": 1040
    },
    "deepnote_cell_type": "code",
    "deepnote_to_be_reexecuted": false,
    "execution_millis": 492,
    "execution_start": 1690185549625,
    "source_hash": null
   },
   "outputs": [],
   "source": [
    "plt.plot(np.mean(demand2D, 0), linewidth=0.5)\n",
    "plt.plot(pd.Series(np.mean(demand2D, 0)).rolling(\n",
    "    5, center=True).mean(), 'o-', linewidth=3)\n",
    "plt.xlabel('Time of day')\n",
    "plt.ylabel('Average demand [kW]')\n",
    "plt.grid(True)\n",
    "plt.show()"
   ]
  },
  {
   "cell_type": "markdown",
   "metadata": {
    "cell_id": "1b1266df7cf54346b6bb71d24a11d328",
    "deepnote_app_coordinates": {
     "h": 6,
     "w": 12,
     "x": 0,
     "y": 1071
    },
    "deepnote_cell_height": 97.140625,
    "deepnote_cell_type": "markdown"
   },
   "source": [
    "Nice. The moving filter removes most of the random fluctuations to reveal a smooth load profile for the household. It also smears the signal a bit (i.e. removes the peakiness); this may or may not be desirable. Edge-preserving and shape-preserving filters can be used to smooth time series, while still preserving the signal. However, this will not be covered in the course."
   ]
  },
  {
   "cell_type": "markdown",
   "metadata": {
    "cell_id": "ecd429e004c04a978257651e42b24ac4",
    "deepnote_app_coordinates": {
     "h": 3,
     "w": 12,
     "x": 0,
     "y": 1078
    },
    "deepnote_cell_height": 61.953125,
    "deepnote_cell_type": "markdown"
   },
   "source": [
    "### Resampling data"
   ]
  },
  {
   "cell_type": "markdown",
   "metadata": {
    "cell_id": "0e5c9369d5ea44139646faa06ebe077b",
    "deepnote_app_coordinates": {
     "h": 15,
     "w": 12,
     "x": 0,
     "y": 1082
    },
    "deepnote_cell_height": 223.109375,
    "deepnote_cell_type": "markdown"
   },
   "source": [
    "The final technique to clearly visualize data is to directly resample it. This has the effect of reducing the temporal resolution of your input time series. In many real life situations, you may not need to work with quarterly data. In these cases, you can resample quarterly data to hourly data, which is then easier to process and visualize. \n",
    "\n",
    "There are a number of ways in which data can be resampled. We already encountered one case where we were calculating the daily average demand (in this case we were downsampling our data from quarterly to daily demand data). However, in this section, we will use the inbuilt functionality from Pandas. This assumes a timestamp to be associated to your data (as the index), which you can then downscale using the _resample_ functionality. We will do this in a slightly roundabout way for a single household (after creating a dataframe for this time series. This is done to also illustrate how to create a new dataframe from scratch. \n"
   ]
  },
  {
   "cell_type": "code",
   "execution_count": null,
   "metadata": {
    "ExecuteTime": {
     "end_time": "2020-07-03T19:42:50.406211Z",
     "start_time": "2020-07-03T19:42:50.393966Z"
    },
    "cell_id": "798ec45b7a714d24babb7b0a90d7a120",
    "deepnote_app_coordinates": {
     "h": 5,
     "w": 12,
     "x": 0,
     "y": 1098
    },
    "deepnote_cell_type": "code",
    "deepnote_to_be_reexecuted": false,
    "execution_millis": 22,
    "execution_start": 1690185549901,
    "source_hash": null
   },
   "outputs": [],
   "source": [
    "index = pd.date_range(start='2013-01-01', periods=96*350, freq='15T')\n",
    "new_dataframe = pd.DataFrame(demand1D)\n",
    "new_dataframe.index = index"
   ]
  },
  {
   "cell_type": "markdown",
   "metadata": {
    "cell_id": "886df47516e24002b6c8c11dec36851a",
    "deepnote_app_coordinates": {
     "h": 6,
     "w": 12,
     "x": 0,
     "y": 1104
    },
    "deepnote_cell_height": 97.140625,
    "deepnote_cell_type": "markdown"
   },
   "source": [
    "Note that you can achieve the same resampling outcome by writing your own code while working with numpy arrays. However, this might increase the probability of bugs, especially because resample exposes multiple time scales (e.g. hourly, daily, weekly etc.) and also mathematical operations (e.g. mean, max etc.) out of the box."
   ]
  },
  {
   "cell_type": "markdown",
   "metadata": {
    "cell_id": "34ca61255b374785bbad5b3416ac4a44",
    "deepnote_app_coordinates": {
     "h": 5,
     "w": 12,
     "x": 0,
     "y": 1111
    },
    "deepnote_cell_height": 74.75,
    "deepnote_cell_type": "markdown"
   },
   "source": [
    "In the next step, we use the resample function to sample data to multiple aggregation levels (hourly, daily, monthly and weekly). Note that we are calculating the resampled value to take on the mean value. "
   ]
  },
  {
   "cell_type": "code",
   "execution_count": null,
   "metadata": {
    "ExecuteTime": {
     "end_time": "2020-07-03T19:42:51.827499Z",
     "start_time": "2020-07-03T19:42:51.787689Z"
    },
    "cell_id": "95859a95939842e0a17aa1cd8706f1a1",
    "deepnote_app_coordinates": {
     "h": 6,
     "w": 12,
     "x": 0,
     "y": 1117
    },
    "deepnote_cell_type": "code",
    "deepnote_to_be_reexecuted": false,
    "execution_millis": 78,
    "execution_start": 1690185549901,
    "source_hash": null
   },
   "outputs": [],
   "source": [
    "hourly_demand = new_dataframe.resample('1H').mean()\n",
    "daily_demand = new_dataframe.resample('1D').mean()\n",
    "weekly_demand = new_dataframe.resample('1W').mean()\n",
    "monthly_demand = new_dataframe.resample('1M').mean()"
   ]
  },
  {
   "cell_type": "markdown",
   "metadata": {
    "cell_id": "f032073f4c2b40329b206ad939c43154",
    "deepnote_app_coordinates": {
     "h": 5,
     "w": 12,
     "x": 0,
     "y": 1124
    },
    "deepnote_cell_height": 97.140625,
    "deepnote_cell_type": "markdown"
   },
   "source": [
    "Now that we have successfully resampled the data, it is possible to plot these time series. However, instead of creating four plots separately, you can also use the _subplot_ functionality from matplotlib. This works remarkably similar to the Matlab subplot functionality."
   ]
  },
  {
   "cell_type": "code",
   "execution_count": null,
   "metadata": {
    "ExecuteTime": {
     "end_time": "2020-07-03T19:42:53.215424Z",
     "start_time": "2020-07-03T19:42:52.713780Z"
    },
    "cell_id": "f459a402871b4dd2bd11ec1cf64db8da",
    "deepnote_app_coordinates": {
     "h": 43,
     "w": 12,
     "x": 0,
     "y": 1130
    },
    "deepnote_cell_type": "code",
    "deepnote_to_be_reexecuted": false,
    "execution_millis": 853,
    "execution_start": 1690185549932,
    "source_hash": null
   },
   "outputs": [],
   "source": [
    "fig = plt.figure()\n",
    "\n",
    "plt.subplot(2, 2, 1)\n",
    "plt.plot(hourly_demand)\n",
    "plt.xlabel('Time of day')\n",
    "plt.ylabel('Average demand [kW]')\n",
    "plt.grid(True)\n",
    "\n",
    "plt.subplot(2, 2, 2)\n",
    "plt.plot(daily_demand)\n",
    "plt.xlabel('Time of day')\n",
    "plt.ylabel('Average demand [kW]')\n",
    "plt.grid(True)\n",
    "\n",
    "plt.subplot(2, 2, 3)\n",
    "plt.plot(weekly_demand)\n",
    "plt.xlabel('Time of day')\n",
    "plt.ylabel('Average demand [kW]')\n",
    "plt.grid(True)\n",
    "\n",
    "plt.subplot(2, 2, 4)\n",
    "plt.plot(monthly_demand)\n",
    "plt.xlabel('Time of day')\n",
    "plt.ylabel('Average demand [kW]')\n",
    "plt.grid(True)\n",
    "\n",
    "plt.show()"
   ]
  },
  {
   "cell_type": "markdown",
   "metadata": {
    "ExecuteTime": {
     "end_time": "2020-05-26T13:30:45.553814Z",
     "start_time": "2020-05-26T13:30:45.551270Z"
    },
    "cell_id": "45e2d4ef4bba44509fb3b35cb59311f0",
    "deepnote_app_coordinates": {
     "h": 3,
     "w": 12,
     "x": 0,
     "y": 1174
    },
    "deepnote_cell_height": 61.953125,
    "deepnote_cell_type": "markdown"
   },
   "source": [
    "### Alternative visualization tools"
   ]
  },
  {
   "cell_type": "markdown",
   "metadata": {
    "cell_id": "0f628f6413144c9b8d637ac64573c6e6",
    "deepnote_app_coordinates": {
     "h": 7,
     "w": 12,
     "x": 0,
     "y": 1178
    },
    "deepnote_cell_height": 97.140625,
    "deepnote_cell_type": "markdown"
   },
   "source": [
    "So far, we have used matplotlib to visualize data. Even though matplotlib is the standard visualization workhorse in python, a number of alternatives such as Bokeh, Altair, Seaborn exist. In this section, we quickly introduce Plotly, a visualization library to create interactive visualizations. Interactivity can greatly enhance the quality and interpretability of visualizations, as we see here:"
   ]
  },
  {
   "cell_type": "code",
   "execution_count": null,
   "metadata": {
    "ExecuteTime": {
     "end_time": "2020-07-03T19:43:29.992192Z",
     "start_time": "2020-07-03T19:43:29.824784Z"
    },
    "cell_id": "bc63afec87b04b64999c943d05b9c2ac",
    "deepnote_app_coordinates": {
     "h": 28,
     "w": 12,
     "x": 0,
     "y": 1186
    },
    "deepnote_cell_type": "code",
    "deepnote_to_be_reexecuted": false,
    "execution_millis": 590,
    "execution_start": 1690185550549,
    "source_hash": null
   },
   "outputs": [],
   "source": [
    "import plotly.graph_objects as go\n",
    "fig = go.Figure(data=go.Scatter(x=np.arange(len(demand1D)), \n",
    "                                y=demand1D))\n",
    "fig.update_layout(xaxis_title='Time of year', \n",
    "                  yaxis_title='Electricity demand [kW]')\n",
    "fig.show()"
   ]
  },
  {
   "cell_type": "markdown",
   "metadata": {
    "cell_id": "9b51a151ba8643f189f2a120090d0bd4",
    "deepnote_app_coordinates": {
     "h": 9,
     "w": 12,
     "x": 0,
     "y": 1215
    },
    "deepnote_cell_height": 141.9375,
    "deepnote_cell_type": "markdown"
   },
   "source": [
    "With this plot, you can easily zoom into your time series to explore fine-grained detail. Another benefit of Plotly (and some of the other more recent visualization tools) is that they can be used directly as an input for dashboarding tools. This allows for not just interactive visualizations, but also interactive processing. Imagine if you could interactively adjust the filter strength (e.g. via a slider) or even choose which sampling interval you were working with using a button. The possibilities of such a framework are endless."
   ]
  },
  {
   "cell_type": "markdown",
   "metadata": {
    "cell_id": "dafd72ef1e124ee182a671d3370a94e3",
    "deepnote_app_coordinates": {
     "h": 13,
     "w": 12,
     "x": 0,
     "y": 1225
    },
    "deepnote_cell_height": 254.703125,
    "deepnote_cell_type": "markdown"
   },
   "source": [
    "### Exercises \n",
    "\n",
    "1. In this section, we have worked with data from a single household. As an exercise, use data from a different household (i.e. a different column in the data we loaded at the beginning of the lecture), and compare the two to see if there are any noticeable differences across the two.\n",
    "2. How does filtering work in practice? Can you think about the different ways in which you can influence the output of a filter (e.g. choice of kernel, span of filter etc.)\n",
    "3. What happens if you upsample your data (e.g. resample to 1 minute intervals) as opposed to downsampling? Compare the results with the interpolation function in Python."
   ]
  },
  {
   "cell_type": "markdown",
   "metadata": {
    "cell_id": "e241b3582617404bb9a192a8ba410d50",
    "deepnote_app_coordinates": {
     "h": 4,
     "w": 12,
     "x": 0,
     "y": 1239
    },
    "deepnote_cell_height": 69.96875,
    "deepnote_cell_type": "markdown"
   },
   "source": [
    "## Dealing with missing data"
   ]
  },
  {
   "cell_type": "markdown",
   "metadata": {
    "cell_id": "6af2d4f6377d4cf1b4ff62dc2c725220",
    "deepnote_app_coordinates": {
     "h": 7,
     "w": 12,
     "x": 0,
     "y": 1244
    },
    "deepnote_cell_height": 97.140625,
    "deepnote_cell_type": "markdown"
   },
   "source": [
    "For the final section of this lesson, we will look into ways of dealing with missing data. To do this, we will load four variants of demand data into a single dataframe: the first one is the original consumption data for the first household. The remaining three columns also contain the same demand data, however this has now been corrupted according to three different processes."
   ]
  },
  {
   "cell_type": "code",
   "execution_count": 14,
   "metadata": {
    "ExecuteTime": {
     "end_time": "2020-07-03T19:43:53.688120Z",
     "start_time": "2020-07-03T19:43:53.465541Z"
    },
    "cell_id": "55451be4946b45948b579ba3b8c1aa60",
    "deepnote_app_coordinates": {
     "h": 6,
     "w": 12,
     "x": 0,
     "y": 1252
    },
    "deepnote_cell_type": "code",
    "deepnote_to_be_reexecuted": false,
    "execution_millis": 241,
    "execution_start": 1690185550975,
    "source_hash": null
   },
   "outputs": [],
   "source": [
    "demand = pd.read_csv('LoadData.csv', header=None, usecols=[0])[0:672]\n",
    "demand = demand.add_prefix('House')\n",
    "demand['missing1'] = pickle.load(open(\"LoadData_missing1.p\", \"rb\"))\n",
    "demand['missing2'] = pickle.load(open(\"LoadData_missing2.p\", \"rb\"))\n",
    "demand['missing3'] = pickle.load(open(\"LoadData_missing3.p\", \"rb\"))"
   ]
  },
  {
   "cell_type": "markdown",
   "metadata": {
    "cell_id": "b98a162996fe493ea92b22dab6fbba7e",
    "deepnote_app_coordinates": {
     "h": 10,
     "w": 12,
     "x": 0,
     "y": 1259
    },
    "deepnote_cell_height": 203.921875,
    "deepnote_cell_type": "markdown"
   },
   "source": [
    "### Finding missing data\n",
    "There are a number of different ways to look for and fix missing (or anomalous) values in your data. The missingno library is one way to do this, as it allows you to quickly analyze data streams and locate missing values (as nan's). These can take a number of different forms, but we start with a bar chart (using the _bar_ function) that describes the number of non-missing entries in each column of the dataframe we are working with.\n",
    "\n",
    "Recall that we imported the missingno library at the start of this notebook."
   ]
  },
  {
   "cell_type": "code",
   "execution_count": 15,
   "metadata": {
    "ExecuteTime": {
     "end_time": "2020-07-03T19:43:54.966909Z",
     "start_time": "2020-07-03T19:43:54.508294Z"
    },
    "cell_id": "d6ee38936c14494b8f76734b54f3cf39",
    "deepnote_app_coordinates": {
     "h": 22,
     "w": 12,
     "x": 0,
     "y": 1270
    },
    "deepnote_cell_type": "code",
    "deepnote_to_be_reexecuted": false,
    "execution_millis": 187,
    "execution_start": 1690185551140,
    "source_hash": null
   },
   "outputs": [
    {
     "data": {
      "text/plain": [
       "<Axes: >"
      ]
     },
     "execution_count": 15,
     "metadata": {},
     "output_type": "execute_result"
    },
    {
     "data": {
      "image/png": "[encoded data removed]",
      "text/plain": [
       "<Figure size 2500x1000 with 3 Axes>"
      ]
     },
     "metadata": {},
     "output_type": "display_data"
    }
   ],
   "source": [
    "msno.bar(demand)"
   ]
  },
  {
   "cell_type": "markdown",
   "metadata": {
    "cell_id": "9157c293c2144df0ab1437c851d9469d",
    "deepnote_app_coordinates": {
     "h": 8,
     "w": 12,
     "x": 0,
     "y": 1293
    },
    "deepnote_cell_height": 133.53125,
    "deepnote_cell_type": "markdown"
   },
   "source": [
    "This plot already provides us with the information that _missing1_ has the most missing values, while _missing3_ has the least.\n",
    "\n",
    "The bar chart does not provide any information about the location of these missing values. However, a matrix view can be quite useful to locate them. This view plots out the missing values in each column in the dataframe. To do this, we use the _matrix_ function from the missingno library."
   ]
  },
  {
   "cell_type": "code",
   "execution_count": 16,
   "metadata": {
    "ExecuteTime": {
     "end_time": "2020-07-03T19:43:55.607675Z",
     "start_time": "2020-07-03T19:43:55.317067Z"
    },
    "cell_id": "bea3228cb39947f3a7553219f63b8bdc",
    "deepnote_app_coordinates": {
     "h": 21,
     "w": 12,
     "x": 0,
     "y": 1302
    },
    "deepnote_cell_type": "code",
    "deepnote_to_be_reexecuted": false,
    "execution_millis": 1869,
    "execution_start": 1690185552129,
    "source_hash": null
   },
   "outputs": [
    {
     "data": {
      "text/plain": [
       "<Axes: >"
      ]
     },
     "execution_count": 16,
     "metadata": {},
     "output_type": "execute_result"
    },
    {
     "data": {
      "image/png": "[encoded data removed]",
      "text/plain": [
       "<Figure size 2500x1000 with 2 Axes>"
      ]
     },
     "metadata": {},
     "output_type": "display_data"
    }
   ],
   "source": [
    "msno.matrix(demand)"
   ]
  },
  {
   "cell_type": "markdown",
   "metadata": {
    "cell_id": "4016998e9cb7423bbba4f7245e34fb87",
    "deepnote_app_coordinates": {
     "h": 8,
     "w": 12,
     "x": 0,
     "y": 1324
    },
    "deepnote_cell_height": 119.53125,
    "deepnote_cell_type": "markdown"
   },
   "source": [
    "As expected, this view provides much more information about the missing values location, and it seems that all three time series are suffering from different issues. The final functionality that we explore in the missingno library is the _heatmap_ function. This view shows how different time series have missing values at the same location. In reality, this can be to locate if multiple sensors are failing at the same time (which can also be an indication of connectivity issues)."
   ]
  },
  {
   "cell_type": "code",
   "execution_count": 12,
   "metadata": {
    "ExecuteTime": {
     "end_time": "2020-07-03T19:43:56.240223Z",
     "start_time": "2020-07-03T19:43:56.025092Z"
    },
    "cell_id": "0b7682856bda4a91a288f3f91dc7f1df",
    "deepnote_app_coordinates": {
     "h": 20,
     "w": 12,
     "x": 0,
     "y": 1333
    },
    "deepnote_cell_type": "code",
    "deepnote_to_be_reexecuted": false,
    "execution_millis": 1574,
    "execution_start": 1690185552653,
    "source_hash": null
   },
   "outputs": [
    {
     "data": {
      "text/plain": [
       "<Axes: >"
      ]
     },
     "execution_count": 12,
     "metadata": {},
     "output_type": "execute_result"
    },
    {
     "data": {
      "image/png": "[encoded data removed]",
      "text/plain": [
       "<Figure size 2000x1200 with 2 Axes>"
      ]
     },
     "metadata": {},
     "output_type": "display_data"
    }
   ],
   "source": [
    "msno.heatmap(demand)"
   ]
  },
  {
   "cell_type": "markdown",
   "metadata": {
    "cell_id": "f77f1ab68dc7496abebf11b4bc69d1a4",
    "deepnote_app_coordinates": {
     "h": 8,
     "w": 12,
     "x": 0,
     "y": 1354
    },
    "deepnote_cell_height": 145.140625,
    "deepnote_cell_type": "markdown"
   },
   "source": [
    "### Fixing missing data\n",
    "In many cases, it makes sense for downstream operations to replace missing values by some other values. This can be done in either a naive way as explained here, or through more complicated transformations using machine learning. This latter is beyond the scope of this lesson, however if you are interested, check, for instance, the [fancyimpute](https://pypi.org/project/fancyimpute/) package."
   ]
  },
  {
   "cell_type": "markdown",
   "metadata": {
    "cell_id": "2e84109e7fc04500ac64e191aecc8ead",
    "deepnote_app_coordinates": {
     "h": 5,
     "w": 12,
     "x": 0,
     "y": 1363
    },
    "deepnote_cell_height": 74.75,
    "deepnote_cell_type": "markdown"
   },
   "source": [
    "In this section, we start off by making use of the _SimpleImputer_ functionality from scikit learn. The next lecture will deal in much greater detail with scikit learn, one of the core machine learning libraries in Python."
   ]
  },
  {
   "cell_type": "code",
   "execution_count": 17,
   "metadata": {
    "ExecuteTime": {
     "end_time": "2020-07-03T19:43:57.107226Z",
     "start_time": "2020-07-03T19:43:57.061450Z"
    },
    "cell_id": "c974692cdfab424292e52701ab7bc901",
    "deepnote_app_coordinates": {
     "h": 13,
     "w": 12,
     "x": 0,
     "y": 1369
    },
    "deepnote_cell_type": "code",
    "deepnote_to_be_reexecuted": false,
    "execution_millis": 897,
    "execution_start": 1690185553271,
    "source_hash": null
   },
   "outputs": [],
   "source": [
    "from sklearn.impute import SimpleImputer\n",
    "imp_mean = SimpleImputer(missing_values=np.nan, strategy='mean')\n",
    "imp_mean.fit(demand)\n",
    "imputed_demand = imp_mean.transform(demand)"
   ]
  },
  {
   "cell_type": "markdown",
   "metadata": {
    "cell_id": "74f1a35a3bd349a886fffed8302aae3f",
    "deepnote_app_coordinates": {
     "h": 8,
     "w": 12,
     "x": 0,
     "y": 1383
    },
    "deepnote_cell_height": 119.53125,
    "deepnote_cell_type": "markdown"
   },
   "source": [
    "Now that we have imputed the missing values in our imputed_demand dataframe, we can visualize this using matplotlib as before. Here, we only plot the second data which had missing data in all the three time series, however you can already see that the imputed values look quite different for the three time series (notice especially issues with time series 2 at the beginning of the day where the imputed value is obviously much higher than the actual value)."
   ]
  },
  {
   "cell_type": "code",
   "execution_count": 18,
   "metadata": {
    "ExecuteTime": {
     "end_time": "2020-07-03T19:43:57.884065Z",
     "start_time": "2020-07-03T19:43:57.679275Z"
    },
    "cell_id": "3a005497ce4145d1ba57791a08c4683a",
    "deepnote_app_coordinates": {
     "h": 31,
     "w": 12,
     "x": 0,
     "y": 1392
    },
    "deepnote_cell_type": "code",
    "deepnote_to_be_reexecuted": false,
    "execution_millis": 466,
    "execution_start": 1690185553801,
    "source_hash": null
   },
   "outputs": [
    {
     "data": {
      "image/png": "[encoded data removed]",
      "text/plain": [
       "<Figure size 640x480 with 1 Axes>"
      ]
     },
     "metadata": {},
     "output_type": "display_data"
    }
   ],
   "source": [
    "plt.plot(imputed_demand[96:192, 0], linewidth=5, label='Original time series')\n",
    "plt.plot(imputed_demand[96:192, 1], label='Time series with missing values 1')\n",
    "plt.plot(imputed_demand[96:192, 2], label='Time series with missing values 2')\n",
    "plt.plot(imputed_demand[96:192, 3], label='Time series with missing values 3')\n",
    "plt.xlabel('Time of day')\n",
    "plt.ylabel('Average power demand [kW]')\n",
    "plt.grid(True)\n",
    "plt.legend()\n",
    "plt.show()"
   ]
  },
  {
   "cell_type": "markdown",
   "metadata": {
    "cell_id": "67a31fe5b8f74663a1e16e5b71f16ad7",
    "deepnote_app_coordinates": {
     "h": 4,
     "w": 12,
     "x": 0,
     "y": 1424
    },
    "deepnote_cell_height": 52.359375,
    "deepnote_cell_type": "markdown"
   },
   "source": [
    "Note that imputing with the mean values can also be done in pandas directly, using the _fillna_ function."
   ]
  },
  {
   "cell_type": "code",
   "execution_count": 19,
   "metadata": {
    "ExecuteTime": {
     "end_time": "2020-07-03T19:43:58.606862Z",
     "start_time": "2020-07-03T19:43:58.403622Z"
    },
    "cell_id": "bca5d212a89e4589a97eddd1d05a69fd",
    "deepnote_app_coordinates": {
     "h": 30,
     "w": 12,
     "x": 0,
     "y": 1429
    },
    "deepnote_cell_type": "code",
    "deepnote_to_be_reexecuted": false,
    "execution_millis": 491,
    "execution_start": 1690185554037,
    "owner_user_id": "b4e2e84b-a1c3-498d-93a1-e264bb093f5b",
    "source_hash": null
   },
   "outputs": [
    {
     "data": {
      "image/png": "[encoded data removed]",
      "text/plain": [
       "<Figure size 640x480 with 1 Axes>"
      ]
     },
     "metadata": {},
     "output_type": "display_data"
    }
   ],
   "source": [
    "imputed_demand_filled = demand.fillna(np.mean(demand), inplace=False)\n",
    "\n",
    "plt.plot(imputed_demand_filled)\n",
    "plt.xlabel('Time of day')\n",
    "plt.ylabel('Average power demand [kW]')\n",
    "plt.grid(True)\n",
    "plt.show()"
   ]
  },
  {
   "cell_type": "markdown",
   "metadata": {
    "cell_id": "d76838f7602448baa8677360abae1198",
    "deepnote_app_coordinates": {
     "h": 5,
     "w": 12,
     "x": 0,
     "y": 1460
    },
    "deepnote_cell_height": 74.75,
    "deepnote_cell_type": "markdown"
   },
   "source": [
    "It is always a good idea to use the _matrix_ function introduced earlier to see the missing values after the impute operation has been applied. Ideally, these should be resolved by now."
   ]
  },
  {
   "cell_type": "code",
   "execution_count": 20,
   "metadata": {
    "ExecuteTime": {
     "end_time": "2020-07-03T19:43:59.360139Z",
     "start_time": "2020-07-03T19:43:59.067116Z"
    },
    "cell_id": "4ceb8a5f0a2c4a81b9578ce2b64e6981",
    "deepnote_app_coordinates": {
     "h": 21,
     "w": 12,
     "x": 0,
     "y": 1466
    },
    "deepnote_cell_type": "code",
    "deepnote_to_be_reexecuted": false,
    "execution_millis": 54,
    "execution_start": 1690185554325,
    "source_hash": null
   },
   "outputs": [
    {
     "data": {
      "text/plain": [
       "<Axes: >"
      ]
     },
     "execution_count": 20,
     "metadata": {},
     "output_type": "execute_result"
    },
    {
     "data": {
      "image/png": "[encoded data removed]",
      "text/plain": [
       "<Figure size 2500x1000 with 2 Axes>"
      ]
     },
     "metadata": {},
     "output_type": "display_data"
    }
   ],
   "source": [
    "msno.matrix(imputed_demand_filled)"
   ]
  },
  {
   "cell_type": "markdown",
   "metadata": {
    "cell_id": "cb8b18fb6a874113965a9892ed14193f",
    "deepnote_app_coordinates": {
     "h": 9,
     "w": 12,
     "x": 0,
     "y": 1488
    },
    "deepnote_cell_height": 141.9375,
    "deepnote_cell_type": "markdown"
   },
   "source": [
    "So the imputer has worked as expected, and there are no missing data points now (compare with the original matrix visualization). However, one problem with applying the mean as the imputed value is that it can change the distribution of the data. This is especially true when there is temporal structure in the time series which has missing values. One way to solve this is through using either the _ffill_ (forward fill) or the _bfill_ (backward fill) commands. The forward fill option will propagate last valid observation forward, while the backward fill option will do the opposite."
   ]
  },
  {
   "cell_type": "code",
   "execution_count": 21,
   "metadata": {
    "ExecuteTime": {
     "end_time": "2020-07-03T19:43:59.907033Z",
     "start_time": "2020-07-03T19:43:59.726487Z"
    },
    "cell_id": "c29094dcc8d4413f8b1fdf5c44a641e8",
    "deepnote_app_coordinates": {
     "h": 30,
     "w": 12,
     "x": 0,
     "y": 1498
    },
    "deepnote_cell_type": "code",
    "deepnote_to_be_reexecuted": false,
    "execution_millis": 484,
    "execution_start": 1690185554773,
    "source_hash": null
   },
   "outputs": [
    {
     "name": "stderr",
     "output_type": "stream",
     "text": [
      "/var/folders/hp/lznpmf_n37l1fqb42xhbmmx00000gp/T/ipykernel_88669/4094550182.py:1: FutureWarning: DataFrame.fillna with 'method' is deprecated and will raise in a future version. Use obj.ffill() or obj.bfill() instead.\n",
      "  imputed_demand_ffill = demand.fillna(method='ffill', inplace=False)\n"
     ]
    },
    {
     "data": {
      "image/png": "[encoded data removed]",
      "text/plain": [
       "<Figure size 640x480 with 1 Axes>"
      ]
     },
     "metadata": {},
     "output_type": "display_data"
    }
   ],
   "source": [
    "imputed_demand_ffill = demand.fillna(method='ffill', inplace=False)\n",
    "\n",
    "plt.plot(imputed_demand_ffill)\n",
    "plt.xlabel('Time of day')\n",
    "plt.ylabel('Average power demand [kW]')\n",
    "plt.grid(True)\n",
    "plt.show()"
   ]
  },
  {
   "cell_type": "markdown",
   "metadata": {
    "cell_id": "32f5de95745548d2b6b94f963364add3",
    "deepnote_app_coordinates": {
     "h": 6,
     "w": 12,
     "x": 0,
     "y": 1529
    },
    "deepnote_cell_height": 97.140625,
    "deepnote_cell_type": "markdown"
   },
   "source": [
    "As before, the missing number matrix tool can be used to ascertain that the missing values have indeed been imputed. It is also possible to apply interpolation to fill the missing values (as opposed to filling with mean or identical values). In this case, you also have the option to specify the interpolation method. This functionality is also provided by Pandas natively."
   ]
  },
  {
   "cell_type": "code",
   "execution_count": 22,
   "metadata": {
    "ExecuteTime": {
     "end_time": "2020-07-03T19:44:00.578477Z",
     "start_time": "2020-07-03T19:44:00.378934Z"
    },
    "cell_id": "2af44c5b909b441ab9d2fdb6cab06606",
    "deepnote_app_coordinates": {
     "h": 30,
     "w": 12,
     "x": 0,
     "y": 1536
    },
    "deepnote_cell_type": "code",
    "deepnote_to_be_reexecuted": false,
    "execution_millis": 469,
    "execution_start": 1690185555042,
    "source_hash": null
   },
   "outputs": [
    {
     "data": {
      "image/png": "[encoded data removed]",
      "text/plain": [
       "<Figure size 640x480 with 1 Axes>"
      ]
     },
     "metadata": {},
     "output_type": "display_data"
    }
   ],
   "source": [
    "linear_interpolated_demand = demand.interpolate(\n",
    "    method='linear', limit_direction='both')\n",
    "plt.plot(linear_interpolated_demand)\n",
    "plt.xlabel('Time of day')\n",
    "plt.ylabel('Average power demand [kW]')\n",
    "plt.grid(True)\n",
    "plt.show()"
   ]
  },
  {
   "cell_type": "markdown",
   "metadata": {
    "cell_id": "38f04ce6e794467583b28be02d811892",
    "deepnote_app_coordinates": {
     "h": 7,
     "w": 12,
     "x": 0,
     "y": 1567
    },
    "deepnote_cell_height": 119.53125,
    "deepnote_cell_type": "markdown"
   },
   "source": [
    "If you have reason to suspect that the data is distributed according to a polynomial distribution of higher order, you can also specify this in pandas as follows. However, this should be applied carefully. Even though linear interpolation will never go beyond the actual signal, quadratic and higher degree interpolations can cause the signal to exceed the original minima and maxima - which may be undesired behavior."
   ]
  },
  {
   "cell_type": "code",
   "execution_count": 23,
   "metadata": {
    "ExecuteTime": {
     "end_time": "2020-07-03T19:44:01.360841Z",
     "start_time": "2020-07-03T19:44:01.146955Z"
    },
    "cell_id": "43fbd3b8b7e84986ab923150e476e03e",
    "deepnote_app_coordinates": {
     "h": 29,
     "w": 12,
     "x": 0,
     "y": 1575
    },
    "deepnote_cell_type": "code",
    "deepnote_to_be_reexecuted": false,
    "execution_millis": 2374,
    "execution_start": 1690185555341,
    "source_hash": null
   },
   "outputs": [
    {
     "data": {
      "image/png": "[encoded data removed]",
      "text/plain": [
       "<Figure size 640x480 with 1 Axes>"
      ]
     },
     "metadata": {},
     "output_type": "display_data"
    }
   ],
   "source": [
    "quad_interpolated_demand = demand.interpolate(method='polynomial', order=2)\n",
    "plt.plot(quad_interpolated_demand)\n",
    "plt.xlabel('Time of day')\n",
    "plt.ylabel('Average power demand [kW]')\n",
    "plt.grid(True)\n",
    "plt.show()"
   ]
  },
  {
   "cell_type": "markdown",
   "metadata": {
    "cell_id": "ff95e7138f444817865c61bb439d0014",
    "deepnote_app_coordinates": {
     "h": 6,
     "w": 12,
     "x": 0,
     "y": 1605
    },
    "deepnote_cell_height": 97.140625,
    "deepnote_cell_type": "markdown"
   },
   "source": [
    "As you can see with the quadratic interpolation, the signal goes negative around time step 120. This is physically impossible for electricity demand. Another thing to observe here is that although the interpolation quality with filling the mean value was quite bad for signal 2, linear interpolation works quite well in comparison."
   ]
  },
  {
   "cell_type": "markdown",
   "metadata": {
    "cell_id": "32e0ad0c80a94c3291c036c3cd01bd8e",
    "deepnote_app_coordinates": {
     "h": 8,
     "w": 12,
     "x": 0,
     "y": 1612
    },
    "deepnote_cell_height": 165.125,
    "deepnote_cell_type": "markdown"
   },
   "source": [
    "### Exercises\n",
    "\n",
    "1. How does (linear) interpolation work in practice?\n",
    "2. Can you think of situations where one impute method might be more suitable than the rest?\n",
    "3. How can you compare the quality of your impute methods?"
   ]
  },
  {
   "cell_type": "code",
   "execution_count": null,
   "metadata": {
    "cell_id": "7aa385c487804962995def84150c10b0",
    "deepnote_app_coordinates": {
     "h": 4,
     "w": 12,
     "x": 0,
     "y": 1621
    },
    "deepnote_cell_type": "code",
    "deepnote_to_be_reexecuted": false,
    "execution_millis": 618,
    "execution_start": 1690185555621,
    "source_hash": null
   },
   "outputs": [],
   "source": []
  },
  {
   "cell_type": "markdown",
   "metadata": {
    "created_in_deepnote_cell": true,
    "deepnote_cell_type": "markdown"
   },
   "source": [
    "<a style='text-decoration:none;line-height:16px;display:flex;color:#5B5B62;padding:10px;justify-content:end;' href='https://deepnote.com?utm_source=created-in-deepnote-cell&projectId=5e07dece-2140-4897-ae8d-a013df5eb392' target=\"_blank\">\n",
    "<img alt='Created in deepnote.com' style='display:inline;max-height:16px;margin:0px;margin-right:7.5px;' src='data:image/svg+xml;base64,PD94bWwgdmVyc2lvbj0iMS4wIiBlbmNvZGluZz0iVVRGLTgiPz4KPHN2ZyB3aWR0aD0iODBweCIgaGVpZ2h0PSI4MHB4IiB2aWV3Qm94PSIwIDAgODAgODAiIHZlcnNpb249IjEuMSIgeG1sbnM9Imh0dHA6Ly93d3cudzMub3JnLzIwMDAvc3ZnIiB4bWxuczp4bGluaz0iaHR0cDovL3d3dy53My5vcmcvMTk5OS94bGluayI+CiAgICA8IS0tIEdlbmVyYXRvcjogU2tldGNoIDU0LjEgKDc2NDkwKSAtIGh0dHBzOi8vc2tldGNoYXBwLmNvbSAtLT4KICAgIDx0aXRsZT5Hcm91cCAzPC90aXRsZT4KICAgIDxkZXNjPkNyZWF0ZWQgd2l0aCBTa2V0Y2guPC9kZXNjPgogICAgPGcgaWQ9IkxhbmRpbmciIHN0cm9rZT0ibm9uZSIgc3Ryb2tlLXdpZHRoPSIxIiBmaWxsPSJub25lIiBmaWxsLXJ1bGU9ImV2ZW5vZGQiPgogICAgICAgIDxnIGlkPSJBcnRib2FyZCIgdHJhbnNmb3JtPSJ0cmFuc2xhdGUoLTEyMzUuMDAwMDAwLCAtNzkuMDAwMDAwKSI+CiAgICAgICAgICAgIDxnIGlkPSJHcm91cC0zIiB0cmFuc2Zvcm09InRyYW5zbGF0ZSgxMjM1LjAwMDAwMCwgNzkuMDAwMDAwKSI+CiAgICAgICAgICAgICAgICA8cG9seWdvbiBpZD0iUGF0aC0yMCIgZmlsbD0iIzAyNjVCNCIgcG9pbnRzPSIyLjM3NjIzNzYyIDgwIDM4LjA0NzY2NjcgODAgNTcuODIxNzgyMiA3My44MDU3NTkyIDU3LjgyMTc4MjIgMzIuNzU5MjczOSAzOS4xNDAyMjc4IDMxLjY4MzE2ODMiPjwvcG9seWdvbj4KICAgICAgICAgICAgICAgIDxwYXRoIGQ9Ik0zNS4wMDc3MTgsODAgQzQyLjkwNjIwMDcsNzYuNDU0OTM1OCA0Ny41NjQ5MTY3LDcxLjU0MjI2NzEgNDguOTgzODY2LDY1LjI2MTk5MzkgQzUxLjExMjI4OTksNTUuODQxNTg0MiA0MS42NzcxNzk1LDQ5LjIxMjIyODQgMjUuNjIzOTg0Niw0OS4yMTIyMjg0IEMyNS40ODQ5Mjg5LDQ5LjEyNjg0NDggMjkuODI2MTI5Niw0My4yODM4MjQ4IDM4LjY0NzU4NjksMzEuNjgzMTY4MyBMNzIuODcxMjg3MSwzMi41NTQ0MjUgTDY1LjI4MDk3Myw2Ny42NzYzNDIxIEw1MS4xMTIyODk5LDc3LjM3NjE0NCBMMzUuMDA3NzE4LDgwIFoiIGlkPSJQYXRoLTIyIiBmaWxsPSIjMDAyODY4Ij48L3BhdGg+CiAgICAgICAgICAgICAgICA8cGF0aCBkPSJNMCwzNy43MzA0NDA1IEwyNy4xMTQ1MzcsMC4yNTcxMTE0MzYgQzYyLjM3MTUxMjMsLTEuOTkwNzE3MDEgODAsMTAuNTAwMzkyNyA4MCwzNy43MzA0NDA1IEM4MCw2NC45NjA0ODgyIDY0Ljc3NjUwMzgsNzkuMDUwMzQxNCAzNC4zMjk1MTEzLDgwIEM0Ny4wNTUzNDg5LDc3LjU2NzA4MDggNTMuNDE4MjY3Nyw3MC4zMTM2MTAzIDUzLjQxODI2NzcsNTguMjM5NTg4NSBDNTMuNDE4MjY3Nyw0MC4xMjg1NTU3IDM2LjMwMzk1NDQsMzcuNzMwNDQwNSAyNS4yMjc0MTcsMzcuNzMwNDQwNSBDMTcuODQzMDU4NiwzNy43MzA0NDA1IDkuNDMzOTE5NjYsMzcuNzMwNDQwNSAwLDM3LjczMDQ0MDUgWiIgaWQ9IlBhdGgtMTkiIGZpbGw9IiMzNzkzRUYiPjwvcGF0aD4KICAgICAgICAgICAgPC9nPgogICAgICAgIDwvZz4KICAgIDwvZz4KPC9zdmc+' > </img>\n",
    "Created in <span style='font-weight:600;margin-left:4px;'>Deepnote</span></a>"
   ]
  }
 ],
 "metadata": {
  "deepnote": {},
  "deepnote_app_layout": "article",
  "deepnote_execution_queue": [],
  "deepnote_full_width": false,
  "deepnote_notebook_id": "d2078a7a688a46bf8e25624bb4718951",
  "hide_input": false,
  "kernelspec": {
   "display_name": "Python 3 (ipykernel)",
   "language": "python",
   "name": "python3"
  },
  "language_info": {
   "codemirror_mode": {
    "name": "ipython",
    "version": 3
   },
   "file_extension": ".py",
   "mimetype": "text/x-python",
   "name": "python",
   "nbconvert_exporter": "python",
   "pygments_lexer": "ipython3",
   "version": "3.9.6"
  },
  "toc": {
   "base_numbering": 1,
   "nav_menu": {},
   "number_sections": true,
   "sideBar": true,
   "skip_h1_title": false,
   "title_cell": "Table of Contents",
   "title_sidebar": "Contents",
   "toc_cell": false,
   "toc_position": {
    "height": "594px",
    "left": "234px",
    "top": "110px",
    "width": "261px"
   },
   "toc_section_display": true,
   "toc_window_display": true
  },
  "varInspector": {
   "cols": {
    "lenName": 16,
    "lenType": 16,
    "lenVar": 40
   },
   "kernels_config": {
    "python": {
     "delete_cmd_postfix": "",
     "delete_cmd_prefix": "del ",
     "library": "var_list.py",
     "varRefreshCmd": "print(var_dic_list())"
    },
    "r": {
     "delete_cmd_postfix": ") ",
     "delete_cmd_prefix": "rm(",
     "library": "var_list.r",
     "varRefreshCmd": "cat(var_dic_list()) "
    }
   },
   "types_to_exclude": [
    "module",
    "function",
    "builtin_function_or_method",
    "instance",
    "_Feature"
   ],
   "window_display": false
  }
 },
 "nbformat": 4,
 "nbformat_minor": 4
}
