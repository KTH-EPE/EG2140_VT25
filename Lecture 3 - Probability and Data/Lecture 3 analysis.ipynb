{
 "cells": [
  {
   "cell_type": "markdown",
   "metadata": {
    "cell_id": "ba9f1d03e3f44c558cc5714bdb2fd2fb",
    "deepnote_cell_height": 134,
    "deepnote_cell_type": "markdown",
    "id": "qye15xWwapSK"
   },
   "source": [
    "# Lecture 2: Forecasting and modeling"
   ]
  },
  {
   "cell_type": "markdown",
   "metadata": {
    "cell_id": "db0fd0b906c74d328c937880e024547d",
    "deepnote_cell_height": 175.59375,
    "deepnote_cell_type": "markdown",
    "tags": []
   },
   "source": [
    "## Copyright\n",
    "These notebooks, authored by Hussain Kazmi, are licensed under the AGPL License; you may not use this file except in compliance with the License. Notebooks are distributed on an \"AS IS\" BASIS, WITHOUT WARRANTIES OR CONDITIONS OF ANY KIND, either express or implied. Support from KU Leuven and InnoEnergy is gratefully acknowledged."
   ]
  },
  {
   "cell_type": "markdown",
   "metadata": {
    "cell_id": "3f91ef2744ba4895beba4e0aa7673d1b",
    "deepnote_cell_height": 97.1875,
    "deepnote_cell_type": "markdown",
    "id": "pkORL1TwapSP"
   },
   "source": [
    "This lecture is focused on developing machine learning models and using them to create forecasts for the future. Being able to accurately predict the evolution of future energy supply and demand is extremely important in practice, both during the design phase and during the operational phase."
   ]
  },
  {
   "cell_type": "code",
   "execution_count": null,
   "metadata": {
    "cell_id": "85cfeabcc4934444ba97992d600a67f8",
    "deepnote_cell_type": "code",
    "deepnote_to_be_reexecuted": false,
    "execution_millis": 51195,
    "execution_start": 1690375820467,
    "source_hash": null
   },
   "outputs": [],
   "source": [
    "# Install dependencies for this lecture\n",
    "%pip install statsmodels==0.14.0 holidays==0.29 darts==0.24.0"
   ]
  },
  {
   "cell_type": "markdown",
   "metadata": {
    "cell_id": "6d2f891390bb42a7b49eb812ffa96f47",
    "deepnote_cell_height": 419.578125,
    "deepnote_cell_type": "markdown",
    "id": "EV71vwC3apST"
   },
   "source": [
    "### [Autocorrelations](https://en.wikipedia.org/wiki/Autocorrelation) and [partial autocorrelations](https://en.wikipedia.org/wiki/Partial_autocorrelation_function)\n",
    "\n",
    "In this section, we look at how we can use autocorrelations and partial autocorrelations to better understand the periodicity in a time series using many different examples. The Autocorrelation is calculated by correlating the signal with a delayed copy of itself. Intuitively, this shows the similarity between observations as a function of the time lag between them, i.e. the periodicity in a time series. The partial autocorrelation, on the other hand, removes the effect of the interceding time steps. \n",
    "\n",
    "This section will be useful for figuring out if there is a historical component of the signal that can be used to forecast it in the future. This can specify an autoregressive (AR) model, a moving average (MA) model or a combination of the two (aptly named an ARMA model). AR models are the simplest to understand, as the output variable depends linearly on its own previous values and a random term.\n",
    "\n",
    "Note that the [frequency spectrum](https://en.wikipedia.org/wiki/Frequency_domain) is an alternative way of understanding the periodicity in a time series. However, in this section we mostly focus on the autocorrelation and the partial autocorrelation of the signal."
   ]
  },
  {
   "cell_type": "markdown",
   "metadata": {
    "cell_id": "53b937a711f64cd18827c5fefa4de63a",
    "deepnote_cell_height": 74.796875,
    "deepnote_cell_type": "markdown",
    "id": "RTXCk5_BapSU"
   },
   "source": [
    "As before, let's start by importing the necessary libraries and initializing the plots to be bigger and more legible."
   ]
  },
  {
   "cell_type": "code",
   "execution_count": null,
   "metadata": {
    "cell_id": "fd7c9f6c59ff41c2acc0ffd8411f6de1",
    "deepnote_cell_type": "code",
    "deepnote_to_be_reexecuted": false,
    "execution_millis": 8223,
    "execution_start": 1690375871529,
    "output_cleared": false,
    "source_hash": null,
    "tags": []
   },
   "outputs": [],
   "source": [
    "import numpy as np\n",
    "import matplotlib.pyplot as plt\n",
    "import pandas as pd\n",
    "import statsmodels.api as sm\n",
    "from statsmodels.tsa.seasonal import STL\n",
    "import holidays\n",
    "from darts import TimeSeries\n",
    "#from darts.models import NaiveSeasonal, Theta, RegressionModel, LightGBMModel\n",
    "#from darts.metrics import mape, rmse, mae\n",
    "\n",
    "import warnings\n",
    "\n",
    "warnings.filterwarnings(\"ignore\")\n",
    "import logging\n",
    "\n",
    "logging.disable(logging.CRITICAL)\n",
    "\n",
    "plt.rcParams['figure.figsize'] = [12, 8]\n",
    "plt.rcParams.update({'font.size': 22})"
   ]
  },
  {
   "cell_type": "markdown",
   "metadata": {
    "cell_id": "5a828d0fa3094d84b48df6c3b9c81497",
    "deepnote_cell_height": 119.59375,
    "deepnote_cell_type": "markdown",
    "id": "Tb0iztHkapSV"
   },
   "source": [
    "Instead of starting directly with a real world time series, we start with a really simple signal: a constant valued line. Think of this as a process that does not vary over time at all. Therefore, you would expect such a time series to not have any periodicity (or perfect periodicity, depending on how you look at these things)."
   ]
  },
  {
   "cell_type": "code",
   "execution_count": null,
   "metadata": {
    "ExecuteTime": {
     "end_time": "2020-07-03T19:45:53.389972Z",
     "start_time": "2020-07-03T19:45:53.387435Z"
    },
    "cell_id": "81751610ddb742af938856bde80a351c",
    "deepnote_cell_type": "code",
    "deepnote_to_be_reexecuted": false,
    "executionInfo": {
     "elapsed": 2607,
     "status": "ok",
     "timestamp": 1616105891514,
     "user": {
      "displayName": "Hussain Kazmi",
      "photoUrl": "",
      "userId": "08737583330859348176"
     },
     "user_tz": -60
    },
    "execution_millis": 38,
    "execution_start": 1690375879742,
    "id": "QIWWXz4VapSV",
    "output_cleared": false,
    "source_hash": null
   },
   "outputs": [],
   "source": [
    "constant_ts = np.ones(200)\n",
    "constant_ts"
   ]
  },
  {
   "cell_type": "markdown",
   "metadata": {
    "ExecuteTime": {
     "end_time": "2020-05-28T16:05:33.032348Z",
     "start_time": "2020-05-28T16:05:33.027291Z"
    },
    "cell_id": "c9922b92180f4277b66f80791956a41c",
    "deepnote_cell_height": 119.59375,
    "deepnote_cell_type": "markdown",
    "id": "hyVmr2FKapSV"
   },
   "source": [
    "Next, we create a function to visualize this time series (which we can then call multiple times, by simply replacing the input time series). We use matplotlib to do this, which we introduced in the previous lecture. In case you have not defined or created functions in Python before, now is a good time to review this information."
   ]
  },
  {
   "cell_type": "code",
   "execution_count": null,
   "metadata": {
    "ExecuteTime": {
     "end_time": "2020-07-03T19:45:54.591141Z",
     "start_time": "2020-07-03T19:45:54.587525Z"
    },
    "cell_id": "a4031a3e36704d3fabcd02df744cb68d",
    "deepnote_cell_type": "code",
    "deepnote_to_be_reexecuted": false,
    "executionInfo": {
     "elapsed": 2604,
     "status": "ok",
     "timestamp": 1616105891515,
     "user": {
      "displayName": "Hussain Kazmi",
      "photoUrl": "",
      "userId": "08737583330859348176"
     },
     "user_tz": -60
    },
    "execution_millis": 28,
    "execution_start": 1690375879794,
    "id": "gUNg_F4vapSV",
    "output_cleared": false,
    "source_hash": null
   },
   "outputs": [],
   "source": [
    "def plot_ts(input_ts):\n",
    "    plt.plot(input_ts)\n",
    "    plt.xlabel('Time, $t$')\n",
    "    plt.grid(True)\n",
    "    plt.show()"
   ]
  },
  {
   "cell_type": "markdown",
   "metadata": {
    "cell_id": "4aa5478988784acf9332a04f81d888bd",
    "deepnote_cell_height": 74.796875,
    "deepnote_cell_type": "markdown",
    "id": "qQQ_DGTbapSW"
   },
   "source": [
    "Now, we can call this function with different time series, and it will create a plot for it. Let's do this for our constant time series."
   ]
  },
  {
   "cell_type": "code",
   "execution_count": null,
   "metadata": {
    "ExecuteTime": {
     "end_time": "2020-07-03T19:45:55.649224Z",
     "start_time": "2020-07-03T19:45:55.367544Z"
    },
    "cell_id": "8303685dbb954410a95490e982b75351",
    "colab": {
     "base_uri": "https://localhost:8080/",
     "height": 282
    },
    "deepnote_cell_type": "code",
    "deepnote_to_be_reexecuted": false,
    "executionInfo": {
     "elapsed": 785,
     "status": "ok",
     "timestamp": 1616105893862,
     "user": {
      "displayName": "Hussain Kazmi",
      "photoUrl": "",
      "userId": "08737583330859348176"
     },
     "user_tz": -60
    },
    "execution_millis": 444,
    "execution_start": 1690375880960,
    "id": "tQpiz0wFapSW",
    "outputId": "1e2538ba-0c8e-49af-e65b-f823e6767f38",
    "output_cleared": false,
    "source_hash": null
   },
   "outputs": [],
   "source": [
    "plot_ts(constant_ts)"
   ]
  },
  {
   "cell_type": "markdown",
   "metadata": {
    "cell_id": "6b5dd79dad5b4f8382e11ceb87bbf454",
    "deepnote_cell_height": 200.78125,
    "deepnote_cell_type": "markdown",
    "id": "QLJwKfeyapSX"
   },
   "source": [
    "So far, we have not seen anything really new. However, now we are in position to calculate the autocorrelation and cross-correlation of this signal. We can calculate the autocorrelation using the _correlate_ function from numpy. However, numpy has no inbuilt function for partial autocorrelation, so we will use the statsmodels library for this (using the _pacf_ function) later on in the lecture. \n",
    "\n",
    "Note that we are passing the numpy _correlate_ function with the same time series twice. This tells the function that it needs to calculate the autocorrelation function. If you input different time series, it will simply calculate the cross-correlation between them."
   ]
  },
  {
   "cell_type": "code",
   "execution_count": null,
   "metadata": {
    "ExecuteTime": {
     "end_time": "2020-07-03T19:45:56.541948Z",
     "start_time": "2020-07-03T19:45:56.537046Z"
    },
    "cell_id": "44a1d1c12ef14a7b80e7987f210d0a81",
    "deepnote_cell_type": "code",
    "deepnote_to_be_reexecuted": false,
    "executionInfo": {
     "elapsed": 450,
     "status": "ok",
     "timestamp": 1616105894934,
     "user": {
      "displayName": "Hussain Kazmi",
      "photoUrl": "",
      "userId": "08737583330859348176"
     },
     "user_tz": -60
    },
    "execution_millis": 33,
    "execution_start": 1690375881273,
    "id": "nlF26UjmapSX",
    "output_cleared": false,
    "source_hash": null
   },
   "outputs": [],
   "source": [
    "ACF = np.correlate(constant_ts, constant_ts, mode='full')"
   ]
  },
  {
   "cell_type": "markdown",
   "metadata": {
    "cell_id": "ede201a26d21421998c27b47409db4fc",
    "deepnote_cell_height": 74.796875,
    "deepnote_cell_type": "markdown",
    "id": "oIqoQzQPapSX"
   },
   "source": [
    "Now that we have the autocorrelation function, it is a good idea to also create a function which allows us to visualize it. We do this next. Note that we need to fix "
   ]
  },
  {
   "cell_type": "code",
   "execution_count": null,
   "metadata": {
    "ExecuteTime": {
     "end_time": "2020-07-03T19:45:57.227698Z",
     "start_time": "2020-07-03T19:45:57.224081Z"
    },
    "cell_id": "a5fe7a4891f142eca2395d0841062ccb",
    "deepnote_cell_type": "code",
    "deepnote_to_be_reexecuted": false,
    "executionInfo": {
     "elapsed": 259,
     "status": "ok",
     "timestamp": 1616105895140,
     "user": {
      "displayName": "Hussain Kazmi",
      "photoUrl": "",
      "userId": "08737583330859348176"
     },
     "user_tz": -60
    },
    "execution_millis": 28,
    "execution_start": 1690375881289,
    "id": "qxCH1IKKapSX",
    "output_cleared": false,
    "source_hash": null
   },
   "outputs": [],
   "source": [
    "def plot_ACF(ACF):\n",
    "    plt.plot(range(-int(len(ACF)/2), int(len(ACF)/2)+1), ACF)\n",
    "    plt.xlabel('Autocorrelation lags')\n",
    "    plt.ylabel('ACF')\n",
    "    plt.grid(True)\n",
    "    plt.show()"
   ]
  },
  {
   "cell_type": "markdown",
   "metadata": {
    "cell_id": "c942752f1b6e4e9fbe1a2cb438cb9026",
    "deepnote_cell_type": "markdown",
    "id": "mbIqY5ODapSY"
   },
   "source": [
    "Finally, we can call this function to plot the autocorrelation function we just calculated for the constant time series."
   ]
  },
  {
   "cell_type": "code",
   "execution_count": null,
   "metadata": {
    "ExecuteTime": {
     "end_time": "2020-07-03T19:45:59.050632Z",
     "start_time": "2020-07-03T19:45:58.920548Z"
    },
    "cell_id": "67f02a5ff3944be5819edb61f7bee41a",
    "colab": {
     "base_uri": "https://localhost:8080/",
     "height": 279
    },
    "deepnote_cell_type": "code",
    "deepnote_to_be_reexecuted": false,
    "executionInfo": {
     "elapsed": 649,
     "status": "ok",
     "timestamp": 1616105895887,
     "user": {
      "displayName": "Hussain Kazmi",
      "photoUrl": "",
      "userId": "08737583330859348176"
     },
     "user_tz": -60
    },
    "execution_millis": 534,
    "execution_start": 1690375881305,
    "id": "WaqmK8LGapSY",
    "outputId": "6b19d256-b29c-46b7-d9b2-9ffbcfc63254",
    "output_cleared": false,
    "source_hash": null
   },
   "outputs": [],
   "source": [
    "plot_ACF(ACF)"
   ]
  },
  {
   "cell_type": "markdown",
   "metadata": {
    "cell_id": "9ef53d70c2ab4902b057added5a1d274",
    "deepnote_cell_height": 164.390625,
    "deepnote_cell_type": "markdown",
    "id": "AUbdsjbmapSY"
   },
   "source": [
    "Some things should be immediately clear here. The autocorrelation has a symmetric output (i.e. on either side of the zero-th lag it looks exactly the same). Consequently, the signal's autocorrelation peaks at a lag of 0, i.e. when both signals have perfect overlap. As the overlap reduces, the autocorrelation value goes down. The monotonic decrease with no spikes indicates that there is no periodic component to the time series which is hardly surprising as the time series is a constant value."
   ]
  },
  {
   "cell_type": "markdown",
   "metadata": {
    "cell_id": "cf57680b65e64aec8704629efa8f3f39",
    "deepnote_cell_height": 178.390625,
    "deepnote_cell_type": "markdown",
    "id": "blwKwTMyapSY"
   },
   "source": [
    "What happens if instead of a constant time series, we take a linearly rising time series. While this series has a trend, it does not have any periodic component either, and therefore the autocorrelation should be a monotically decreasing function again. Let's verify this before moving on to more interesting time series.\n",
    "\n",
    "Note that we use the _arange_ function from numpy to generate a monotonically increasing time series."
   ]
  },
  {
   "cell_type": "code",
   "execution_count": null,
   "metadata": {
    "ExecuteTime": {
     "end_time": "2020-07-03T19:46:03.035653Z",
     "start_time": "2020-07-03T19:46:02.899213Z"
    },
    "cell_id": "a4a57a575fa84c2bb24ae4ac8cdf4339",
    "colab": {
     "base_uri": "https://localhost:8080/",
     "height": 282
    },
    "deepnote_cell_type": "code",
    "deepnote_to_be_reexecuted": false,
    "executionInfo": {
     "elapsed": 673,
     "status": "ok",
     "timestamp": 1616105897280,
     "user": {
      "displayName": "Hussain Kazmi",
      "photoUrl": "",
      "userId": "08737583330859348176"
     },
     "user_tz": -60
    },
    "execution_millis": 1473,
    "execution_start": 1690375883104,
    "id": "2UTMp-NwapSY",
    "outputId": "a83d9b51-aa92-4b28-c375-40a2e49b4fd2",
    "output_cleared": false,
    "source_hash": null
   },
   "outputs": [],
   "source": [
    "linear_ts = np.arange(200)\n",
    "plot_ts(linear_ts)"
   ]
  },
  {
   "cell_type": "markdown",
   "metadata": {
    "cell_id": "51038afca85f4d56ac8c5757ba4d0361",
    "deepnote_cell_height": 74.796875,
    "deepnote_cell_type": "markdown",
    "id": "SRAO5BAqapSZ"
   },
   "source": [
    "And now, as before, we can use our _plot_ACF_ function to plot out the ACF of the linear_ts we have defined above."
   ]
  },
  {
   "cell_type": "code",
   "execution_count": null,
   "metadata": {
    "ExecuteTime": {
     "end_time": "2020-07-03T19:46:03.811245Z",
     "start_time": "2020-07-03T19:46:03.694219Z"
    },
    "cell_id": "ac5402f6e15b434ea2ab97a5ce6ec252",
    "colab": {
     "base_uri": "https://localhost:8080/",
     "height": 290
    },
    "deepnote_cell_type": "code",
    "deepnote_to_be_reexecuted": false,
    "executionInfo": {
     "elapsed": 517,
     "status": "ok",
     "timestamp": 1616105897481,
     "user": {
      "displayName": "Hussain Kazmi",
      "photoUrl": "",
      "userId": "08737583330859348176"
     },
     "user_tz": -60
    },
    "execution_millis": 474,
    "execution_start": 1690375885194,
    "id": "uO-1WqLnapSZ",
    "outputId": "414f7089-40c3-45fb-c4ff-c1c3cdbbc3dd",
    "output_cleared": false,
    "source_hash": null
   },
   "outputs": [],
   "source": [
    "plot_ACF(np.correlate(linear_ts, linear_ts, mode='full'))"
   ]
  },
  {
   "cell_type": "code",
   "execution_count": null,
   "metadata": {},
   "outputs": [],
   "source": [
    "def entropy4(labels, base=None):\n",
    "  value,counts = np.unique(labels, return_counts=True)\n",
    "  norm_counts = counts / counts.sum()\n",
    "  base = 2 if base is None else base\n",
    "  return -(norm_counts * np.log(norm_counts)/np.log(base)).sum()\n",
    "\n",
    "labels = linear_ts\n",
    "print (entropy4(labels))"
   ]
  },
  {
   "cell_type": "markdown",
   "metadata": {
    "cell_id": "dce97b669daf4970bc94c7d9c9e75b06",
    "deepnote_cell_height": 119.59375,
    "deepnote_cell_type": "markdown",
    "id": "iQD-sCgDapSZ"
   },
   "source": [
    "The shape of the ACF is a bit different than before, but the overall pattern remains the same which verifies our original hypothesis. Also note how we stacked multiple commands into a single line of code there. Calling a function and passing it the output of another function is fairly common practice in Python, which allows you to achieve a lot without writing lots of lines of code."
   ]
  },
  {
   "cell_type": "markdown",
   "metadata": {
    "cell_id": "9e9b530fb32245c98899aa0b45cb3aca",
    "deepnote_cell_height": 97.1875,
    "deepnote_cell_type": "markdown",
    "id": "BvRufPyjapSZ"
   },
   "source": [
    "If you are interested in judging the predictive power of past values, then you need to instead calculate the partial autocorrelation of the function, which has a more sparse representation. We can use the _statsmodels_ library for this.\n"
   ]
  },
  {
   "cell_type": "code",
   "execution_count": null,
   "metadata": {
    "ExecuteTime": {
     "end_time": "2020-07-03T19:46:05.286023Z",
     "start_time": "2020-07-03T19:46:05.137404Z"
    },
    "cell_id": "d11c57af1fcc49cb9a97f561c2c7f4e9",
    "colab": {
     "base_uri": "https://localhost:8080/",
     "height": 281
    },
    "deepnote_cell_type": "code",
    "deepnote_to_be_reexecuted": false,
    "executionInfo": {
     "elapsed": 721,
     "status": "ok",
     "timestamp": 1616105898237,
     "user": {
      "displayName": "Hussain Kazmi",
      "photoUrl": "",
      "userId": "08737583330859348176"
     },
     "user_tz": -60
    },
    "execution_millis": 747,
    "execution_start": 1690375885533,
    "id": "YX1_BWqRapSa",
    "outputId": "ba2fe625-5959-4ecf-c5e0-8eb055bf81fe",
    "output_cleared": false,
    "source_hash": null
   },
   "outputs": [],
   "source": [
    "sm.graphics.tsa.plot_pacf(linear_ts)\n",
    "plt.show()"
   ]
  },
  {
   "cell_type": "markdown",
   "metadata": {
    "cell_id": "ef9dec1cebe9414eb2e79d7e6ae83d56",
    "deepnote_cell_height": 164.390625,
    "deepnote_cell_type": "markdown",
    "id": "LL1SjdsuapSa"
   },
   "source": [
    "The partial autocorrelation funciton (or PACF) clearly shows that the value of the time series with one lag describes the time series almost perfectly. This makes intuitive sense as we had created an artificial linearly rising time series. The concept is more general however. In time series analysis, PACF plots are often used to determine the order of the AR process, i.e. how many lags in the past need to be used to describe the future evolution of a time series. In this case, we have what we call an AR(1) process."
   ]
  },
  {
   "cell_type": "markdown",
   "metadata": {
    "cell_id": "090e3c493ec5465dbf96ddbc37c488a7",
    "deepnote_cell_height": 74.796875,
    "deepnote_cell_type": "markdown",
    "id": "SvWY_Bl2apSa"
   },
   "source": [
    "Note that you can also calculate the ACF using the _statsmodels_ library as well (which is also shown below)."
   ]
  },
  {
   "cell_type": "code",
   "execution_count": null,
   "metadata": {
    "ExecuteTime": {
     "end_time": "2020-07-03T19:46:06.547204Z",
     "start_time": "2020-07-03T19:46:06.390821Z"
    },
    "cell_id": "d2609769fa164efaa7a0ab17ed74e51b",
    "colab": {
     "base_uri": "https://localhost:8080/",
     "height": 281
    },
    "deepnote_cell_type": "code",
    "deepnote_to_be_reexecuted": false,
    "executionInfo": {
     "elapsed": 626,
     "status": "ok",
     "timestamp": 1616105899766,
     "user": {
      "displayName": "Hussain Kazmi",
      "photoUrl": "",
      "userId": "08737583330859348176"
     },
     "user_tz": -60
    },
    "execution_millis": 814,
    "execution_start": 1690375886308,
    "id": "d155TrOsapSa",
    "outputId": "fc5493b2-8d4a-46ee-cc29-bf5328700ab1",
    "output_cleared": false,
    "source_hash": null
   },
   "outputs": [],
   "source": [
    "sm.graphics.tsa.plot_acf(np.arange(200))\n",
    "plt.show()"
   ]
  },
  {
   "cell_type": "markdown",
   "metadata": {
    "cell_id": "2a3a30d8bcab4464b96fb6b21e1deec4",
    "deepnote_cell_height": 321.375,
    "deepnote_cell_type": "markdown",
    "id": "A0gIMsk_apSa"
   },
   "source": [
    "Notice the difference between the ACF and the PACF? While the partial autocorrelation is extremely sparse (i.e. only one significant lag is present), the autocorrelation signal is much more spread out in terms of lags.\n",
    "\n",
    "Furthermore, you will also notice that the ACF's calculated by numpy and statsmodels are quite different. There are a few reasons for this:\n",
    "1. _statsmodels_ gets rid of one symmetric half of the ACF as it contains no new information; furthermore it also limits the amount of lags it shows which can be overridden using the _lags_ argument.\n",
    "2. _statsmodels_ uses the correlation function of _numpy_ under the hood, but adds post-processing (mostly normalization) on top of it. This is done to ensure that the ACF makes sense from a statistical perspective."
   ]
  },
  {
   "cell_type": "markdown",
   "metadata": {
    "cell_id": "441db960117d41d3864168d20cb10ef6",
    "deepnote_cell_type": "markdown",
    "id": "I5DHsiNYapSb"
   },
   "source": [
    "Now, let's look at a more interesting signal as our time series: a simple sinusoid. This sinusoidal time series does not have a trend (i.e. its mean value remains the same over time), but there is a strong periodic component. Let's create and plot our sinusoidal signal first."
   ]
  },
  {
   "cell_type": "code",
   "execution_count": null,
   "metadata": {
    "ExecuteTime": {
     "end_time": "2020-07-03T19:46:07.602094Z",
     "start_time": "2020-07-03T19:46:07.462398Z"
    },
    "cell_id": "5980f55c0fea4e76b3d4018565faf7fe",
    "colab": {
     "base_uri": "https://localhost:8080/",
     "height": 282
    },
    "deepnote_cell_type": "code",
    "deepnote_to_be_reexecuted": false,
    "executionInfo": {
     "elapsed": 602,
     "status": "ok",
     "timestamp": 1616105900285,
     "user": {
      "displayName": "Hussain Kazmi",
      "photoUrl": "",
      "userId": "08737583330859348176"
     },
     "user_tz": -60
    },
    "execution_millis": 484,
    "execution_start": 1690375887438,
    "id": "5mjueO5_apSb",
    "outputId": "81c32819-6928-4c89-dcd6-29e62d64c050",
    "output_cleared": false,
    "source_hash": null
   },
   "outputs": [],
   "source": [
    "sin_ts = np.sin(np.arange(0, 20, .05))\n",
    "plot_ts(sin_ts)"
   ]
  },
  {
   "cell_type": "markdown",
   "metadata": {
    "cell_id": "6fcde838ff3b4a9d92ca00e6bf9aa011",
    "deepnote_cell_type": "markdown",
    "id": "mjiTmI8YapSb"
   },
   "source": [
    "Now we can calculate the autocorrelation function of the sinusoid as before."
   ]
  },
  {
   "cell_type": "code",
   "execution_count": null,
   "metadata": {
    "ExecuteTime": {
     "end_time": "2020-07-03T19:46:08.228548Z",
     "start_time": "2020-07-03T19:46:08.104517Z"
    },
    "cell_id": "45e37f60a27b41c88dd59679d2bbcf14",
    "colab": {
     "base_uri": "https://localhost:8080/",
     "height": 279
    },
    "deepnote_cell_type": "code",
    "deepnote_to_be_reexecuted": false,
    "executionInfo": {
     "elapsed": 647,
     "status": "ok",
     "timestamp": 1616105901640,
     "user": {
      "displayName": "Hussain Kazmi",
      "photoUrl": "",
      "userId": "08737583330859348176"
     },
     "user_tz": -60
    },
    "execution_millis": 1283,
    "execution_start": 1690375889160,
    "id": "xFb_w3o2apSb",
    "outputId": "48f3b12a-ee9d-4322-8aee-a4e341a8e268",
    "output_cleared": false,
    "source_hash": null
   },
   "outputs": [],
   "source": [
    "plot_ACF(np.correlate(sin_ts, sin_ts, mode='full'))\n",
    "labels = sin_ts\n",
    "print (entropy4(labels))"
   ]
  },
  {
   "cell_type": "markdown",
   "metadata": {
    "cell_id": "fa222030301a428ba66e0ec7cfb90cf6",
    "deepnote_cell_type": "markdown",
    "id": "62FmM18qapSc"
   },
   "source": [
    "This looks more interesting than the ACF of linear or constant time series. The peaks in the autocorrelation represent potential periodicity in the data (the lags are typically counted from the center point). You can quickly verify this for the sinusoid. It is easy to see that the sinusoid repeats with a period of about 125 time steps. The peaks at around the 125th lag in the ACF plot reflect this.\n"
   ]
  },
  {
   "cell_type": "markdown",
   "metadata": {
    "cell_id": "ffabf24ea9414bbcbdf7a1819342c35e",
    "deepnote_cell_type": "markdown",
    "id": "yHtXZzCqapSc"
   },
   "source": [
    "This information about the periodicity in the signal can be used as a rough first measure of which points can be used to predict the future. For time series where the partial autocorrelation function coefficients do not drop off quickly (as in the case of a sinusoid), the data might exhibit nonlinear phenomena. One way to deal with is to difference the data and analyze the differenced data for correlations."
   ]
  },
  {
   "cell_type": "markdown",
   "metadata": {
    "cell_id": "4ff5ebd8be8443708948c0195be65f7c",
    "deepnote_cell_type": "markdown",
    "id": "WdA1kHVkapSc"
   },
   "source": [
    "In reality, we will usually encounter signals which are much, much more complex than pure sinusoidal waves. A mixture of sinusoids of different frequencies is a step in this direction. Such a time series is a good approximation of time series which exhibit periodicity on multiple time scales, such as solar energy production in buildings (where there is a diurnal and annual periodicity) as well as energy demand in buildings (where we have diurnal, weekly and annual periodicity).\n"
   ]
  },
  {
   "cell_type": "code",
   "execution_count": null,
   "metadata": {
    "ExecuteTime": {
     "end_time": "2020-07-03T19:46:09.585252Z",
     "start_time": "2020-07-03T19:46:09.443146Z"
    },
    "cell_id": "356a07ec51ab45bba86846cc58cf4e4e",
    "colab": {
     "base_uri": "https://localhost:8080/",
     "height": 282
    },
    "deepnote_cell_type": "code",
    "deepnote_to_be_reexecuted": false,
    "executionInfo": {
     "elapsed": 794,
     "status": "ok",
     "timestamp": 1616105902520,
     "user": {
      "displayName": "Hussain Kazmi",
      "photoUrl": "",
      "userId": "08737583330859348176"
     },
     "user_tz": -60
    },
    "execution_millis": 748,
    "execution_start": 1690375889239,
    "id": "IJ_nidnmapSc",
    "outputId": "ca64c376-de6c-4dc3-edd9-961f9db409a8",
    "output_cleared": false,
    "source_hash": null
   },
   "outputs": [],
   "source": [
    "mixed_ts = np.sin(np.arange(0, 10, .05)) + np.sin(np.arange(0, 100, .5))\n",
    "plot_ts(mixed_ts)"
   ]
  },
  {
   "cell_type": "markdown",
   "metadata": {
    "cell_id": "d52f71ca922248c8b11a0c4c5bb106ea",
    "deepnote_cell_type": "markdown",
    "id": "rK2qAcRvapSc"
   },
   "source": [
    "Now, we can calculate the ACF of the mixture of sinusoids as before. What we expect is to see the two different periodicities in the ACF clearly."
   ]
  },
  {
   "cell_type": "code",
   "execution_count": null,
   "metadata": {
    "ExecuteTime": {
     "end_time": "2020-07-03T19:46:09.938486Z",
     "start_time": "2020-07-03T19:46:09.799631Z"
    },
    "cell_id": "30f8aeb782b74e5b92ba049b04b1500b",
    "colab": {
     "base_uri": "https://localhost:8080/",
     "height": 279
    },
    "deepnote_cell_type": "code",
    "deepnote_to_be_reexecuted": false,
    "executionInfo": {
     "elapsed": 855,
     "status": "ok",
     "timestamp": 1616105906412,
     "user": {
      "displayName": "Hussain Kazmi",
      "photoUrl": "",
      "userId": "08737583330859348176"
     },
     "user_tz": -60
    },
    "execution_millis": 682,
    "execution_start": 1690375890164,
    "id": "XVROhAuqapSc",
    "outputId": "f78456b6-234a-4cbc-cf74-4285c1c3c7c4",
    "output_cleared": false,
    "source_hash": null
   },
   "outputs": [],
   "source": [
    "ACF = np.correlate(mixed_ts, mixed_ts, mode='full')\n",
    "plot_ACF(ACF)"
   ]
  },
  {
   "cell_type": "markdown",
   "metadata": {
    "cell_id": "d7efbd4fb03b4838b9f012cf6a6ec6cd",
    "deepnote_cell_type": "markdown",
    "id": "YwzPAvyYapSd"
   },
   "source": [
    "And there you have it! Using the ACF, you can clearly see that there are at least two timescales at which there is periodicity in the signal (as before, you can verify these by counting the lags at which you have peaks in your autocorrelation time series)."
   ]
  },
  {
   "cell_type": "markdown",
   "metadata": {
    "cell_id": "2ecb52ea99a7451f887ba85eaec0852b",
    "deepnote_cell_type": "markdown",
    "id": "TZ8LqW1XapSd"
   },
   "source": [
    "In addition to being composed of different frequencies (manifesting as different periodicities in the data), time series are also corrupted by different types of noise. There can be many sources and types of noise in our observations. However, in practice this noise is often modelled according to the [Gaussian distribution](https://en.wikipedia.org/wiki/Normal_distribution). We can analyze such a noise time series itself to see how its autocorrelation would look like in practice."
   ]
  },
  {
   "cell_type": "code",
   "execution_count": null,
   "metadata": {
    "ExecuteTime": {
     "end_time": "2020-07-03T19:46:10.894462Z",
     "start_time": "2020-07-03T19:46:10.723839Z"
    },
    "cell_id": "91b10fe26dae49aa8a1e6d2460289cae",
    "colab": {
     "base_uri": "https://localhost:8080/",
     "height": 282
    },
    "deepnote_cell_type": "code",
    "deepnote_to_be_reexecuted": false,
    "executionInfo": {
     "elapsed": 832,
     "status": "ok",
     "timestamp": 1616105906979,
     "user": {
      "displayName": "Hussain Kazmi",
      "photoUrl": "",
      "userId": "08737583330859348176"
     },
     "user_tz": -60
    },
    "execution_millis": 477,
    "execution_start": 1690375890912,
    "id": "TVF2fCMlapSd",
    "outputId": "82902de2-4f39-4802-f544-9a3b31adfd05",
    "output_cleared": false,
    "source_hash": null
   },
   "outputs": [],
   "source": [
    "np.random.seed(0)\n",
    "noise_ts = np.random.normal(0, 25, 200)\n",
    "plot_ts(noise_ts)"
   ]
  },
  {
   "cell_type": "markdown",
   "metadata": {
    "cell_id": "ccac6afb0d2645e7b0a90d0bbc036a28",
    "deepnote_cell_type": "markdown",
    "id": "ozbmXfM_apSd"
   },
   "source": [
    "As you would expect, Gaussian noise does not seem to have a discernible trend or periodicity to it. The random seed setter is meant to ensure reproducibility. Try the code with the same seed value for multiple runs and then change it to a different value to see this in action. Next, we calculate the ACF of this noise time series, even though we do not expect to see a strong autocorrelation peak anywhere."
   ]
  },
  {
   "cell_type": "code",
   "execution_count": null,
   "metadata": {
    "ExecuteTime": {
     "end_time": "2020-07-03T19:46:11.625156Z",
     "start_time": "2020-07-03T19:46:11.491568Z"
    },
    "cell_id": "53c0fcbb76f6495ba4ca354c6a68fd20",
    "colab": {
     "base_uri": "https://localhost:8080/",
     "height": 279
    },
    "deepnote_cell_type": "code",
    "deepnote_to_be_reexecuted": false,
    "executionInfo": {
     "elapsed": 632,
     "status": "ok",
     "timestamp": 1616105908118,
     "user": {
      "displayName": "Hussain Kazmi",
      "photoUrl": "",
      "userId": "08737583330859348176"
     },
     "user_tz": -60
    },
    "execution_millis": 1227,
    "execution_start": 1690375891670,
    "id": "FFhOPwLWapSd",
    "outputId": "2b684fd8-e416-49b7-95ef-3546c6632290",
    "output_cleared": false,
    "source_hash": null
   },
   "outputs": [],
   "source": [
    "plot_ACF(np.correlate(noise_ts, noise_ts, mode='full'))\n",
    "labels = noise_ts\n",
    "print (entropy4(labels))"
   ]
  },
  {
   "cell_type": "markdown",
   "metadata": {
    "cell_id": "696272f3e795428cabd33ebdac93c07e",
    "deepnote_cell_type": "markdown",
    "id": "_IWP1efNapSe",
    "scrolled": false
   },
   "source": [
    "As expected the autocorrelation of a noise signal is high only at the $0^{th}$ lag. Everywhere else it is close to 0. Theoretically, it should be 0 at these places, but some spurious correlations exist because of the finite duration of the time series. "
   ]
  },
  {
   "cell_type": "markdown",
   "metadata": {
    "cell_id": "025b59846bb8458a8e46aa88061ddf6c",
    "deepnote_cell_type": "text-cell-h3",
    "formattedRanges": []
   },
   "source": [
    "### Autocorrelation playground"
   ]
  },
  {
   "cell_type": "code",
   "execution_count": null,
   "metadata": {
    "cell_id": "01478b973f2e40148e0c071a6ce313e0",
    "deepnote_cell_type": "code",
    "deepnote_to_be_reexecuted": false,
    "execution_millis": 48,
    "execution_start": 1690375892000,
    "source_hash": null
   },
   "outputs": [],
   "source": [
    "def plot_autocorrelation(signal, lag):\n",
    "    original_signal = pd.Series(signal)\n",
    "    shifted_signal = original_signal.copy()\n",
    "    shifted_signal.index -= lag\n",
    "\n",
    "    ACF = np.correlate(signal, signal, mode=\"full\")\n",
    "    ACF_index = range(-int(len(ACF) / 2), int(len(ACF) / 2) + 1)\n",
    "\n",
    "    fig, axs = plt.subplots(2, 1)\n",
    "    ax0, ax1 = axs\n",
    "    ax0.plot(signal, label=\"original\", alpha=0.5)\n",
    "    ax0.plot(shifted_signal, label=\"shifted\", alpha=0.5)\n",
    "    ax0.set_xlabel('Time')\n",
    "    ax0.set_ylabel('Signal')\n",
    "    ax0.grid(True)\n",
    "    ax0.legend()\n",
    "\n",
    "    ax1.plot(ACF_index, ACF)\n",
    "    ax1.plot([lag], [ACF[ACF_index.index(lag)]], 'ro')\n",
    "    ax1.set_xlabel('Autocorrelation lags')\n",
    "    ax1.set_ylabel('ACF')\n",
    "    ax1.grid(True)\n",
    "    plt.show()"
   ]
  },
  {
   "cell_type": "code",
   "execution_count": null,
   "metadata": {
    "cell_id": "f83325f94d3f48508777052224d663ab",
    "deepnote_cell_type": "code",
    "deepnote_to_be_reexecuted": false,
    "execution_millis": 843,
    "execution_start": 1690375892025,
    "source_hash": null
   },
   "outputs": [],
   "source": [
    "plot_autocorrelation(sin_ts, -100)"
   ]
  },
  {
   "cell_type": "markdown",
   "metadata": {
    "cell_id": "d178f9ce949f40188dbf61b0a0b28664",
    "deepnote_cell_type": "markdown",
    "tags": []
   },
   "source": [
    "### Decomposition analysis\n",
    "\n"
   ]
  },
  {
   "cell_type": "markdown",
   "metadata": {
    "cell_id": "07f65faaaa004fd78aba02b1260af4e8",
    "deepnote_cell_type": "markdown",
    "tags": []
   },
   "source": [
    "A more intuitive view of time series analysis includes decomposing a time series into its constituents: a trend component, seasonality and noise. Sometimes, a cyclical component is added as well. However, there is no single way that these components can be estimated and a large variety of algorithms have been proposed for time series decomposition (although most involve some form of filtering and/or curve fitting). \n",
    "\n",
    "In this lecture, we begin with using the statsmodels library to estimate the time series components. First, let's import the necessary libraries. To run the seasonal decomposition, we use a new synthetic signal. This one is a combination of a periodic sinusoid and a linear trend."
   ]
  },
  {
   "cell_type": "code",
   "execution_count": null,
   "metadata": {
    "cell_id": "4203f9bbd3db4df1bd8051157bb837b9",
    "deepnote_cell_type": "code",
    "deepnote_to_be_reexecuted": false,
    "execution_millis": 477,
    "execution_start": 1690375892644,
    "output_cleared": false,
    "source_hash": null,
    "tags": []
   },
   "outputs": [],
   "source": [
    "rising_sin_ts = 100 * np.sin(np.arange(0, 100, .5)) + linear_ts\n",
    "plot_ts(rising_sin_ts)"
   ]
  },
  {
   "cell_type": "markdown",
   "metadata": {
    "cell_id": "1be62757a9c44654a8bbe6602ccd5d4a",
    "deepnote_cell_height": 97.1875,
    "deepnote_cell_type": "markdown",
    "tags": []
   },
   "source": [
    "We can use the seasonal_decompose function from statsmodels, however this model requires a period to be defined by the user. We can estimate this easily using the ACF though (alternatively you can also try to determine this directly via the time series))!"
   ]
  },
  {
   "cell_type": "code",
   "execution_count": null,
   "metadata": {
    "cell_id": "e133105fcd824429880ebe23b3c759cd",
    "deepnote_cell_type": "code",
    "deepnote_to_be_reexecuted": false,
    "execution_millis": 534,
    "execution_start": 1690375892944,
    "output_cleared": false,
    "source_hash": null,
    "tags": []
   },
   "outputs": [],
   "source": [
    "plot_ACF(np.correlate(rising_sin_ts, rising_sin_ts, mode='full'))\n",
    "labels = rising_sin_ts\n",
    "print (entropy4(labels))"
   ]
  },
  {
   "cell_type": "markdown",
   "metadata": {
    "cell_id": "41a29a6cfa1742659d416ea998d1e269",
    "deepnote_cell_height": 74.796875,
    "deepnote_cell_type": "markdown",
    "tags": []
   },
   "source": [
    "The period seems to be around 12 or 13, which we use in the next cell (estimated by counting the lags between subsequent peaks in the ACF plot)."
   ]
  },
  {
   "cell_type": "code",
   "execution_count": null,
   "metadata": {
    "cell_id": "d4537bb65d454f7e90b67a2c35c8ea64",
    "deepnote_cell_type": "code",
    "deepnote_to_be_reexecuted": false,
    "execution_millis": 1045,
    "execution_start": 1690375894288,
    "output_cleared": false,
    "source_hash": null,
    "tags": []
   },
   "outputs": [],
   "source": [
    "result = STL(rising_sin_ts, period=13).fit()\n",
    "_ = result.plot()"
   ]
  },
  {
   "cell_type": "markdown",
   "metadata": {
    "cell_id": "ee865a3546dd45d5b314c1c48c3a000e",
    "deepnote_cell_height": 97.1875,
    "deepnote_cell_type": "markdown",
    "tags": []
   },
   "source": [
    "And, just like magic, we have retrieved the seasonal and trend components (along with some residuals popping up due to estimation errors). Note the difference scale in the trend, seasonal and residual time series."
   ]
  },
  {
   "cell_type": "markdown",
   "metadata": {
    "cell_id": "60afa4fcb9ae41efa581e4fe1713f54f",
    "deepnote_cell_height": 54,
    "deepnote_cell_type": "markdown",
    "tags": []
   },
   "source": [
    "#### Creating scatter plots"
   ]
  },
  {
   "cell_type": "markdown",
   "metadata": {
    "cell_id": "00ad03def67048b0a2d96147b9611efd",
    "deepnote_cell_height": 97.1875,
    "deepnote_cell_type": "markdown",
    "id": "x5WG6sUFapSe"
   },
   "source": [
    "In addition to looking at the ACF and the decomposition, we can also look at the scatter plot of the time series with its one-step lag. We do this here for both the linearly rising time series (linear_ts) and the noise time series (noise_ts)."
   ]
  },
  {
   "cell_type": "code",
   "execution_count": null,
   "metadata": {
    "ExecuteTime": {
     "end_time": "2020-07-03T19:46:12.397971Z",
     "start_time": "2020-07-03T19:46:12.238519Z"
    },
    "cell_id": "517da8e63a624ce796d41332638424c4",
    "colab": {
     "base_uri": "https://localhost:8080/",
     "height": 281
    },
    "deepnote_cell_type": "code",
    "deepnote_to_be_reexecuted": false,
    "executionInfo": {
     "elapsed": 882,
     "status": "ok",
     "timestamp": 1616105909519,
     "user": {
      "displayName": "Hussain Kazmi",
      "photoUrl": "",
      "userId": "08737583330859348176"
     },
     "user_tz": -60
    },
    "execution_millis": 743,
    "execution_start": 1690375895188,
    "id": "w3bxLxGZapSe",
    "outputId": "193bb0b1-f600-426b-a0e8-1caafb982c37",
    "output_cleared": false,
    "source_hash": null
   },
   "outputs": [],
   "source": [
    "plt.scatter(linear_ts[0:-1], linear_ts[1:], s=200, alpha=.25, label='Linear')\n",
    "plt.scatter(noise_ts[0:-1], noise_ts[1:], s=200, alpha=.25, label='Noise')\n",
    "plt.xlabel('$y_t$')\n",
    "plt.ylabel('$y_{t+1}$')\n",
    "plt.grid(True)\n",
    "plt.legend()\n",
    "plt.show()"
   ]
  },
  {
   "cell_type": "markdown",
   "metadata": {
    "cell_id": "cc3b0f9a0c7f4f38a8418754e7f3438d",
    "deepnote_cell_height": 141.984375,
    "deepnote_cell_type": "markdown",
    "id": "Z4HyUSGzapSe"
   },
   "source": [
    "There is an obvious relationship between the linear time series lagged by one time-step and its future values, as you would expect. On the other hand, the noise time series has almost no relationship with its lagged values from one time step ago, i.e. the value of the signal at time step $n$ has no predictive power for the value at time step $n+1$. This information is extremely useful when we build our prediction models."
   ]
  },
  {
   "cell_type": "markdown",
   "metadata": {
    "cell_id": "9ead3785308447c3a6c06d62e78fac0d",
    "deepnote_cell_height": 197.984375,
    "deepnote_cell_type": "markdown",
    "id": "fP7eURLLapSf"
   },
   "source": [
    "#### Exercises\n",
    "1. Why does the autocorrelation function taper off? \n",
    "2. How does the autocorrelation function and decomposition of an infinitely long noise signal look like?\n",
    "3. Statsmodels includes more than one decomposition algorithms. Do you understand the difference between these?"
   ]
  },
  {
   "cell_type": "markdown",
   "metadata": {
    "cell_id": "8cd481bbd47c4f7eaa42316e54df114f",
    "deepnote_cell_height": 338.375,
    "deepnote_cell_type": "markdown",
    "id": "-LNCl4NSapSf"
   },
   "source": [
    "### Understanding the influence of exogenous variables\n",
    "In addition to the autoregressive component in a signal, exogenous variables frequently influence the trajectory of a time series. This is particularly the case for energy data which is, in large part, dependent on user behaviour and ambient conditions. Renewable energy sources, such as solar and wind, for instance, largely rely on weather conditions. Electricity demand, likewise, varies strongly with user behaviour, ambient conditions and even calendar events (weekend vs. weekday, public holiday or not). \n",
    "\n",
    "As before, we analyze this on a simulated dataset to get the general idea. Here, we create two linearly increasing datasets. However, we corrupt one of them with some additive Gaussian noise. Such a relationship between two variables is commonly seen in many cases in energy. For instance, in many cases energy demand rises sharply with rising and/or falling ambient temperature (to cope with increasing cooling or heating demand respectively)."
   ]
  },
  {
   "cell_type": "code",
   "execution_count": null,
   "metadata": {
    "ExecuteTime": {
     "end_time": "2020-07-03T19:46:13.761082Z",
     "start_time": "2020-07-03T19:46:13.621785Z"
    },
    "cell_id": "96ec74bdf66b4c169eeb65c0eb07e42b",
    "colab": {
     "base_uri": "https://localhost:8080/",
     "height": 283
    },
    "deepnote_cell_type": "code",
    "deepnote_to_be_reexecuted": false,
    "executionInfo": {
     "elapsed": 944,
     "status": "ok",
     "timestamp": 1616105910622,
     "user": {
      "displayName": "Hussain Kazmi",
      "photoUrl": "",
      "userId": "08737583330859348176"
     },
     "user_tz": -60
    },
    "execution_millis": 1516,
    "execution_start": 1690375895652,
    "id": "ziuVTTvgapSf",
    "outputId": "5fca85a5-b508-42da-8236-6f8b89f5803f",
    "output_cleared": false,
    "source_hash": null
   },
   "outputs": [],
   "source": [
    "np.random.seed(0)\n",
    "\n",
    "signal1 = np.arange(100)\n",
    "signal2 = np.arange(100) + np.random.normal(0,10,100)\n",
    "\n",
    "plt.scatter(signal1,signal2)\n",
    "plt.xlabel('Variable 1')\n",
    "plt.ylabel('Variable 2')\n",
    "plt.grid(True)\n",
    "plt.xlim(-10, 120)\n",
    "plt.ylim(-10, 120)\n",
    "plt.show()"
   ]
  },
  {
   "cell_type": "markdown",
   "metadata": {
    "cell_id": "1f70f2933fc7433f969cae7592923c46",
    "deepnote_cell_type": "markdown",
    "id": "P76PjkFYapSf"
   },
   "source": [
    "It seems that, despite the noise we introduced, there remains a substantial correlation between the two time series. As one variable increases, so does the other. One way to quantify this relationship is with the [Pearson's correlation coefficient](https://en.wikipedia.org/wiki/Pearson_correlation_coefficient). "
   ]
  },
  {
   "cell_type": "code",
   "execution_count": null,
   "metadata": {
    "ExecuteTime": {
     "end_time": "2020-07-03T19:46:14.108629Z",
     "start_time": "2020-07-03T19:46:14.096029Z"
    },
    "cell_id": "e34ae7cc213a42879214a76f7a6d7a4f",
    "colab": {
     "base_uri": "https://localhost:8080/"
    },
    "deepnote_cell_type": "code",
    "deepnote_to_be_reexecuted": false,
    "executionInfo": {
     "elapsed": 293,
     "status": "ok",
     "timestamp": 1616105910789,
     "user": {
      "displayName": "Hussain Kazmi",
      "photoUrl": "",
      "userId": "08737583330859348176"
     },
     "user_tz": -60
    },
    "execution_millis": 113,
    "execution_start": 1690375896009,
    "id": "f5bWvkD3apSf",
    "outputId": "416e2185-6948-4c89-8027-7af436877103",
    "output_cleared": false,
    "source_hash": null
   },
   "outputs": [],
   "source": [
    "np.corrcoef(signal1, signal2)"
   ]
  },
  {
   "cell_type": "markdown",
   "metadata": {
    "cell_id": "a274d03daf1c4fdb928c0973157090fd",
    "deepnote_cell_type": "markdown",
    "id": "uS5ZI60vapSf"
   },
   "source": [
    "The Pearson's correlation coefficient can theoretically take a value between -1 and +1, with -1 showing perfectly anti-correlated signals, +1 showing perfectly correlated signals and 0 showing no relationship between the two. A strong positive correlation implies that as the value of one signal increases, the other variable's value also increases. \n",
    "\n",
    "The correlation coefficient in this case is quite high at 0.94, which shows a very strong tendency for the two signals to move in tandem. This is hardly surprising, as they were both derived from the same linearly rising signal.\n",
    "\n",
    "Note that correlation does not imply causation, and even though we use correlations to predict the future, it is an inexact science. Not convinced? Take a look [here](https://tylervigen.com/page?page=1) to understand spurious correlations such as how Nicholas Cage appearing in movies has a pretty high correlation with people drowning in pools."
   ]
  },
  {
   "cell_type": "markdown",
   "metadata": {
    "cell_id": "dc0e82edac0e47bf93ff811a422b726d",
    "deepnote_cell_type": "markdown",
    "id": "udr87X7mapSg"
   },
   "source": [
    "Next, let's see how correlation works where the input and output variables have a more complex, non-linear relationship."
   ]
  },
  {
   "cell_type": "code",
   "execution_count": null,
   "metadata": {
    "ExecuteTime": {
     "end_time": "2020-07-03T19:46:15.787834Z",
     "start_time": "2020-07-03T19:46:15.659891Z"
    },
    "cell_id": "986c2614fbf541749cfc16d5eb71a9c3",
    "colab": {
     "base_uri": "https://localhost:8080/",
     "height": 279
    },
    "deepnote_cell_type": "code",
    "deepnote_to_be_reexecuted": false,
    "executionInfo": {
     "elapsed": 604,
     "status": "ok",
     "timestamp": 1616105914500,
     "user": {
      "displayName": "Hussain Kazmi",
      "photoUrl": "",
      "userId": "08737583330859348176"
     },
     "user_tz": -60
    },
    "execution_millis": 869,
    "execution_start": 1690375896010,
    "id": "GXQ-Z3PDapSh",
    "outputId": "2ea34179-b467-4285-8ad9-cd2aa6111cd3",
    "output_cleared": false,
    "source_hash": null
   },
   "outputs": [],
   "source": [
    "np.random.seed(0)\n",
    "\n",
    "signal1 = np.arange(-10, 10) \n",
    "signal2 = np.arange(-10, 10) ** 2 + np.random.normal(0, 5, 20)\n",
    "\n",
    "plt.scatter(signal1, signal2)\n",
    "plt.xlabel('Variable 1')\n",
    "plt.ylabel('Variable 2')\n",
    "plt.grid(True)\n",
    "plt.show()"
   ]
  },
  {
   "cell_type": "code",
   "execution_count": null,
   "metadata": {
    "ExecuteTime": {
     "end_time": "2020-07-03T19:46:15.862277Z",
     "start_time": "2020-07-03T19:46:15.857392Z"
    },
    "cell_id": "b1aae69054ba4117b990c2cdeccf875b",
    "colab": {
     "base_uri": "https://localhost:8080/"
    },
    "deepnote_cell_type": "code",
    "deepnote_to_be_reexecuted": false,
    "executionInfo": {
     "elapsed": 371,
     "status": "ok",
     "timestamp": 1616105914501,
     "user": {
      "displayName": "Hussain Kazmi",
      "photoUrl": "",
      "userId": "08737583330859348176"
     },
     "user_tz": -60
    },
    "execution_millis": 33,
    "execution_start": 1690375896847,
    "id": "p1-Jw2LxapSh",
    "outputId": "1e8b2f03-1f13-4b33-dc4c-c7b9d813c611",
    "output_cleared": false,
    "source_hash": null
   },
   "outputs": [],
   "source": [
    "np.corrcoef(signal1, signal2)"
   ]
  },
  {
   "cell_type": "markdown",
   "metadata": {
    "cell_id": "2cc9923fddb04a8794a42bb4dec815a5",
    "deepnote_cell_type": "markdown",
    "id": "KcejUqDsapSh"
   },
   "source": [
    "So, even though the two variables are clearly linked quadratically, the correlation coefficient comes out very low. This is because the Pearson's correlation coefficient is only valid for linear relationships as you can see here. For nonlinear relationships, Spearman's rank or Kendall's Tau coefficients can be used instead (under certain conditions)."
   ]
  },
  {
   "cell_type": "markdown",
   "metadata": {
    "cell_id": "3e25fe4ce84e4f179699ff9258c48df9",
    "deepnote_cell_type": "markdown",
    "id": "b9Lg4VFhapSh"
   },
   "source": [
    "#### Exercises\n",
    "1. What happens to the correlation coefficient as you increase the Gaussian noise strength?\n",
    "2. Fit a line (linear function) to the two plots we have created in this section using [this library](https://docs.scipy.org/doc/numpy/reference/generated/numpy.polyfit.html)\n",
    "3. Fit higher order functions (2 to 20) to the datasets using the same library (by changing the polynomial degree in the arguments). Explain what happens as you increase the order of the polynomial. Pay particular attention to regions where you have few data points and when you are extrapolating (i.e. predicting points beyond what was observed)."
   ]
  },
  {
   "cell_type": "markdown",
   "metadata": {
    "cell_id": "5f52b5582a574295a749bd5f7b374882",
    "deepnote_cell_type": "markdown",
    "tags": []
   },
   "source": [
    "## Application to Belgian electricity demand"
   ]
  },
  {
   "cell_type": "markdown",
   "metadata": {
    "cell_id": "197a9db260384c71b879f0ad3a8c137f",
    "deepnote_cell_type": "markdown",
    "tags": []
   },
   "source": [
    "Let's extend what we have seen in this lecture so far by applying it to the electricity demand in Belgium. First let's load this dataset."
   ]
  },
  {
   "cell_type": "code",
   "execution_count": null,
   "metadata": {
    "cell_id": "1d0790a66b0e490da922cc2c2412c7fe",
    "deepnote_cell_type": "code",
    "deepnote_to_be_reexecuted": false,
    "execution_millis": 32,
    "execution_start": 1690375896848,
    "output_cleared": false,
    "source_hash": null,
    "tags": []
   },
   "outputs": [],
   "source": [
    "data = pd.read_parquet('data_load_forecasts_fixed.parquet')\n",
    "data"
   ]
  },
  {
   "cell_type": "markdown",
   "metadata": {
    "cell_id": "44d4c69adb6a4c70961919c749d06fbd",
    "deepnote_cell_type": "markdown",
    "tags": []
   },
   "source": [
    "The dataframe $data$ we just loaded contains several fields. This includes the _time of observation, actual observed_ and _predicted load on the Belgian grid,_ and _the temperature._\n",
    "However, for now, we focus only on the time field (i.e. the index of the dataframe) and the Load field (which is the observed energy demand)."
   ]
  },
  {
   "cell_type": "code",
   "execution_count": null,
   "metadata": {
    "cell_id": "4853699ee2ff44aeacda69ee858f4af5",
    "deepnote_cell_type": "code",
    "deepnote_to_be_reexecuted": false,
    "execution_millis": 351,
    "execution_start": 1690375897337,
    "output_cleared": false,
    "source_hash": null,
    "tags": []
   },
   "outputs": [],
   "source": [
    "data.Load.plot()"
   ]
  },
  {
   "cell_type": "markdown",
   "metadata": {
    "cell_id": "2a1e1c113ee0471e9c04384ca549d979",
    "deepnote_cell_type": "markdown",
    "tags": []
   },
   "source": [
    "There seems to be an obvious seasonality in the data, with higher energy demand during the winter as compared to the summer. We can use tools we learned earlier in this session to understand this better. Recall the STL decomposition. As a first step, we need to estimate the periodicity in our data. Let's take a look at the ACF plot."
   ]
  },
  {
   "cell_type": "code",
   "execution_count": null,
   "metadata": {
    "cell_id": "0ae75a2cf0e44d05af140b2a32b96523",
    "deepnote_cell_type": "code",
    "deepnote_to_be_reexecuted": false,
    "execution_millis": 263,
    "execution_start": 1690375898228,
    "output_cleared": false,
    "source_hash": null,
    "tags": []
   },
   "outputs": [],
   "source": [
    "# TODO: Visualize the ACF of the data.load variable (for varying lags)"
   ]
  },
  {
   "cell_type": "markdown",
   "metadata": {
    "cell_id": "555053d5fb9941e6a0f47dcdd75a20f0",
    "deepnote_cell_type": "markdown",
    "tags": []
   },
   "source": [
    "Here you should encounter a curious problem. Previously we defined the seasonal period in our time series. Now, however, we have a different challenge. Our load time series demonstrates multiple seasonalities: daily, and weekly as visualized here, and yearly if you increase the number of lags. While there are techniques to handle this multi-seasonal effect, this is well beyond the scope of this preliminary tutorial. For now let's plot the decomposition with the weekly periodicity (a week contains 168 hours, which is what we use for our period here - since we have hourly sampled data)."
   ]
  },
  {
   "cell_type": "code",
   "execution_count": null,
   "metadata": {
    "cell_id": "e9464e1451704a9e9bacdaf8c53c1d46",
    "deepnote_cell_type": "code",
    "deepnote_to_be_reexecuted": false,
    "execution_millis": 10,
    "execution_start": 1690375898235,
    "output_cleared": false,
    "source_hash": null,
    "tags": []
   },
   "outputs": [],
   "source": [
    "# TODO: Use STL to decompose the data.Load time series with a period of 24 or 168."
   ]
  },
  {
   "cell_type": "markdown",
   "metadata": {
    "cell_id": "42650d1626a040bfbbd998f839240ca0",
    "deepnote_cell_type": "markdown",
    "tags": []
   },
   "source": [
    "You will have noticed that we also have the temperature in Leuven, Belgium as part of the dataframe. Let's see how temperature affects electricity demand. "
   ]
  },
  {
   "cell_type": "code",
   "execution_count": null,
   "metadata": {
    "cell_id": "78120cc898484d2a83581f449f945582",
    "deepnote_cell_type": "code",
    "deepnote_to_be_reexecuted": false,
    "execution_millis": 96,
    "execution_start": 1690375898258,
    "output_cleared": false,
    "source_hash": null,
    "tags": []
   },
   "outputs": [],
   "source": [
    "# TODO: Estimate the correlation between the electricity demand and temperature data"
   ]
  },
  {
   "cell_type": "code",
   "execution_count": null,
   "metadata": {
    "cell_id": "e8943ced5f3f4ec9bc54c6861b9a3473",
    "deepnote_cell_type": "code",
    "deepnote_to_be_reexecuted": false,
    "execution_millis": 15,
    "execution_start": 1690375898302,
    "output_cleared": false,
    "source_hash": null,
    "tags": []
   },
   "outputs": [],
   "source": [
    "# TODO: Plot the electricity demand as a function of the temperature to see if you can spot the relationship"
   ]
  },
  {
   "cell_type": "markdown",
   "metadata": {
    "cell_id": "bd3d0a24136644dfb44928a465eb9e71",
    "deepnote_cell_type": "markdown",
    "tags": []
   },
   "source": [
    "### Exercises\n",
    "1. Which seasonality better explain the data: 24 or 168? How can you tell?\n",
    "2. What lessons can you draw from the trend and seasonal plots? Also, can you explain the dip around new year in the trend plot, especially when using a value of 168 for period?\n",
    "3. Do you have an intuition for the high (recurring) values in the residuals plot?\n",
    "4. Does temperature influence electricity demand? Does this match your intuition?"
   ]
  },
  {
   "cell_type": "markdown",
   "metadata": {
    "created_in_deepnote_cell": true,
    "deepnote_cell_type": "markdown"
   },
   "source": [
    "<a style='text-decoration:none;line-height:16px;display:flex;color:#5B5B62;padding:10px;justify-content:end;' href='https://deepnote.com?utm_source=created-in-deepnote-cell&projectId=5e07dece-2140-4897-ae8d-a013df5eb392' target=\"_blank\">\n",
    "<img alt='Created in deepnote.com' style='display:inline;max-height:16px;margin:0px;margin-right:7.5px;' src='data:image/svg+xml;base64,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' > </img>\n",
    "Created in <span style='font-weight:600;margin-left:4px;'>Deepnote</span></a>"
   ]
  }
 ],
 "metadata": {
  "colab": {
   "name": "Lecture3 Modelling.ipynb",
   "provenance": []
  },
  "deepnote": {},
  "deepnote_execution_queue": [],
  "deepnote_notebook_id": "4dc2b62558d14dbfb62fbfd60807fe34",
  "hide_input": false,
  "kernelspec": {
   "display_name": "Python 3 (ipykernel)",
   "language": "python",
   "name": "python3"
  },
  "language_info": {
   "codemirror_mode": {
    "name": "ipython",
    "version": 3
   },
   "file_extension": ".py",
   "mimetype": "text/x-python",
   "name": "python",
   "nbconvert_exporter": "python",
   "pygments_lexer": "ipython3",
   "version": "3.9.6"
  },
  "toc": {
   "base_numbering": 1,
   "nav_menu": {},
   "number_sections": true,
   "sideBar": true,
   "skip_h1_title": false,
   "title_cell": "Table of Contents",
   "title_sidebar": "Contents",
   "toc_cell": false,
   "toc_position": {
    "height": "calc(100% - 180px)",
    "left": "10px",
    "top": "150px",
    "width": "261px"
   },
   "toc_section_display": true,
   "toc_window_display": true
  },
  "varInspector": {
   "cols": {
    "lenName": 16,
    "lenType": 16,
    "lenVar": 40
   },
   "kernels_config": {
    "python": {
     "delete_cmd_postfix": "",
     "delete_cmd_prefix": "del ",
     "library": "var_list.py",
     "varRefreshCmd": "print(var_dic_list())"
    },
    "r": {
     "delete_cmd_postfix": ") ",
     "delete_cmd_prefix": "rm(",
     "library": "var_list.r",
     "varRefreshCmd": "cat(var_dic_list()) "
    }
   },
   "types_to_exclude": [
    "module",
    "function",
    "builtin_function_or_method",
    "instance",
    "_Feature"
   ],
   "window_display": false
  }
 },
 "nbformat": 4,
 "nbformat_minor": 4
}
