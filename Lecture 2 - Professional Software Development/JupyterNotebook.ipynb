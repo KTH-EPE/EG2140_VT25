{
 "cells": [
  {
   "cell_type": "markdown",
   "metadata": {},
   "source": [
    "## Jupyter ![](Jupyter_logo.svg \"Example\") Notebooks"
   ]
  },
  {
   "cell_type": "markdown",
   "metadata": {},
   "source": [
    "Jupyter allows you to combine Markdown-formatted text with code in one big document. \n",
    "\n",
    "<br> It allows you to organize your code into cells, and add pictures, text, and other supporting material to explain it. \n",
    "\n",
    "<br> Variables in Jupyter are **Persistent**, this means once you run a cell the results will remain in memory for you to further manipulate. This is great for trying out processing pipelines, but can lead to unexpected behaviour (e.g. if you re-use a variable name).\n",
    "\n",
    "<br> It is well suited for workshops and prototyping, but less so for large coding projects. \n",
    "\n",
    "<br> A typical workflow might involve prototyping in a Jupyter Notebook and, once your function works as intended, promoting it to a dedicated Python script (.py file)."
   ]
  },
  {
   "cell_type": "markdown",
   "metadata": {},
   "source": [
    "### Launching a Jupyter Notebook\n",
    "From the command line (Powershell in Windows) run: <br>\n",
    "The '!' character allows you to run command line statements from within a notebook."
   ]
  },
  {
   "cell_type": "code",
   "execution_count": null,
   "metadata": {
    "vscode": {
     "languageId": "bat"
    }
   },
   "outputs": [],
   "source": [
    "!jupyter notebook"
   ]
  },
  {
   "cell_type": "markdown",
   "metadata": {},
   "source": [
    "Jupyter Lab is a more feature-rich server for running Jupyter Notebooks, it acts a bit like its own IDE. "
   ]
  },
  {
   "cell_type": "code",
   "execution_count": null,
   "metadata": {
    "vscode": {
     "languageId": "bat"
    }
   },
   "outputs": [],
   "source": [
    "!jupyter lab"
   ]
  },
  {
   "cell_type": "markdown",
   "metadata": {},
   "source": [
    "You can also use the '!' command to install Python packages using (e.g.) pip"
   ]
  },
  {
   "cell_type": "code",
   "execution_count": null,
   "metadata": {
    "vscode": {
     "languageId": "bat"
    }
   },
   "outputs": [],
   "source": [
    "!pip install matplotlib"
   ]
  },
  {
   "cell_type": "markdown",
   "metadata": {},
   "source": [
    "#### Example Uses\n",
    "Jupyter cells accept Python code. They also allow us to display Figures in-line"
   ]
  },
  {
   "cell_type": "code",
   "execution_count": null,
   "metadata": {},
   "outputs": [],
   "source": [
    "%matplotlib inline\n",
    "import numpy as np\n",
    "import matplotlib.pyplot as plt\n",
    "\n",
    "fig = plt.figure(figsize=(4,3))\n",
    "ax = fig.add_subplot()\n",
    "\n",
    "x = np.linspace(0, 2*np.pi, 100)\n",
    "y = np.sin(x)\n",
    "\n",
    "ax.plot(x, y)\n",
    "ax.set_xticks([0, np.pi/2, np.pi, (3/2)*np.pi, 2*np.pi], labels=[\"0\", \"π/2\", \"π\", \"(3/2)π\", \"2π\"])\n",
    "plt.show()"
   ]
  },
  {
   "cell_type": "code",
   "execution_count": null,
   "metadata": {},
   "outputs": [],
   "source": [
    "import numpy as np\n",
    "import pandas as pd\n",
    "\n",
    "df = pd.DataFrame(np.random.random(size=(100,3))*100, columns=[\"Feature1\", \"Feature2\", \"Feature3\"])\n",
    "\n",
    "# Show first X rows (5 by default)\n",
    "display(df.head())\n",
    "\n",
    "# Show last X rows (5 by default)\n",
    "display(df.tail())\n",
    "\n",
    "# Give statistical info about the data\n",
    "display(df.describe())"
   ]
  },
  {
   "cell_type": "markdown",
   "metadata": {},
   "source": [
    "Since Jupyter Notebooks are hosted in a web-browser (i.e. they use javascript under the hood) it is possible to have fun widgets for making interaction more interesting."
   ]
  },
  {
   "cell_type": "code",
   "execution_count": null,
   "metadata": {},
   "outputs": [],
   "source": [
    "import ipywidgets as widgets\n",
    "\n",
    "dog_slider = widgets.IntSlider(\n",
    "    value=7,\n",
    "    min=0,\n",
    "    max=10,\n",
    "    step=1,\n",
    "    description='No. of Dogs:',\n",
    "    disabled=False,\n",
    "    continuous_update=False,\n",
    "    orientation='horizontal',\n",
    "    readout=True,\n",
    "    readout_format='d'\n",
    ")\n",
    "output = widgets.Textarea(value=\"\", disabled=True)\n",
    "def bark(change):\n",
    "    global output\n",
    "    output.value = \"Bark \" * change.new\n",
    "\n",
    "dog_slider.observe(bark, names=\"value\")\n",
    "\n",
    "display(dog_slider, output)"
   ]
  },
  {
   "cell_type": "code",
   "execution_count": null,
   "metadata": {},
   "outputs": [],
   "source": []
  }
 ],
 "metadata": {
  "kernelspec": {
   "display_name": "venv",
   "language": "python",
   "name": "python3"
  },
  "language_info": {
   "codemirror_mode": {
    "name": "ipython",
    "version": 3
   },
   "file_extension": ".py",
   "mimetype": "text/x-python",
   "name": "python",
   "nbconvert_exporter": "python",
   "pygments_lexer": "ipython3",
   "version": "3.10.15"
  }
 },
 "nbformat": 4,
 "nbformat_minor": 2
}
